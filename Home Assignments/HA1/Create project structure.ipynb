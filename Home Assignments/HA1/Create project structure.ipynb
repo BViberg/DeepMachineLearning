{
 "cells": [
  {
   "cell_type": "markdown",
   "metadata": {},
   "source": [
    "# Create the project structure"
   ]
  },
  {
   "cell_type": "markdown",
   "metadata": {},
   "source": [
    "This notebook creates the folder structure necessary for HA1. This should be run from the same folder where the `all.zip` file you downloaded from Kaggle is."
   ]
  },
  {
   "cell_type": "code",
   "execution_count": null,
   "metadata": {},
   "outputs": [],
   "source": [
    "# For dealing with files\n",
    "import os\n",
    "import shutil\n",
    "\n",
    "# For using regex expressions\n",
    "import re\n",
    "\n",
    "# For splitting the data\n",
    "from sklearn.model_selection import train_test_split"
   ]
  },
  {
   "cell_type": "code",
   "execution_count": null,
   "metadata": {},
   "outputs": [],
   "source": [
    "if os.path.exists('test1.zip'):\n",
    "    os.remove('test1.zip')\n",
    "if os.path.exists('train.zip'):\n",
    "    os.remove('train.zip')\n",
    "if os.path.exists('test.zip'):\n",
    "    os.remove('test.zip')\n",
    "if os.path.exists('sampleSubmission.csv'):\n",
    "    os.remove('sampleSubmission.csv')\n",
    "if os.path.exists('test'):\n",
    "    shutil.rmtree('test')\n",
    "if os.path.exists('train'):\n",
    "    shutil.rmtree('train')\n",
    "\n",
    "# Depending on your machine the following might take some seconds to run\n",
    "!unzip -q all.zip\n",
    "!unzip -q test1.zip\n",
    "!unzip -q train.zip\n",
    "\n",
    "if os.name == \"nt\": # windows\n",
    "    !move test1 test\n",
    "    !del test1.zip train.zip\n",
    "else:\n",
    "    !mv test1 test\n",
    "    !rm test1.zip train.zip"
   ]
  },
  {
   "cell_type": "code",
   "execution_count": null,
   "metadata": {},
   "outputs": [],
   "source": [
    "# save where you currently are (for coming back afterwards)\n",
    "old_path = os.getcwd()\n",
    "\n",
    "# cd to train directory\n",
    "os.chdir('train')\n",
    "\n",
    "# Get a list of all filenames inside (these will be used for training and validation)\n",
    "files = os.listdir()"
   ]
  },
  {
   "cell_type": "code",
   "execution_count": null,
   "metadata": {},
   "outputs": [],
   "source": [
    "# Filter list using regex expressions\n",
    "r_cat = re.compile('cat.*.jpg')\n",
    "r_dog = re.compile('dog.*.jpg')\n",
    "all_cat_filenames = list(filter(r_cat.match, files))\n",
    "all_dog_filenames = list(filter(r_dog.match, files))\n",
    "\n",
    "print('Found {} images of cats.\\nFound {} images of dogs.'.format(len(all_cat_filenames), len(all_dog_filenames)))"
   ]
  },
  {
   "cell_type": "markdown",
   "metadata": {},
   "source": [
    "We'll create the `'small_train'` and `'small_val'` folders for a smaller subset of the original dataset (the assignment asks for 20%)."
   ]
  },
  {
   "cell_type": "code",
   "execution_count": null,
   "metadata": {},
   "outputs": [],
   "source": [
    "# Get a subset of the entire training dataset (20%)\n",
    "_, few_cat_filenames, _, few_dog_filenames = train_test_split(all_cat_filenames, \n",
    "                                                              all_dog_filenames, \n",
    "                                                              test_size=0.2, random_state=1)"
   ]
  },
  {
   "cell_type": "code",
   "execution_count": null,
   "metadata": {},
   "outputs": [],
   "source": [
    "# Split it into training and validation sets\n",
    "split_ratio_small_dataset = 0.3\n",
    "\n",
    "few_cat_filenames_train, few_cat_filenames_val, few_dog_filenames_train, few_dog_filenames_val = \\\n",
    "train_test_split(few_cat_filenames, \n",
    "              few_dog_filenames, \n",
    "              test_size = split_ratio_small_dataset,\n",
    "              random_state = 2)\n",
    "\n",
    "print('The smaller dataset will be comprised of:')\n",
    "print('Train:\\t', len(few_cat_filenames_train), 'cats and', len(few_dog_filenames_train), 'dogs.')\n",
    "print('Val:\\t', len(few_cat_filenames_val), 'cats and', len(few_dog_filenames_val), 'dogs.')"
   ]
  },
  {
   "cell_type": "code",
   "execution_count": null,
   "metadata": {},
   "outputs": [],
   "source": [
    "# Create the train and val directories and subdirectories\n",
    "if not os.path.isdir('../small_train'):\n",
    "    os.mkdir('../small_train')\n",
    "             \n",
    "if not os.path.isdir('../small_train/cats'):\n",
    "    os.mkdir('../small_train/cats')\n",
    "\n",
    "if not os.path.isdir('../small_train/dogs'):\n",
    "    os.mkdir('../small_train/dogs')\n",
    "    \n",
    "if not os.path.isdir('../small_val'):\n",
    "    os.mkdir('../small_val')\n",
    "    \n",
    "if not os.path.isdir('../small_val/cats'):\n",
    "    os.mkdir('../small_val/cats')\n",
    "\n",
    "if not os.path.isdir('../small_val/dogs'):\n",
    "    os.mkdir('../small_val/dogs')   \n",
    "    \n",
    "# Put the training and validation data in the respective folders\n",
    "for f in few_cat_filenames_train:\n",
    "    shutil.copyfile(f,'../small_train/cats/'+f)\n",
    "    \n",
    "for f in few_dog_filenames_train:\n",
    "    shutil.copyfile(f,'../small_train/dogs/'+f)   \n",
    "    \n",
    "for f in few_cat_filenames_val:\n",
    "    shutil.copyfile(f,'../small_val/cats/'+f)\n",
    "    \n",
    "for f in few_dog_filenames_val:\n",
    "    shutil.copyfile(f,'../small_val/dogs/'+f)        "
   ]
  },
  {
   "cell_type": "markdown",
   "metadata": {},
   "source": [
    "Now we create the `'val'` and `'train'` folders for the entire dataset. You need to specify the train/val split (but something reasonable)."
   ]
  },
  {
   "cell_type": "code",
   "execution_count": null,
   "metadata": {},
   "outputs": [],
   "source": [
    "# Choose\n",
    "split_ratio_big_dataset = ?\n",
    "\n",
    "# Split it\n",
    "all_cat_filenames_train, all_cat_filenames_val, all_dog_filenames_train, all_dog_filenames_val = \\\n",
    "train_test_split(all_cat_filenames,\n",
    "                 all_dog_filenames,\n",
    "                 test_size=split_ratio_big_dataset,\n",
    "                 random_state=3)\n",
    "\n",
    "print('The full dataset will be comprised of:')\n",
    "print('Train:\\t', len(all_cat_filenames_train), 'cats and', len(all_dog_filenames_train), 'dogs.')\n",
    "print('Val:\\t', len(all_cat_filenames_val), 'cats and', len(all_dog_filenames_val), 'dogs.')"
   ]
  },
  {
   "cell_type": "code",
   "execution_count": null,
   "metadata": {},
   "outputs": [],
   "source": [
    "# Create the train and val directories and subdirectories\n",
    "if not os.path.isdir('cats'):\n",
    "    os.mkdir('cats')\n",
    "\n",
    "if not os.path.isdir('dogs'):\n",
    "    os.mkdir('dogs')\n",
    "    \n",
    "if not os.path.isdir('../val'):\n",
    "    os.mkdir('../val')\n",
    "    \n",
    "if not os.path.isdir('../val/cats'):\n",
    "    os.mkdir('../val/cats')\n",
    "\n",
    "if not os.path.isdir('../val/dogs'):\n",
    "    os.mkdir('../val/dogs')   \n",
    "    \n",
    "# Put the training and validation data in the respective folders\n",
    "for f in all_cat_filenames_train:\n",
    "    shutil.move(f,'cats')\n",
    "    \n",
    "for f in all_dog_filenames_train:\n",
    "    shutil.move(f,'dogs')   \n",
    "    \n",
    "for f in all_cat_filenames_val:\n",
    "    shutil.move(f,'../val/cats/')\n",
    "    \n",
    "for f in all_dog_filenames_val:\n",
    "    shutil.move(f,'../val/dogs/')       "
   ]
  },
  {
   "cell_type": "code",
   "execution_count": null,
   "metadata": {},
   "outputs": [],
   "source": [
    "# Go back to previous location in the system\n",
    "os.chdir(old_path)"
   ]
  }
 ],
 "metadata": {
  "kernelspec": {
   "display_name": "Python 3",
   "language": "python",
   "name": "python3"
  },
  "language_info": {
   "codemirror_mode": {
    "name": "ipython",
    "version": 3
   },
   "file_extension": ".py",
   "mimetype": "text/x-python",
   "name": "python",
   "nbconvert_exporter": "python",
   "pygments_lexer": "ipython3",
   "version": "3.6.5"
  }
 },
 "nbformat": 4,
 "nbformat_minor": 2
}
