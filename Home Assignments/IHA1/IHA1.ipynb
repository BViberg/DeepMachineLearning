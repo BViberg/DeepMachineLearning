{
 "cells": [
  {
   "cell_type": "markdown",
   "metadata": {},
   "source": [
    "# IHA1 - Assignment"
   ]
  },
  {
   "cell_type": "markdown",
   "metadata": {},
   "source": [
    "Welcome to the first individual home assignment!  \n",
    "\n",
    "This assignment consists of two parts:\n",
    " * Python and NumPy exercises\n",
    " * Build a deep neural network for forward propagation\n",
    "  \n",
    "The focus of this assignment is for you to gain practical knowledge with implementing forward propagation of deep neural networks without using any deep learning framework. You will also gain practical knowledge in two of Python's scientific libraries [NumPy](https://docs.scipy.org/doc/numpy-1.13.0/index.html) and [Matplotlib](https://matplotlib.org/devdocs/index.html).  \n",
    "\n",
    "Skeleton code is provided for most tasks and every part you are expected to implement is marked with **TODO**\n",
    "\n",
    "We expect you to search and learn by yourself any commands you think are useful for these tasks. Don't limit yourself to only what was taught in CL1. Use the help function, [stackoverflow](https://stackoverflow.com/), google, the [python documentation](https://docs.python.org/3.5/library/index.html) and the [NumPy](https://docs.scipy.org/doc/numpy-1.13.0/index.html) documentation to your advantage.  \n",
    "\n",
    "**IMPORTANT NOTE**: The tests available are not exhaustive, meaning that if you pass a test you have avoided the most common mistakes, but it is still not guaranteed that you solution is 100% correct.  \n",
    "\n",
    "Lets start by importing the necessary libraries below"
   ]
  },
  {
   "cell_type": "code",
   "execution_count": 2,
   "metadata": {},
   "outputs": [],
   "source": [
    "import numpy as np\n",
    "import matplotlib.pyplot as plt\n",
    "from utils.tests.iha1Tests import *"
   ]
  },
  {
   "cell_type": "markdown",
   "metadata": {},
   "source": [
    "## 1. Lists and arrays introduction\n",
    "First, we will warm up with a Python exercise and few NumPy exercises"
   ]
  },
  {
   "cell_type": "markdown",
   "metadata": {},
   "source": [
    "### 1.1 List comprehensions\n",
    "Examine the code snippet provided below"
   ]
  },
  {
   "cell_type": "code",
   "execution_count": 3,
   "metadata": {},
   "outputs": [
    {
     "name": "stdout",
     "output_type": "stream",
     "text": [
      "[0, 4, 16, 36, 64, 100, 144, 196, 256, 324, 400, 484, 576]\n"
     ]
    }
   ],
   "source": [
    "myList = []\n",
    "for i in range(25):\n",
    "    if i % 2 == 0:\n",
    "        myList.append(i**2)\n",
    "        \n",
    "print(myList)"
   ]
  },
  {
   "cell_type": "markdown",
   "metadata": {},
   "source": [
    "This is not a very \"[pythonic](http://docs.python-guide.org/en/latest/writing/style/)\" way of writing. Lets re-write the code above using a [list comprehension](https://docs.python.org/2/tutorial/datastructures.html#list-comprehensions). The result will be less code, more readable and elegant. Your solution should be able to fit into one line of code."
   ]
  },
  {
   "cell_type": "code",
   "execution_count": 4,
   "metadata": {},
   "outputs": [
    {
     "name": "stdout",
     "output_type": "stream",
     "text": [
      "[0, 4, 16, 36, 64, 100, 144, 196, 256, 324, 400, 484, 576]\n"
     ]
    }
   ],
   "source": [
    "myList = [i**2 for i in range(0,25,2) ]\n",
    "print(myList)"
   ]
  },
  {
   "cell_type": "code",
   "execution_count": 5,
   "metadata": {},
   "outputs": [],
   "source": [
    "# sample output from cell above for reference"
   ]
  },
  {
   "cell_type": "markdown",
   "metadata": {},
   "source": [
    "### 1.2 Numpy array vs numpy vectors\n",
    "Run the cell below to create a numpy array.   "
   ]
  },
  {
   "cell_type": "code",
   "execution_count": 6,
   "metadata": {},
   "outputs": [
    {
     "name": "stdout",
     "output_type": "stream",
     "text": [
      "[  1   9  25  49  81 121 169 225 289 361 441 529]\n",
      "(12,)\n"
     ]
    }
   ],
   "source": [
    "myArr = np.array([1, 9, 25, 49, 81, 121, 169, 225, 289, 361, 441, 529])\n",
    "print(myArr)\n",
    "print(myArr.shape)"
   ]
  },
  {
   "cell_type": "markdown",
   "metadata": {},
   "source": [
    "One of the core features of numpy is to efficiently perform linear algebra operations.\n",
    "There are two types of one-dimensional representations in numpy: arrays of shape (x,) and vectors of shape (x,1)\n",
    "\n",
    "The the above result indicates that **myArr** is an array of 12 elements with shape (12,).  \n",
    "\n",
    "Numpy's arrays and vectors both have the type of `numpy.ndarray` but have in some cases different characteristics and it is important to separate the two types because it will save a lot of debugging time later on. Read more about numpy shapes [here](https://stackoverflow.com/a/22074424)   \n",
    "\n",
    "Run the code below to see how the transpose operation behaves differently between an array and vector"
   ]
  },
  {
   "cell_type": "code",
   "execution_count": 7,
   "metadata": {},
   "outputs": [
    {
     "name": "stdout",
     "output_type": "stream",
     "text": [
      "myArr is an array of shape:\n",
      "(12,)\n",
      "The transpose of myArr has the shape:\n",
      "(12,)\n",
      "myVec is a vector of shape:\n",
      "(12, 1)\n",
      "The transpose of myVec has the shape:\n",
      "(1, 12)\n"
     ]
    }
   ],
   "source": [
    "# print the shape of an array and the shape of a transposed array\n",
    "print('myArr is an array of shape:')\n",
    "print(myArr.shape)\n",
    "print('The transpose of myArr has the shape:')\n",
    "print(myArr.T.shape)\n",
    "\n",
    "# print the shape of a vector and the transpose of a vector\n",
    "myVec = myArr.reshape(12,1)\n",
    "print('myVec is a vector of shape:')\n",
    "print(myVec.shape)\n",
    "print('The transpose of myVec has the shape:')\n",
    "print(myVec.T.shape)"
   ]
  },
  {
   "cell_type": "markdown",
   "metadata": {},
   "source": [
    "### 1.3 Numpy exercises\n",
    "Now run the cell below to create the numpy array `numbers` and then complete the exercises sequentially"
   ]
  },
  {
   "cell_type": "code",
   "execution_count": 8,
   "metadata": {},
   "outputs": [
    {
     "name": "stdout",
     "output_type": "stream",
     "text": [
      "[ 0  1  2  3  4  5  6  7  8  9 10 11 12 13 14 15 16 17 18 19 20 21 22 23]\n"
     ]
    }
   ],
   "source": [
    "numbers = np.arange(24)\n",
    "print(numbers)"
   ]
  },
  {
   "cell_type": "code",
   "execution_count": 9,
   "metadata": {
    "scrolled": true
   },
   "outputs": [
    {
     "name": "stdout",
     "output_type": "stream",
     "text": [
      "[[ 0  1  2  3]\n",
      " [ 4  5  6  7]\n",
      " [ 8  9 10 11]\n",
      " [12 13 14 15]\n",
      " [16 17 18 19]\n",
      " [20 21 22 23]]\n"
     ]
    }
   ],
   "source": [
    "# Reshape numbers into a 6x4 matrix\n",
    "numbers = numbers.reshape(6,4)\n",
    "print(numbers)"
   ]
  },
  {
   "cell_type": "code",
   "execution_count": 10,
   "metadata": {
    "scrolled": true
   },
   "outputs": [],
   "source": [
    "# sample output from cell above for reference"
   ]
  },
  {
   "cell_type": "code",
   "execution_count": 11,
   "metadata": {},
   "outputs": [
    {
     "name": "stdout",
     "output_type": "stream",
     "text": [
      "Test passed\n"
     ]
    }
   ],
   "source": [
    "# test case\n",
    "test_numpy_reshape(numbers)"
   ]
  },
  {
   "cell_type": "code",
   "execution_count": 12,
   "metadata": {},
   "outputs": [
    {
     "name": "stdout",
     "output_type": "stream",
     "text": [
      "[[ 0  1  2  3]\n",
      " [ 4  5  6  7]\n",
      " [ 8  9 10 11]\n",
      " [12 13 14 15]\n",
      " [16 17 18 19]\n",
      " [20 21 22  0]]\n"
     ]
    }
   ],
   "source": [
    "# Set the element of the last row of the last column to zero\n",
    "numbers[-1,-1]=0;\n",
    "print(numbers)"
   ]
  },
  {
   "cell_type": "code",
   "execution_count": 13,
   "metadata": {},
   "outputs": [],
   "source": [
    "# sample output from cell above for reference"
   ]
  },
  {
   "cell_type": "code",
   "execution_count": 14,
   "metadata": {},
   "outputs": [
    {
     "name": "stdout",
     "output_type": "stream",
     "text": [
      "Test passed\n"
     ]
    }
   ],
   "source": [
    "# test case\n",
    "test_numpy_neg_ix(numbers)"
   ]
  },
  {
   "cell_type": "code",
   "execution_count": 15,
   "metadata": {},
   "outputs": [
    {
     "name": "stdout",
     "output_type": "stream",
     "text": [
      "[[ 0  0  0  0]\n",
      " [ 4  5  6  7]\n",
      " [ 8  9 10 11]\n",
      " [12 13 14 15]\n",
      " [16 17 18 19]\n",
      " [20 21 22  0]]\n"
     ]
    }
   ],
   "source": [
    "# Set every element of the 0th row to 0\n",
    "numbers[0,:]=0;\n",
    "print(numbers)"
   ]
  },
  {
   "cell_type": "code",
   "execution_count": 16,
   "metadata": {},
   "outputs": [],
   "source": [
    "# sample output from cell above for reference"
   ]
  },
  {
   "cell_type": "code",
   "execution_count": 17,
   "metadata": {},
   "outputs": [
    {
     "name": "stdout",
     "output_type": "stream",
     "text": [
      "Test passed\n"
     ]
    }
   ],
   "source": [
    "# test case\n",
    "test_numpy_row_ix(numbers)"
   ]
  },
  {
   "cell_type": "code",
   "execution_count": 18,
   "metadata": {},
   "outputs": [
    {
     "name": "stdout",
     "output_type": "stream",
     "text": [
      "[[ 0  0  0  0]\n",
      " [ 4  5  6  7]\n",
      " [ 8  9 10 11]\n",
      " [12 13 14 15]\n",
      " [16 17 18 19]\n",
      " [20 21 22  0]\n",
      " [ 0  0  0  0]]\n",
      "(7, 4)\n"
     ]
    }
   ],
   "source": [
    "# TODO: append a 1x4 row vector of zeros to `numbers`, \n",
    "# resulting in a 7x4 matrix where the new row of zeros is the last row\n",
    "# Hint: A new matrix must be created in the procedure. Numpy arrays are not dynamic.\n",
    "numbers = np.vstack((numbers, np.array([0,0,0,0])))\n",
    "print(numbers)\n",
    "print(numbers.shape)"
   ]
  },
  {
   "cell_type": "code",
   "execution_count": 19,
   "metadata": {},
   "outputs": [],
   "source": [
    "# sample output from cell above for reference"
   ]
  },
  {
   "cell_type": "code",
   "execution_count": 20,
   "metadata": {},
   "outputs": [
    {
     "name": "stdout",
     "output_type": "stream",
     "text": [
      "Test passed\n"
     ]
    }
   ],
   "source": [
    "# test case\n",
    "test_numpy_append_row(numbers)"
   ]
  },
  {
   "cell_type": "code",
   "execution_count": 21,
   "metadata": {},
   "outputs": [
    {
     "name": "stdout",
     "output_type": "stream",
     "text": [
      "[[ 0  0  0  0]\n",
      " [ 4  5  6  7]\n",
      " [ 8  9 10  1]\n",
      " [ 1  1  1  1]\n",
      " [ 1  1  1  1]\n",
      " [ 1  1  1  0]\n",
      " [ 0  0  0  0]]\n"
     ]
    }
   ],
   "source": [
    "# TODO: set all elements above 10 to the value 1\n",
    "numbers[numbers>10] = 1 \n",
    "print(numbers)"
   ]
  },
  {
   "cell_type": "code",
   "execution_count": 22,
   "metadata": {},
   "outputs": [],
   "source": [
    "# sample output from cell above for reference"
   ]
  },
  {
   "cell_type": "code",
   "execution_count": 23,
   "metadata": {},
   "outputs": [
    {
     "name": "stdout",
     "output_type": "stream",
     "text": [
      "Test passed\n"
     ]
    }
   ],
   "source": [
    "# test case\n",
    "test_numpy_bool_matrix(numbers)"
   ]
  },
  {
   "cell_type": "code",
   "execution_count": 24,
   "metadata": {},
   "outputs": [
    {
     "name": "stdout",
     "output_type": "stream",
     "text": [
      "(7,)\n",
      "[ 0 22 28  4  4  3  0]\n"
     ]
    }
   ],
   "source": [
    "# Compute the sum of every row and replace `numbers` with the answer\n",
    "# `numbers` will be a (7,) array as a result\n",
    "numbers = np.sum(numbers,axis=1)\n",
    "print(numbers.shape)\n",
    "print(numbers)"
   ]
  },
  {
   "cell_type": "code",
   "execution_count": 25,
   "metadata": {},
   "outputs": [],
   "source": [
    "# sample output from cell above for reference"
   ]
  },
  {
   "cell_type": "code",
   "execution_count": 26,
   "metadata": {},
   "outputs": [
    {
     "name": "stdout",
     "output_type": "stream",
     "text": [
      "Test passed\n"
     ]
    }
   ],
   "source": [
    "# test case\n",
    "test_numpy_sum(numbers)"
   ]
  },
  {
   "cell_type": "markdown",
   "metadata": {},
   "source": [
    "## 2 Building your deep neural network\n",
    "It is time to start implementing your first feed-forward neural network. In this lab you will only focus on implementing the forward propagation procedure.  \n",
    "\n",
    "When using a neural network, you can not forward propagate the entire dataset at once. Therefore, you divide the dataset into a number of sets/parts called batches. A batch will make up for the first dimension of every input to a layer and the notation `(BATCH_SIZE, NUM_FEATURES)` simply means the dimension of a batch of samples where every sample has `NUM_FEATURES` features"
   ]
  },
  {
   "cell_type": "markdown",
   "metadata": {},
   "source": [
    "### 2.1 activation functions\n",
    "You will start by defining a few activation functions that are later needed by the neural network."
   ]
  },
  {
   "cell_type": "markdown",
   "metadata": {},
   "source": [
    "#### 2.1.1 ReLU\n",
    "The neural network will use the ReLU activation function in every layer except for the last. ReLU does element-wise comparison of the input matrix. For example, if the input is `X`, and `X[i,j] == 2` and `X[k,l] == -1`, then after applying ReLU, `X[i,j] == 2` and `X[k,l] == 0` should be true.  \n",
    "\n",
    "The formula for implementing ReLU for a single neuron $i$ is:\n",
    "\\begin{equation}\n",
    "relu(z_i) = \n",
    "    \\begin{cases}\n",
    "      0, & \\text{if}\\ z_i \\leq 0 \\\\\n",
    "      z_i, & \\text{otherwise}\n",
    "    \\end{cases}\n",
    "\\end{equation}\n",
    "\n",
    "Now implement `relu` in vectorized form"
   ]
  },
  {
   "cell_type": "code",
   "execution_count": 27,
   "metadata": {},
   "outputs": [],
   "source": [
    "def relu(z):\n",
    "    \"\"\" Implement the ReLU activation function\n",
    "    \n",
    "    Arguments:\n",
    "    z - the input of the activation function. Has a type of `numpy.ndarray`\n",
    "    \n",
    "    Returns:\n",
    "    a - the output of the activation function. Has a type of numpy.ndarray and the same shape as `z`\n",
    "    \"\"\"\n",
    "\n",
    "    \n",
    "    return np.maximum(0,z)"
   ]
  },
  {
   "cell_type": "code",
   "execution_count": 28,
   "metadata": {},
   "outputs": [
    {
     "name": "stdout",
     "output_type": "stream",
     "text": [
      "Test passed\n"
     ]
    }
   ],
   "source": [
    "# test case\n",
    "test_relu(relu)"
   ]
  },
  {
   "cell_type": "markdown",
   "metadata": {},
   "source": [
    "#### 2.1.2 Sigmoid\n",
    "The sigmoid activation function is common for binary classification. This is because it squashes its input to the range [0,1].  \n",
    "Implement the activation function `sigmoid` using the formula:  \n",
    "\\begin{equation}\n",
    "    \\sigma(z) = \\frac{1}{1 + e^{-z}}\n",
    "\\end{equation}"
   ]
  },
  {
   "cell_type": "code",
   "execution_count": 29,
   "metadata": {},
   "outputs": [],
   "source": [
    "def sigmoid(z):\n",
    "    \"\"\" Implement the sigmoid activation function\n",
    "    \n",
    "    Arguments:\n",
    "    z - the input of the activation function. Has a type of `numpy.ndarray`\n",
    "    \n",
    "    Returns:\n",
    "    a - the output of the activation function. Has a type of `numpy.ndarray` and the same shape as `z`\n",
    "    \"\"\"\n",
    "    \n",
    "    a = 1/(1+np.exp(-z))\n",
    "    \n",
    "    return a"
   ]
  },
  {
   "cell_type": "code",
   "execution_count": 30,
   "metadata": {},
   "outputs": [
    {
     "name": "stdout",
     "output_type": "stream",
     "text": [
      "Test passed\n"
     ]
    }
   ],
   "source": [
    "# test case\n",
    "test_sigmoid(sigmoid)"
   ]
  },
  {
   "cell_type": "markdown",
   "metadata": {},
   "source": [
    "#### 2.1.3 Visualization\n",
    "Make a plot using matplotlib to visualize the activation functions between the input interval [-3,3]. The plot should have the following properties\n",
    " * one plot should contain a visualization of both `ReLU` and `sigmoid`\n",
    " * x-axis: range of values between [-3,3], **hint**: np.linspace\n",
    " * y-axis: the value of the activation functions at a given input `x`\n",
    " * a legend explaining which line represents which activation function"
   ]
  },
  {
   "cell_type": "code",
   "execution_count": 31,
   "metadata": {},
   "outputs": [
    {
     "data": {
      "image/png": "[encoded data removed]",
      "text/plain": [
       "<Figure size 432x288 with 1 Axes>"
      ]
     },
     "metadata": {},
     "output_type": "display_data"
    }
   ],
   "source": [
    "# A plot of ReLU and sigmoid values in the interval [-3,3]\n",
    "from matplotlib import pyplot as plt\n",
    "%matplotlib inline\n",
    "import numpy as np\n",
    "fig,axes = plt.subplots()\n",
    "xData = np.linspace(-3,3)\n",
    "yRelu = relu(xData)\n",
    "ySigmoid = sigmoid(xData)\n",
    "hRelu, = plt.plot(xData,yRelu,label='relu')\n",
    "hSigmoid, = plt.plot(xData,ySigmoid,label='sigmoid')\n",
    "plt.legend(handles=(hRelu,hSigmoid),loc=0);"
   ]
  },
  {
   "cell_type": "code",
   "execution_count": 32,
   "metadata": {},
   "outputs": [],
   "source": [
    "# sample output from cell above for reference"
   ]
  },
  {
   "cell_type": "markdown",
   "metadata": {},
   "source": [
    "#### 2.1.4 Softmax\n",
    "You will use the softmax activation function / classifier as the final layer of your neural network later in the assignment. Implement `softmax` according the the formula below. The subtraction of the maximum value is there solely to avoid overflows in a practical implementation.\n",
    "\\begin{equation}\n",
    "softmax(z_i) = \\frac{e^{z_i - max(\\mathbf{z})}}{ \\sum^j e^{z_j - max(\\mathbf{z})}}\n",
    "\\end{equation}\n"
   ]
  },
  {
   "cell_type": "code",
   "execution_count": 33,
   "metadata": {},
   "outputs": [],
   "source": [
    "def softmax(z):\n",
    "    \"\"\" Implement the softmax activation function\n",
    "    \n",
    "    Arguments:\n",
    "    z - the input of the activation function, shape (BATCH_SIZE, FEATURES) and type `numpy.ndarray`\n",
    "    \n",
    "    Returns:\n",
    "    a - the output of the activation function, shape (BATCH_SIZE, FEATURES) and type numpy.ndarray\n",
    "    \"\"\"\n",
    "    # Store maximum value of z\n",
    "    zMax = np.max(z);\n",
    "\n",
    "    # Preallocate a\n",
    "    a = np.empty(z.shape);\n",
    "    print(z)\n",
    "    for c,zColumn in enumerate(z):\n",
    "        print(zColumn)\n",
    "        print(np.exp(zColumn-zMax))\n",
    "        a[c,:] = np.exp(zColumn-zMax);\n",
    "        a[c,:] =a[c,:]/np.sum(a[c,:]);\n",
    "    return a"
   ]
  },
  {
   "cell_type": "code",
   "execution_count": 34,
   "metadata": {},
   "outputs": [
    {
     "name": "stdout",
     "output_type": "stream",
     "text": [
      "[[0 0]]\n",
      "[0 0]\n",
      "[1. 1.]\n",
      "[[1 1]]\n",
      "[1 1]\n",
      "[1. 1.]\n",
      "[[1.    0.001]]\n",
      "[1.    0.001]\n",
      "[1.        0.3682475]\n",
      "[[3.  1.  0.2]]\n",
      "[3.  1.  0.2]\n",
      "[1.         0.13533528 0.06081006]\n",
      "[[1 2 3 6]\n",
      " [2 4 5 6]\n",
      " [3 8 7 6]]\n",
      "[1 2 3 6]\n",
      "[0.00091188 0.00247875 0.00673795 0.13533528]\n",
      "[2 4 5 6]\n",
      "[0.00247875 0.01831564 0.04978707 0.13533528]\n",
      "[3 8 7 6]\n",
      "[0.00673795 1.         0.36787944 0.13533528]\n",
      "[[0.31323624 0.7810351  0.26183059 0.09174578 0.09806706]\n",
      " [0.28981829 0.03154328 0.99442807 0.4591928  0.42556593]\n",
      " [0.06799825 0.89438807 0.68276332 0.89185543 0.37638809]\n",
      " [0.49131144 0.03873597 0.91306311 0.2533448  0.24115072]\n",
      " [0.38297911 0.23184308 0.88202174 0.42546236 0.78325552]]\n",
      "[0.31323624 0.7810351  0.26183059 0.09174578 0.09806706]\n",
      "[0.50601355 0.80783862 0.48065887 0.40548058 0.40805186]\n",
      "[0.28981829 0.03154328 0.99442807 0.4591928  0.42556593]\n",
      "[0.49430142 0.38178991 1.         0.58553152 0.56616929]\n",
      "[0.06799825 0.89438807 0.68276332 0.89185543 0.37638809]\n",
      "[0.39596486 0.90480123 0.73222697 0.90251259 0.53899985]\n",
      "[0.49131144 0.03873597 0.91306311 0.2533448  0.24115072]\n",
      "[0.60464327 0.38454591 0.92185719 0.47659735 0.47082098]\n",
      "[0.38297911 0.23184308 0.88202174 0.42546236 0.78325552]\n",
      "[0.54256415 0.46645908 0.89368105 0.56611066 0.80963435]\n",
      "Test passed\n"
     ]
    }
   ],
   "source": [
    "# test case\n",
    "test_softmax(softmax)"
   ]
  },
  {
   "cell_type": "markdown",
   "metadata": {},
   "source": [
    "### 2.2 Initialize weights\n",
    "You will implement a helper function that takes the shape of a layer as input, and returns an initialized weight matrix $\\mathbf{W}$ and bias vector $\\mathbf{b}$ as output. $\\mathbf{W}$ should be sampled from a normal distribution of mean 0 and standard deviation 2, and $\\mathbf{b}$ should be initialized to all zeros."
   ]
  },
  {
   "cell_type": "code",
   "execution_count": 35,
   "metadata": {},
   "outputs": [],
   "source": [
    "def initialize_weights(layer_shape):\n",
    "    \"\"\" Implement initialization of the weight matrix and biases\n",
    "    \n",
    "    Arguments:\n",
    "    layer_shape - a tuple of length 2, type (int, int), that determines the dimensions of the weight matrix: (input_dim, output_dim)\n",
    "    \n",
    "    Returns:\n",
    "    w - a weight matrix with dimensions of `layer_shape`, (input_dim, output_dim), that is normally distributed with\n",
    "        properties mu = 0, stddev = 2. Has a type of `numpy.ndarray`\n",
    "    b - a vector of initialized biases with shape (1,output_dim), all of value zero. Has a type of `numpy.ndarray`\n",
    "    \"\"\"\n",
    "    w = np.random.normal(loc=0,scale=2,size=layer_shape) \n",
    "    b = np.zeros((1,layer_shape[1]))\n",
    "    \n",
    "    return w, b"
   ]
  },
  {
   "cell_type": "code",
   "execution_count": 36,
   "metadata": {},
   "outputs": [
    {
     "name": "stdout",
     "output_type": "stream",
     "text": [
      "Test passed\n"
     ]
    }
   ],
   "source": [
    "# test case\n",
    "test_initialize_weights(initialize_weights)"
   ]
  },
  {
   "cell_type": "markdown",
   "metadata": {},
   "source": [
    "### 2.3 Feed-forward neural network layer module\n",
    "To build a feed-forward neural network of arbitrary depth you are going to define a neural network layer as a module that can be used to stack upon eachother.  \n",
    "\n",
    "Your task is to complete the `Layer` class by following the descriptions in the comments.  \n",
    "\n",
    "Recall the formula for forward propagation of an arbitrary layer $l$:\n",
    "\n",
    "\\begin{equation}\n",
    "\\mathbf{a}^{[l]} = g(\\mathbf{z}^{[l]}) = g(\\mathbf{a}^{[l-1]}\\mathbf{w}^{[l]} +\\mathbf{b}^{[l]})\n",
    "\\end{equation}\n",
    "\n",
    "$g$ is the activation function given by `activation_fn`, which can be relu, sigmoid or softmax. "
   ]
  },
  {
   "cell_type": "code",
   "execution_count": 37,
   "metadata": {},
   "outputs": [],
   "source": [
    "import numpy as np \n",
    "class Layer:\n",
    "    \"\"\" \n",
    "    TODO: Build a class called Layer that satisfies the descriptions of the methods\n",
    "    Make sure to utilize the helper functions you implemented before\n",
    "    \"\"\"\n",
    "    \n",
    "    def __init__(self, input_dim, output_dim, activation_fn=relu):\n",
    "        \"\"\"\n",
    "        Arguments:\n",
    "        input_dim - the number of inputs of the layer. type int\n",
    "        output_dim - the number of outputs of the layer. type int\n",
    "        activation_fn - a reference to the activation function to use. Should be `relu` as a default\n",
    "                        possible values are the `relu`, `sigmoid` and `softmax` functions you implemented earlier.\n",
    "                        Has the type `function`\n",
    "        \n",
    "        Attributes:\n",
    "        w - the weight matrix of the layer, should be initialized with `initialize_weights`\n",
    "            and has the shape (INPUT_FEATURES, OUTPUT_FEATURES) and type `numpy.ndarray`\n",
    "        b - the bias vector of the layer, should be initialized with `initialize_weights`\n",
    "            and has the shape (1, OUTPUT_FEATURES) and type `numpy.ndarray`\n",
    "        activation_fn - a reference to the activation function to use.\n",
    "                        Has the type `function`\n",
    "        \"\"\"\n",
    "        self.w, self.b = initialize_weights((input_dim, output_dim))\n",
    "        \n",
    "        self.activation_fn = activation_fn\n",
    "        \n",
    "    def forward_prop(self, a_prev):\n",
    "        \"\"\" Implement the forward propagation module of the neural network layer\n",
    "        Should use whatever activation function that `activation_fn` references to\n",
    "        \n",
    "        Arguments:\n",
    "        a_prev - the input to the layer, which may be the data `X`, or the output from the previous layer.\n",
    "            a_prev has the shape of (BATCH_SIZE, INPUT_FEATURES) and the type `numpy.ndarray`\n",
    "        \n",
    "        Returns:\n",
    "        a - the output of the layer when performing forward propagation. Has the type `numpy.ndarray`\n",
    "        \"\"\"\n",
    "        z = np.matmul(a_prev,self.w)+self.b\n",
    "        a = self.activation_fn(z);\n",
    "        \n",
    "        return a"
   ]
  },
  {
   "cell_type": "code",
   "execution_count": 38,
   "metadata": {},
   "outputs": [
    {
     "name": "stdout",
     "output_type": "stream",
     "text": [
      "[[ 1.68047376 -2.14613104  1.00556785 -1.255238  ]\n",
      " [ 2.93861903 -2.0227981  -0.01599629 -2.02901342]\n",
      " [ 2.3772233  -4.38036742  2.80134077 -1.90467409]]\n",
      "[ 1.68047376 -2.14613104  1.00556785 -1.255238  ]\n",
      "[0.28418062 0.00619043 0.144706   0.01508798]\n",
      "[ 2.93861903 -2.0227981  -0.01599629 -2.02901342]\n",
      "[1.         0.007003   0.0520987  0.00695961]\n",
      "[ 2.3772233  -4.38036742  2.80134077 -1.90467409]\n",
      "[5.70412365e-01 6.62833689e-04 8.71727631e-01 7.88105806e-03]\n",
      "Test passed\n"
     ]
    }
   ],
   "source": [
    "# test case, be sure that you pass the previous activation function tests before running this test\n",
    "test_layer(Layer, relu, sigmoid, softmax)"
   ]
  },
  {
   "cell_type": "markdown",
   "metadata": {},
   "source": [
    "### 2.4 Logistic regression \n",
    "Binary logistic regression is a classifier where classification is performed by applying the sigmoid activation function to a linear combination of input values. You will now try out your neural network layer by utilizing it as a linear combination of input values and apply the sigmoid activation function to classify a simple problem. \n",
    "\n",
    "The cell below defines a dataset of 5 points of either class `0` or class `1`. Your assignment is to:  \n",
    "1. Create an instance of a `Layer` with sigmoid activation function  \n",
    "2. Manually tune the weights `w` and `b` of your layer\n",
    "\n",
    "You can use `test_logistic` to visually inspect how your classifier is performing."
   ]
  },
  {
   "cell_type": "code",
   "execution_count": 39,
   "metadata": {},
   "outputs": [
    {
     "data": {
      "image/png": "[encoded data removed]",
      "text/plain": [
       "<Figure size 864x360 with 2 Axes>"
      ]
     },
     "metadata": {},
     "output_type": "display_data"
    }
   ],
   "source": [
    "# Run this cell to create the dataset\n",
    "X_s = np.array([[1, 2],\n",
    "               [5, 3],\n",
    "               [8, 8],\n",
    "               [7, 5],\n",
    "               [3, 6]])\n",
    "Y_s = np.array([0,0,1,0,1])\n",
    "\n",
    "test_logistic(X_s, Y_s)"
   ]
  },
  {
   "cell_type": "code",
   "execution_count": 40,
   "metadata": {},
   "outputs": [
    {
     "data": {
      "image/png": "[encoded data removed]",
      "text/plain": [
       "<Figure size 864x360 with 2 Axes>"
      ]
     },
     "metadata": {},
     "output_type": "display_data"
    },
    {
     "name": "stdout",
     "output_type": "stream",
     "text": [
      "test passed!\n"
     ]
    }
   ],
   "source": [
    "# create an instance of layer\n",
    "l = Layer(2,1,sigmoid)\n",
    "# Manually tune weights and bias  i.e. find parameters such that the different classes are separated on different sides of the line descrived by those param \n",
    "l.w = np.array([[-1],[2]])\n",
    "l.b = -6;\n",
    "\n",
    "# testing your choice of weights with this function\n",
    "test_logistic(X_s,Y_s,l,sigmoid)"
   ]
  },
  {
   "cell_type": "code",
   "execution_count": 41,
   "metadata": {},
   "outputs": [],
   "source": [
    "# sample output from cell above for reference"
   ]
  },
  {
   "cell_type": "markdown",
   "metadata": {},
   "source": [
    "### 2.5 Feed-forward neural network\n",
    "Now define the actual neural network class. It is an L-layer neural network, meaning that the number of layers and neurons in each layer is specified as input by the user. Once again, you will only focus on implementing the forward propagation part.\n",
    "\n",
    "Read the descriptions in the comments and complete the todos  "
   ]
  },
  {
   "cell_type": "code",
   "execution_count": 42,
   "metadata": {},
   "outputs": [],
   "source": [
    "class NeuralNetwork:\n",
    "    \"\"\" \n",
    "    Implement an L-layer neural network class by utilizing the Layer module defined above \n",
    "    Each layer should use `relu` activation function, except for the output layer, which should use `softmax`\n",
    "    \"\"\"\n",
    "    \n",
    "    def __init__(self, input_n, layer_dims):\n",
    "        \"\"\"\n",
    "        Arguments:\n",
    "        input_n    - the number of inputs to the network. Should be the same as the length of a data sample\n",
    "                     Has type int\n",
    "        layer_dims - a python list or tuple of the number of neurons in each layer. Layer `l` should have a weight matrix  \n",
    "                     with the shape (`layer_dims[l-1]`, `layer_dims[l]`). \n",
    "                     `layer_dims[-1]` is the dimension of the output layer.\n",
    "                     Layer 1 should have the dimensions (`input_n`, `layer_dims[0]`).\n",
    "                     len(layer_dims) is the depth of the neural network\n",
    "        Attributes:\n",
    "        input_n - the number of inputs to the network. Has type int\n",
    "        layers  - a python list of each layer in the network. Each layer should use the `relu` activation function,\n",
    "                  except for the last layer, which should use `softmax`. \n",
    "                  Has type `list` containing layers of type `Layer`\n",
    "        \"\"\"\n",
    "        Layers = [None]*(len(layer_dims))\n",
    "        Layers[0] = Layer( input_n, layer_dims[0], activation_fn=relu)\n",
    "        \n",
    "        for l in range(1,len(layer_dims)-1):\n",
    "            Layers[l] = Layer( layer_dims[l-1], layer_dims[l], activation_fn=relu)\n",
    "        Layers[-1] = Layer( layer_dims[-2], layer_dims[-1], activation_fn=softmax)\n",
    "        \n",
    "        self.input_n = input_n\n",
    "        self.layers = Layers\n",
    "        \n",
    "    def forward_prop(self, x):\n",
    "        \"\"\" \n",
    "        Implement the forward propagation procedure through the entire network, from input to output.\n",
    "        You will now connect each layer's forward propagation function into a chain of layer-wise forward propagations.\n",
    "        \n",
    "        Arguments:\n",
    "        x - the input data, which has the shape (BATCH_SIZE, NUM_FEATURES) and type `numpy.ndarray`\n",
    "        \n",
    "        Returns:\n",
    "        a - the output of the last layer after forward propagating through the every layer in `layers`.\n",
    "            Should have the dimension (BATCH_SIZE, layers[-1].w.shape[1]) and type `numpy.ndarray`\n",
    "        \"\"\"\n",
    "        for layer in self.layers:\n",
    "            x = layer.forward_prop(x)\n",
    "        a=x\n",
    "        return a"
   ]
  },
  {
   "cell_type": "code",
   "execution_count": 43,
   "metadata": {},
   "outputs": [
    {
     "name": "stdout",
     "output_type": "stream",
     "text": [
      "[[ 4.70955644 -2.05463245  0.86114311]\n",
      " [ 1.48952066 -0.64983136  0.27235908]]\n",
      "[ 4.70955644 -2.05463245  0.86114311]\n",
      "[1.         0.00115438 0.02131353]\n",
      "[ 1.48952066 -0.64983136  0.27235908]\n",
      "[0.03995363 0.00470378 0.01182904]\n",
      "Test passed\n"
     ]
    }
   ],
   "source": [
    "# test case\n",
    "test_neuralnetwork(NeuralNetwork)"
   ]
  },
  {
   "cell_type": "markdown",
   "metadata": {},
   "source": [
    "## 3 Making predictions with a neural network\n",
    "In practice, its common to load weights to your neural network that has already been trained.  \n",
    "In this section, you will create an instance of your neural network, load trained weights from disk, and perform predictions.\n",
    "\n",
    "### 3.1 Load weights from disk\n",
    "Create an instance of `NeuralNetwork` with input size $28 \\times 28 = 784$, two hidden layers of size 100 and an output layer of size 10. Thereafter, load the weights contained in `./utils/ann_weights.npz` to your network."
   ]
  },
  {
   "cell_type": "code",
   "execution_count": 44,
   "metadata": {},
   "outputs": [],
   "source": [
    "ann = NeuralNetwork(input_n=784, layer_dims=(100,100,10)) # Create instance of ann\n",
    "\n",
    "# load weights\n",
    "weights = np.load('./utils/ann_weights.npz')\n",
    "for l in range(len(ann.layers)):\n",
    "    ann.layers[l].w = weights['w' + str(l)]\n",
    "    ann.layers[l].b = weights['b' + str(l)]"
   ]
  },
  {
   "cell_type": "markdown",
   "metadata": {},
   "source": [
    "### 3.2 Prediction\n",
    "Now, implement the function `predict_and_correct` which does the following:\n",
    "1. Load `./utils/test_data.npz` from disk\n",
    "2. Extract test data `X` and `Y` from file\n",
    "2. Perform for every pair of data:  \n",
    "    a. plot the image `x`  \n",
    "    b. make a prediction using your neural network by forward propagating and picking the most probable class  \n",
    "    c. check wether the prediction is correct (compare with the ground truth number `y`)   \n",
    "    d. print the predicted label and wether it was correct or not "
   ]
  },
  {
   "cell_type": "code",
   "execution_count": 45,
   "metadata": {},
   "outputs": [
    {
     "name": "stdout",
     "output_type": "stream",
     "text": [
      "[[ 1.23940105e+02 -5.58994052e+02  2.74824509e+02  9.97710682e+01\n",
      "  -4.43150928e+02  8.12323605e+01 -6.98571305e+02  3.32128642e+02\n",
      "   2.08931358e+02  1.90639311e+02]\n",
      " [ 2.43513456e+02  2.97533968e+02  2.79112003e+02  3.32743341e+02\n",
      "  -5.22178185e+00  2.92466366e+02 -4.50349454e+02 -2.45839430e-01\n",
      "   6.34659412e+01  2.72811081e+02]\n",
      " [ 3.93982280e+00  3.87882088e+00  4.11668382e+00  5.64765598e+00\n",
      "   5.18803709e+00  4.00387325e+00  2.23020938e+00  3.05173253e+00\n",
      "   5.43248593e+00  7.12566561e+00]\n",
      " [ 1.60189770e+02  3.95475322e+01  5.68023653e+01  1.18798970e+02\n",
      "  -6.74265722e+01  2.13656352e+02 -9.94985629e+01  1.76685562e+02\n",
      "   9.80784504e+01  1.19944236e+02]\n",
      " [-1.65214007e+02 -7.41786174e+02  1.52049970e+02  9.73450115e+01\n",
      "  -3.88378362e+02  1.83553439e+02 -4.47669517e+02  5.80849747e+02\n",
      "   8.54075649e+01  1.76821258e+01]\n",
      " [ 8.04530515e+01  7.22193318e+01  7.54598275e+01  6.17360760e+01\n",
      "   8.13738257e+01  7.79060822e+01  9.24963385e+01 -4.94218986e+01\n",
      "   5.83162306e+01 -1.71132346e+01]\n",
      " [ 5.18400720e+01  4.65311023e+01  4.89711126e+01  4.03947106e+01\n",
      "   5.26271294e+01  5.06335268e+01  5.95748266e+01 -3.37198011e+01\n",
      "   3.90400560e+01 -1.09432453e+01]\n",
      " [ 2.95153693e+02  3.60595912e+02  3.38069464e+02  4.02870796e+02\n",
      "  -6.32987967e+00  3.54201465e+02 -5.45502057e+02  7.56309334e-01\n",
      "   7.60998463e+01  3.30465352e+02]\n",
      " [-4.32908054e+01 -1.88026111e+01  8.40957394e-01 -1.74796640e+01\n",
      "  -3.52265457e+01 -2.02983859e+01 -2.43944457e+01 -1.61523890e+01\n",
      "  -3.45686110e+01 -1.32161585e+02]\n",
      " [ 1.02207642e+02  1.68250220e+02  1.30809147e+02  1.59149526e+02\n",
      "  -1.05557851e+01  1.60177292e+02 -3.06031128e+02 -2.62176519e+00\n",
      "   2.46672844e+01  1.37216320e+02]\n",
      " [ 2.61742090e+02  3.19663397e+02  2.99746795e+02  3.57287552e+02\n",
      "  -4.98147730e+00  3.14012025e+02 -4.82602611e+02  1.06027931e+00\n",
      "   6.79949838e+01  2.93377027e+02]]\n",
      "[ 123.94010538 -558.9940523   274.82450865   99.77106821 -443.15092766\n",
      "   81.23236055 -698.57130532  332.12864235  208.93135761  190.63931132]\n",
      "[3.68692322e-199 0.00000000e+000 1.24430785e-133 1.17539712e-209\n",
      " 0.00000000e+000 1.04454265e-217 0.00000000e+000 9.58952064e-109\n",
      " 3.00535617e-162 3.41791439e-170]\n",
      "[ 2.43513456e+02  2.97533968e+02  2.79112003e+02  3.32743341e+02\n",
      " -5.22178185e+00  2.92466366e+02 -4.50349454e+02 -2.45839430e-01\n",
      "  6.34659412e+01  2.72811081e+02]\n",
      "[3.13841685e-147 9.06819165e-124 9.05655037e-132 1.77319778e-108\n",
      " 2.96735289e-255 5.71069601e-126 0.00000000e+000 4.29925826e-253\n",
      " 2.00940884e-225 1.66152634e-134]\n",
      "[3.9398228  3.87882088 4.11668382 5.64765598 5.18803709 4.00387325\n",
      " 2.23020938 3.05173253 5.43248593 7.12566561]\n",
      "[2.82620423e-251 2.65895353e-251 3.37297646e-251 1.55921524e-250\n",
      " 9.84682281e-251 3.01314688e-251 5.11361312e-252 1.16281557e-251\n",
      " 1.25735788e-250 6.83592824e-250]\n",
      "[160.18976968  39.54753216  56.80236525 118.79897014 -67.4265722\n",
      " 213.65635249 -99.49856287 176.68556226  98.0784504  119.94423565]\n",
      "[2.04029643e-183 8.23067078e-236 2.56515747e-228 2.15723486e-201\n",
      " 2.86531256e-282 3.38793565e-160 3.37662965e-296 2.97663075e-176\n",
      " 2.16316698e-210 6.78078417e-201]\n",
      "[-165.21400703 -741.78617407  152.04996993   97.34501154 -388.3783621\n",
      "  183.55343861 -447.66951735  580.84974659   85.40756488   17.68212577]\n",
      "[0.00000000e+000 0.00000000e+000 5.95145503e-187 1.03887093e-210\n",
      " 0.00000000e+000 2.86026165e-173 0.00000000e+000 1.00000000e+000\n",
      " 6.79507702e-216 2.62669647e-245]\n",
      "[ 80.45305148  72.21933185  75.45982747  61.73607601  81.37382574\n",
      "  77.90608218  92.49633854 -49.42189857  58.31623055 -17.11323464]\n",
      "[4.79155580e-218 1.27238210e-221 3.25047565e-220 3.56284876e-226\n",
      " 1.20327179e-217 3.75268266e-219 8.14347313e-213 1.89017671e-274\n",
      " 1.16567471e-227 2.03224877e-260]\n",
      "[ 51.84007203  46.53110225  48.97111261  40.39471057  52.62712941\n",
      "  50.63352677  59.57482662 -33.71980115  39.04005602 -10.94324528]\n",
      "[1.79480581e-230 8.87894137e-233 1.01869511e-231 1.92026046e-235\n",
      " 3.94304872e-230 5.37058407e-231 4.10372928e-227 1.24691449e-267\n",
      " 4.95497131e-236 9.71782792e-258]\n",
      "[ 295.15369256  360.59591203  338.06946382  402.87079623   -6.32987967\n",
      "  354.20146522 -545.50205688    0.75630933   76.09984634  330.46535181]\n",
      "[8.39035302e-125 2.21296750e-096 3.64638800e-106 5.06668569e-078\n",
      " 9.79779689e-256 3.69744796e-099 0.00000000e+000 1.17117343e-252\n",
      " 6.16458124e-220 1.81735175e-109]\n",
      "[ -43.29080541  -18.80261105    0.84095739  -17.47966401  -35.22654567\n",
      "  -20.29838591  -24.39444569  -16.15238898  -34.56861105 -132.16158466]\n",
      "[8.69365368e-272 3.75223488e-261 1.27462783e-252 1.40876521e-260\n",
      " 2.76354055e-268 8.40781699e-262 1.39890135e-263 5.31210729e-260\n",
      " 5.33584515e-268 2.20350127e-310]\n",
      "[ 102.20764201  168.25022049  130.80914732  159.14952584  -10.55578508\n",
      "  160.17729224 -306.03112769   -2.62176519   24.66728442  137.2163201 ]\n",
      "[1.34392544e-208 6.46104220e-180 3.54691766e-196 7.20976502e-184\n",
      " 1.43166375e-257 2.01499693e-183 0.00000000e+000 3.99523278e-254\n",
      " 2.83808728e-242 2.15006153e-193]\n",
      "[ 261.74209006  319.66339653  299.7467951   357.28755215   -4.9814773\n",
      "  314.01202505 -482.60261052    1.06027931   67.99498379  293.37702686]\n",
      "[2.59003504e-139 3.70006557e-114 8.28970966e-123 8.09417507e-098\n",
      " 3.77339387e-255 1.29972051e-116 0.00000000e+000 1.58720746e-252\n",
      " 1.86211500e-223 1.41965928e-125]\n",
      "[7 3 9 5 7 6 6 3 2 1 3]\n"
     ]
    },
    {
     "data": {
      "image/png": "[encoded data removed]",
      "text/plain": [
       "<Figure size 432x288 with 1 Axes>"
      ]
     },
     "metadata": {},
     "output_type": "display_data"
    },
    {
     "name": "stdout",
     "output_type": "stream",
     "text": [
      "The prediction was 7, it was correct!\n"
     ]
    },
    {
     "data": {
      "image/png": "[encoded data removed]",
      "text/plain": [
       "<Figure size 432x288 with 1 Axes>"
      ]
     },
     "metadata": {},
     "output_type": "display_data"
    },
    {
     "name": "stdout",
     "output_type": "stream",
     "text": [
      "The prediction was 3, it was correct!\n"
     ]
    },
    {
     "data": {
      "image/png": "[encoded data removed]",
      "text/plain": [
       "<Figure size 432x288 with 1 Axes>"
      ]
     },
     "metadata": {},
     "output_type": "display_data"
    },
    {
     "name": "stdout",
     "output_type": "stream",
     "text": [
      "The prediction was 9, it was correct!\n"
     ]
    },
    {
     "data": {
      "image/png": "[encoded data removed]",
      "text/plain": [
       "<Figure size 432x288 with 1 Axes>"
      ]
     },
     "metadata": {},
     "output_type": "display_data"
    },
    {
     "name": "stdout",
     "output_type": "stream",
     "text": [
      "The prediction was 5, it was correct!\n"
     ]
    },
    {
     "data": {
      "image/png": "[encoded data removed]",
      "text/plain": [
       "<Figure size 432x288 with 1 Axes>"
      ]
     },
     "metadata": {},
     "output_type": "display_data"
    },
    {
     "name": "stdout",
     "output_type": "stream",
     "text": [
      "The prediction was 7, it was correct!\n"
     ]
    },
    {
     "data": {
      "image/png": "[encoded data removed]",
      "text/plain": [
       "<Figure size 432x288 with 1 Axes>"
      ]
     },
     "metadata": {},
     "output_type": "display_data"
    },
    {
     "name": "stdout",
     "output_type": "stream",
     "text": [
      "The prediction was 6, it was correct!\n"
     ]
    },
    {
     "data": {
      "image/png": "[encoded data removed]",
      "text/plain": [
       "<Figure size 432x288 with 1 Axes>"
      ]
     },
     "metadata": {},
     "output_type": "display_data"
    },
    {
     "name": "stdout",
     "output_type": "stream",
     "text": [
      "The prediction was 6, it was correct!\n"
     ]
    },
    {
     "data": {
      "image/png": "[encoded data removed]",
      "text/plain": [
       "<Figure size 432x288 with 1 Axes>"
      ]
     },
     "metadata": {},
     "output_type": "display_data"
    },
    {
     "name": "stdout",
     "output_type": "stream",
     "text": [
      "The prediction was 3, it was correct!\n"
     ]
    },
    {
     "data": {
      "image/png": "[encoded data removed]",
      "text/plain": [
       "<Figure size 432x288 with 1 Axes>"
      ]
     },
     "metadata": {},
     "output_type": "display_data"
    },
    {
     "name": "stdout",
     "output_type": "stream",
     "text": [
      "The prediction was 2, it was correct!\n"
     ]
    },
    {
     "data": {
      "image/png": "[encoded data removed]",
      "text/plain": [
       "<Figure size 432x288 with 1 Axes>"
      ]
     },
     "metadata": {},
     "output_type": "display_data"
    },
    {
     "name": "stdout",
     "output_type": "stream",
     "text": [
      "The prediction was 1, it was incorrect!\n"
     ]
    },
    {
     "data": {
      "image/png": "[encoded data removed]",
      "text/plain": [
       "<Figure size 432x288 with 1 Axes>"
      ]
     },
     "metadata": {},
     "output_type": "display_data"
    },
    {
     "name": "stdout",
     "output_type": "stream",
     "text": [
      "The prediction was 3, it was correct!\n"
     ]
    }
   ],
   "source": [
    "def predict_and_correct(ann):\n",
    "    \"\"\" Load test data from file and predict using your neural network. \n",
    "    Make a prediction for every data sample and print it along with wether it was a correct prediction or not\n",
    "    \n",
    "    Arguments:\n",
    "    ann - the neural network to use for prediction. Has type `NeuralNetwork`\n",
    "    \n",
    "    Returns: # for test case purposes\n",
    "    A `numpy.ndarray` of predicted classes (integers [0-9]) with shape (11,)\n",
    "    \"\"\"\n",
    "    data = np.load('./utils/test_data.npz');\n",
    "    X, cls = data['X'], data['Y'];\n",
    "    \n",
    "    cls_preds = np.argmax(ann.forward_prop(X),axis=1); # Make a predicted number for every image in X\n",
    "    print(cls_preds)\n",
    "    for i in range(len(X)):\n",
    "        plt.imshow(X[i].reshape(28,28), cmap='gray')\n",
    "        plt.show()\n",
    "        correct = cls_preds[i] == cls[i]\n",
    "        print('The prediction was {0}, it was {1}!'.format(cls_preds[i], 'correct' if correct else 'incorrect'))\n",
    "        \n",
    "    return cls_preds\n",
    "        \n",
    "cls_pred = predict_and_correct(ann)"
   ]
  },
  {
   "cell_type": "code",
   "execution_count": 46,
   "metadata": {},
   "outputs": [
    {
     "name": "stdout",
     "output_type": "stream",
     "text": [
      "Test passed, you have implemented your neural network correctly!\n"
     ]
    }
   ],
   "source": [
    "# final test case\n",
    "test_predict_and_correct_answer(cls_pred)"
   ]
  },
  {
   "cell_type": "code",
   "execution_count": 47,
   "metadata": {},
   "outputs": [],
   "source": [
    "# sample output from cell above for reference"
   ]
  },
  {
   "cell_type": "markdown",
   "metadata": {},
   "source": [
    "## Congratulations!\n",
    "You have successfully implemented a neural network from scratch using only NumPy!  "
   ]
  }
 ],
 "metadata": {
  "kernelspec": {
   "display_name": "Python 3",
   "language": "python",
   "name": "python3"
  },
  "language_info": {
   "codemirror_mode": {
    "name": "ipython",
    "version": 3
   },
   "file_extension": ".py",
   "mimetype": "text/x-python",
   "name": "python",
   "nbconvert_exporter": "python",
   "pygments_lexer": "ipython3",
   "version": "3.6.6"
  }
 },
 "nbformat": 4,
 "nbformat_minor": 2
}
