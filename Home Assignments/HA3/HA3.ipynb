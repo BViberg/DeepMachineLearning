{
 "cells": [
  {
   "cell_type": "markdown",
   "metadata": {},
   "source": [
    "### Checklist for submission\n",
    "\n",
    "It is extremely important to make sure that:\n",
    "\n",
    "1. Everything runs as expected (no bugs when running cells);\n",
    "2. The output from each cell corresponds to its code (don't change any cell's contents without rerunning it afterwards);\n",
    "3. All outputs are present (don't delete any of the outputs);\n",
    "4. Fill in all the places that say `# YOUR CODE HERE`, or \"**Your answer:** (fill in here)\".\n",
    "5. You should not need to create any new cells in the notebook, but feel free to do it if convenient for you.\n",
    "6. The notebook contains some hidden metadata which is important during our grading process. **Make sure not to corrupt any of this metadata!** The metadata may be corrupted if you perform an unsuccessful git merge / git pull. It may also be pruned completely if using Google Colab, so watch out for this. Searching for \"nbgrader\" when opening the notebook in a text editor should take you to the important metadata entries.\n",
    "7. Fill in your group number and the full names of the members in the cell below;\n",
    "8. Make sure that you are not running an old version of IPython (we provide you with a cell that checks this, make sure you can run it without errors).\n",
    "\n",
    "Failing to meet any of these requirements might lead to either a subtraction of POEs (at best) or a request for resubmission (at worst).\n",
    "\n",
    "We advise you the following steps before submission for ensuring that requirements 1, 2, and 3 are always met: **Restart the kernel** (in the menubar, select Kernel$\\rightarrow$Restart) and then **run all cells** (in the menubar, select Cell$\\rightarrow$Run All). This might require a bit of time, so plan ahead for this (and possibly use Google Cloud's GPU in HA1 and HA2 for this step). Finally press the \"Save and Checkout\" button before handing in, to make sure that all your changes are saved to this .ipynb file."
   ]
  },
  {
   "cell_type": "markdown",
   "metadata": {},
   "source": [
    "---\n",
    "\n",
    "Group number and member names:"
   ]
  },
  {
   "cell_type": "code",
   "execution_count": 1,
   "metadata": {},
   "outputs": [],
   "source": [
    "GROUP = \"5\"\n",
    "NAME1 = \"Isak Hjortgren\"\n",
    "NAME2 = \"Björn Viberg\""
   ]
  },
  {
   "cell_type": "markdown",
   "metadata": {},
   "source": [
    "Make sure you can run the following cell without errors."
   ]
  },
  {
   "cell_type": "code",
   "execution_count": null,
   "metadata": {},
   "outputs": [],
   "source": [
    "import IPython\n",
    "assert IPython.version_info[0] >= 3, \"Your version of IPython is too old, please update it.\""
   ]
  },
  {
   "cell_type": "markdown",
   "metadata": {},
   "source": [
    "---"
   ]
  },
  {
   "cell_type": "markdown",
   "metadata": {
    "deletable": false,
    "editable": false,
    "nbgrader": {
     "checksum": "9f4edef3c4e6df4dbb2a29dba78c09d8",
     "grade": false,
     "grade_id": "cell-2f332c3ca731afc6",
     "locked": true,
     "schema_version": 1,
     "solution": false
    }
   },
   "source": [
    "# Home Assignment 3\n",
    "This home assignment will focus on reinforcement learning and deep reinforcement learning. The first part will cover value-table reinforcement learning techniques, and the second part will include neural networks as function approximators, i.e. deep reinforcement learning. \n",
    "\n",
    "When handing in this assignment, make sure that you're handing in the correct version, and more importantly, *that you do no clear any output from your cells*. We'll use these outputs to aid us when grading your assignment."
   ]
  },
  {
   "cell_type": "markdown",
   "metadata": {
    "deletable": false,
    "editable": false,
    "nbgrader": {
     "checksum": "cc4d88f2e070d5479382bf223b5c5d49",
     "grade": false,
     "grade_id": "cell-8122dcb8d8ca1c9e",
     "locked": true,
     "schema_version": 1,
     "solution": false
    }
   },
   "source": [
    "## Task 1: Gridworld\n",
    "\n",
    "In this task, you will implement Value Iteration to solve for the optimal policy, $\\pi^*$, and the corresponding state value function, $V^*$.\n",
    "\n",
    "The MDP you will work with in this assignment is illustrated in the figure below\n",
    "\n",
    "![title](./grid_world.png) "
   ]
  },
  {
   "cell_type": "markdown",
   "metadata": {
    "deletable": false,
    "editable": false,
    "nbgrader": {
     "checksum": "fbdc1c764382473316a629ae7682d1bb",
     "grade": false,
     "grade_id": "cell-b4e5d5337fbaa0e5",
     "locked": true,
     "schema_version": 1,
     "solution": false
    }
   },
   "source": [
    "The agent starts in one of the squares shown in the above figure, and then proceeds to take actions. The available actions at any time step are: **North, West, South,** and **East**. If an action would make the agent bump into a wall, or one of the black (unreachable) states, it instead does nothing, leaving the agent at the same place it was before.\n",
    "\n",
    "The reward $\\mathcal{R}_s^a$ of being in state $s$ and performing actions $a$ is zero for all states, regardless of the action taken, with the exception of the green and the red squares. For the green square, the reward is always 1, and for the red square, always -1, regardless of the action.\n",
    "\n",
    "When the agent is either in the green or the red square, it will be transported to the terminal state in the next time step, regardless of the action taken. The terminal state is shown as the white square with the \"T\" inside.\n",
    "\n",
    "#### State representation\n",
    "The notations used to define the states are illustrated in the table below\n",
    "\n",
    "| $S_0$ | $S_1$ | $S_2$ | $S_3$ | $S_4$ |    |\n",
    "|-------|-------|-------|-------|-------|----|\n",
    "| $S_5$ | $S_6$ | $S_7$ | $S_8$ | $S_9$ |    |\n",
    "| $S_{10}$ | $S_{11}$ | $S_{12}$ | $S_{13}$ | $S_{14}$ | $S_{15}$|\n",
    "\n",
    "where $S_{10}$ corresponds to the initial state of the environment, $S_4$ and $S_9$ to the green and red states of the environment, and $S_{15}$ to the terminal state."
   ]
  },
  {
   "cell_type": "markdown",
   "metadata": {
    "deletable": false,
    "editable": false,
    "nbgrader": {
     "checksum": "8d0703fff00f4fb67a72b46968fe7253",
     "grade": false,
     "grade_id": "cell-c54a0f7162b1f260",
     "locked": true,
     "schema_version": 1,
     "solution": false
    }
   },
   "source": [
    "\n",
    "### Task 1.a: Solve for $V^*(s)$ and $Q^*(s,a)$\n",
    "For this task all transition probabilities are assumed to be 1 (that is, trying to move in a certain direction will definitely move the agent in the chosen direction), and a discount factor of .9, i.e. $\\gamma=.9$."
   ]
  },
  {
   "cell_type": "markdown",
   "metadata": {
    "deletable": false,
    "editable": false,
    "nbgrader": {
     "checksum": "9894346da453882ad420d049511a5b8b",
     "grade": false,
     "grade_id": "cell-c7fa1d00113f314e",
     "locked": true,
     "schema_version": 1,
     "solution": false
    }
   },
   "source": [
    "* Solve for $V^*(S_{10})$ "
   ]
  },
  {
   "cell_type": "markdown",
   "metadata": {
    "deletable": false,
    "nbgrader": {
     "checksum": "e998cc86ed986eeac11f54b0f6869a67",
     "grade": true,
     "grade_id": "cell-966bc6b1276b31f1",
     "locked": false,
     "points": 0,
     "schema_version": 1,
     "solution": true
    }
   },
   "source": [
    "**Your answer:** \n",
    "\n",
    "$V^*(S_{10}) = E[R_{t+1} +\\gamma R_{t+2} + \\gamma ^2 R_{t+3} +... |S=S_{10}]$ \n",
    "\n",
    "Since the shortest path from $S_{10}$ to $S_{4}$ is 6 steps. And we do only get a reward at the end we know that:\n",
    "\n",
    "$V^*(S_{10}) = \\gamma^5 = 0.9^5 \\approx 0.59$"
   ]
  },
  {
   "cell_type": "markdown",
   "metadata": {
    "deletable": false,
    "editable": false,
    "nbgrader": {
     "checksum": "c2d30fc8031fa1ff3f06019a9cf1ba27",
     "grade": false,
     "grade_id": "cell-4cc15316add9bd67",
     "locked": true,
     "schema_version": 1,
     "solution": false
    }
   },
   "source": [
    "* Solve $Q^*(S_{10},a)$ for all actions"
   ]
  },
  {
   "cell_type": "markdown",
   "metadata": {
    "deletable": false,
    "nbgrader": {
     "checksum": "ad5e1409a936a5c1ec6684a1edae79ee",
     "grade": true,
     "grade_id": "cell-0e5efad7ed72fdcb",
     "locked": false,
     "points": 0,
     "schema_version": 1,
     "solution": true
    }
   },
   "source": [
    "**Your answer:** \n",
    "\n",
    "$Q^*(S_{10},a) = R_{S_{10}}^a + \\gamma \\sum_{s' \\in S}P_{S_{10}s'}V^*(s')$\n",
    "\n",
    "Since the transition probability is 1 and $R_{S_{10}}^a = 0, \\forall a$ the formula is simplified to:\n",
    "$Q^*(S_{10},a) = \\gamma V^*(s')$. \n",
    "\n",
    "We also know that if $a=south$ or $a=west$ we will remain in $S_{10}$. Therfore:\n",
    "\n",
    "$Q^*(S_{10},west)=Q^*(S_{10},south) = \\gamma V^*(S_{10}) = \\gamma^6 \\approx 0.53 $. \n",
    "\n",
    "For both the actions $a=north$ or $a=east$, they are equally optimal since there are two paths to $S_4$ of equal length (5) which implies:\n",
    "\n",
    "$Q^*(S_{10},north)=Q^*(S_{10},east) = \\gamma V^*(S_{11}) = \\gamma V^*(S_{5}) = \\gamma^5 \\approx 0.59 $. "
   ]
  },
  {
   "cell_type": "markdown",
   "metadata": {
    "deletable": false,
    "editable": false,
    "nbgrader": {
     "checksum": "fcab701a30ff0fd17edaa87e562124ba",
     "grade": false,
     "grade_id": "cell-e426e3815f78930a",
     "locked": true,
     "schema_version": 1,
     "solution": false
    }
   },
   "source": [
    "\n",
    "\n",
    "### Task 1.b Write a mathematical expression relating $V^\\pi(s)$ to $Q^\\pi(s,a)$ and $\\pi(a|s)$\n"
   ]
  },
  {
   "cell_type": "markdown",
   "metadata": {
    "deletable": false,
    "nbgrader": {
     "checksum": "61bf64e2c38d41b0f0d024faba554e8f",
     "grade": true,
     "grade_id": "cell-343c3ea4883085e1",
     "locked": false,
     "points": 0,
     "schema_version": 1,
     "solution": true
    }
   },
   "source": [
    "**Your answer:** \n",
    "\n",
    "It is the Bellman equation that relates these functions:\n",
    "\n",
    "$V^{\\pi}(s) = \\sum_{a}\\pi(a|s)Q^{\\pi}(s,a)$"
   ]
  },
  {
   "cell_type": "markdown",
   "metadata": {
    "deletable": false,
    "editable": false,
    "nbgrader": {
     "checksum": "993f36fffd9ebfd3c89a3b63dd42685d",
     "grade": false,
     "grade_id": "cell-ab80df325256cf89",
     "locked": true,
     "schema_version": 1,
     "solution": false
    }
   },
   "source": [
    "\n",
    "###  Task 1.c: Value Iteration\n",
    "For this task, the transitions are no longer deterministic. Instead, there is a 0.2 probability that the agent will try to travel in an orthogonal direction of the chosen action (0.1 probability for each of the two orthogonal directions). Note that the Markov decision process is still known and does not have to be learned from experience.\n",
    "\n",
    "Your task is to implement value iteration and solve for the\n",
    "* optimal greedy policy $\\pi^*(s)$ \n",
    "* $V^*(s)$"
   ]
  },
  {
   "cell_type": "markdown",
   "metadata": {
    "deletable": false,
    "editable": false,
    "nbgrader": {
     "checksum": "659925b7584671453aaee51f14ec4083",
     "grade": false,
     "grade_id": "cell-74497ad9b13e8362",
     "locked": true,
     "schema_version": 1,
     "solution": false
    }
   },
   "source": [
    "#### The value iteration algorithm\n",
    "Value iteration is an iterative algorithm used to compute the optimal value function $V^*(s)$. Each iteration starts with a guess of what the value function is and then uses the Bellman equations to improve this guess iteratively. We can describe one iteration of the algorithm as\n",
    "\n",
    "$\n",
    "\\textbf{For} ~ s \\in {\\cal S}:\\qquad  \\\\\n",
    "\\quad V_{k+1}(s) = \\underset{a \\in {\\cal A}}{\\text{max}}~ \\left( \\mathcal{R}_s^a + \\gamma \\underset{{s'\\in \\mathcal{S}}}{\\sum} \\mathcal{P}_{ss'}^a \\cdot V_k(s') \\right)\n",
    "$\n",
    "\n",
    "where $\\mathcal{P}_{ss'}^a={\\mathrm Pr}[S'=s'\\big|S=s,A=a]$ is the probability to transition state $s$ to $s'$ given action $a$.\n",
    "\n",
    "\n",
    "#### The MDP Python class\n",
    "The Markov Decision Process you will work with is defined in `gridworld_mdp.py`. In the implementation, the actions are represented by integers as, North = 0, West = 1, South = 2, and East = 3.\n",
    "To interact with the MDP, you need to instantiate an object as: \n",
    "\n",
    "\n",
    "```python\n",
    "mdp = GridWorldMDP()\n",
    "```\n",
    "\n",
    "At your disposal there are a number of instance-functions implemented for you, and presented below:"
   ]
  },
  {
   "cell_type": "code",
   "execution_count": 8,
   "metadata": {
    "deletable": false,
    "editable": false,
    "nbgrader": {
     "checksum": "636b8c5ea0bb7d3b4798564dfc7d580d",
     "grade": false,
     "grade_id": "cell-21e5d7b3d3083cd6",
     "locked": true,
     "schema_version": 1,
     "solution": false
    }
   },
   "outputs": [
    {
     "name": "stdout",
     "output_type": "stream",
     "text": [
      "Help on function get_states in module gridworld_mdp:\n",
      "\n",
      "get_states(self)\n",
      "    Returns complete set of states for the MDP\n",
      "    :return: numpy array of shape [num states,]\n",
      "\n"
     ]
    }
   ],
   "source": [
    "from gridworld_mdp import *\n",
    "import numpy as np\n",
    "\n",
    "help(GridWorldMDP.get_states)"
   ]
  },
  {
   "cell_type": "code",
   "execution_count": 9,
   "metadata": {
    "deletable": false,
    "editable": false,
    "nbgrader": {
     "checksum": "620f4674b0caadf475b4889bd8747b62",
     "grade": false,
     "grade_id": "cell-9706322eb34e16db",
     "locked": true,
     "schema_version": 1,
     "solution": false
    }
   },
   "outputs": [
    {
     "name": "stdout",
     "output_type": "stream",
     "text": [
      "Help on function __init__ in module gridworld_mdp:\n",
      "\n",
      "__init__(self, trans_prob=0.8)\n",
      "    Initializes an instance of the GridWorldMDP class\n",
      "    :param trans_prob: transition probabilities (e.g. =1 for deterministic MDP)\n",
      "\n"
     ]
    }
   ],
   "source": [
    "# The constructor\n",
    "help(GridWorldMDP.__init__)"
   ]
  },
  {
   "cell_type": "code",
   "execution_count": 10,
   "metadata": {
    "deletable": false,
    "editable": false,
    "nbgrader": {
     "checksum": "f9b14ba756ee79811ccba63e1e51f14a",
     "grade": false,
     "grade_id": "cell-38d3ab6fb24c1af8",
     "locked": true,
     "schema_version": 1,
     "solution": false
    }
   },
   "outputs": [
    {
     "name": "stdout",
     "output_type": "stream",
     "text": [
      "Help on function get_actions in module gridworld_mdp:\n",
      "\n",
      "get_actions(self)\n",
      "    Returns complete set of actions for the MDP\n",
      "    :return: numpy array of shape [num actions,]\n",
      "\n"
     ]
    }
   ],
   "source": [
    "help(GridWorldMDP.get_actions)"
   ]
  },
  {
   "cell_type": "code",
   "execution_count": 11,
   "metadata": {
    "deletable": false,
    "editable": false,
    "nbgrader": {
     "checksum": "e0b98cbe90baa640578ed1991b4e3501",
     "grade": false,
     "grade_id": "cell-ecb00397472a5faa",
     "locked": true,
     "schema_version": 1,
     "solution": false
    }
   },
   "outputs": [
    {
     "name": "stdout",
     "output_type": "stream",
     "text": [
      "Help on function state_transition_func in module gridworld_mdp:\n",
      "\n",
      "state_transition_func(self, s, a)\n",
      "    Returns the transition probabilities to all states given current state and action\n",
      "    :param state: current state as integer\n",
      "    :param action: selected action as integer\n",
      "    :return: state-transition probabilities, i.e.\n",
      "     [P[S_0| S=s, A_t=a], P[S_1| S=s, A=a], ..., P[S_14| S=s, A=a]]\n",
      "\n"
     ]
    }
   ],
   "source": [
    "help(GridWorldMDP.state_transition_func)"
   ]
  },
  {
   "cell_type": "code",
   "execution_count": 12,
   "metadata": {
    "deletable": false,
    "editable": false,
    "nbgrader": {
     "checksum": "40120f95b5767060a8ca55455cf5d485",
     "grade": false,
     "grade_id": "cell-aa8e1498649053a5",
     "locked": true,
     "schema_version": 1,
     "solution": false
    }
   },
   "outputs": [
    {
     "name": "stdout",
     "output_type": "stream",
     "text": [
      "Help on function reward_function in module gridworld_mdp:\n",
      "\n",
      "reward_function(self, s, a)\n",
      "    Returns the reward r(s,a)\n",
      "    :param state: current state as integer\n",
      "    :param action: selected action as integer\n",
      "    :return: r(s,a)\n",
      "\n"
     ]
    }
   ],
   "source": [
    "help(GridWorldMDP.reward_function)"
   ]
  },
  {
   "cell_type": "markdown",
   "metadata": {
    "deletable": false,
    "editable": false,
    "nbgrader": {
     "checksum": "8defb43e783bcb9464571753a5c6e452",
     "grade": false,
     "grade_id": "cell-c1408cc9707dd7f8",
     "locked": true,
     "schema_version": 1,
     "solution": false
    }
   },
   "source": [
    "We also provide two helper functions for visualizing the value function and the policies you obtain:"
   ]
  },
  {
   "cell_type": "code",
   "execution_count": 13,
   "metadata": {
    "deletable": false,
    "editable": false,
    "nbgrader": {
     "checksum": "b39ad0b689edcb447e156b888fbc0515",
     "grade": false,
     "grade_id": "cell-b754590784e24eb1",
     "locked": true,
     "schema_version": 1,
     "solution": false
    }
   },
   "outputs": [],
   "source": [
    "# Function for printing a policy pi\n",
    "def print_policy(pi):\n",
    "    print('Policy for non-terminal states: ')\n",
    "    indencies = np.arange(1, 16)\n",
    "    txt = '| '\n",
    "    hor_delimiter = '---------------------'\n",
    "    print(hor_delimiter)\n",
    "    for a, i in zip(pi, indencies):\n",
    "        txt += mdp.act_to_char_dict[a] + ' | '\n",
    "        if i % 5 == 0:\n",
    "            print(txt + '\\n' + hor_delimiter)\n",
    "            txt = '| '\n",
    "    print('                            ---')\n",
    "    print('Policy for terminal state: |', mdp.act_to_char_dict[pi[15]],'|')\n",
    "    print('                            ---')            \n",
    "\n",
    "# Function for printing a table with of the value function\n",
    "def print_value_table(values, num_iterations=None):            \n",
    "    if num_iterations:\n",
    "        print('Values for non-terminal states after: ', num_iterations, 'iterations \\n', np.reshape(values, [3, 5]), '\\n')\n",
    "        print('Value for terminal state:', terminal_value, '\\n')\n",
    "    else: \n",
    "        terminal_value = values[-1]\n",
    "        print('Values for non-terminal states: \\n', np.reshape(values[:-1], [3, 5]))\n",
    "        print('Value for terminal state:', terminal_value, '\\n')"
   ]
  },
  {
   "cell_type": "markdown",
   "metadata": {
    "deletable": false,
    "editable": false,
    "nbgrader": {
     "checksum": "c04d9592932bc9c1e92df4949bcea301",
     "grade": false,
     "grade_id": "cell-87e02763b23fe1f8",
     "locked": true,
     "schema_version": 1,
     "solution": false
    }
   },
   "source": [
    "Now it's time for you to implement your own version of value iteration to solve for the greedy policy and $V^*(s)$."
   ]
  },
  {
   "cell_type": "code",
   "execution_count": 14,
   "metadata": {
    "deletable": false,
    "nbgrader": {
     "checksum": "4ec5804f5a67633ffcbb04d6e0f2addf",
     "grade": true,
     "grade_id": "cell-d473b99fe1825067",
     "locked": false,
     "points": 0,
     "schema_version": 1,
     "solution": true
    }
   },
   "outputs": [],
   "source": [
    "def value_iteration(gamma, mdp):\n",
    "    \"\"\"\n",
    "    Returns:\n",
    "        V - state value table, numpy array of shape (16,)\n",
    "        pi - greedy policy table, numpy array of shape (16,)\n",
    "    \"\"\"\n",
    "    V = np.zeros([16]) # state value table\n",
    "    pi = np.zeros([16]) # greedy policy table\n",
    "\n",
    "    # while V is changing\n",
    "    while True:\n",
    "        V_old = V.copy()\n",
    "        Q = np.zeros([16, 4])\n",
    "        for state in mdp.get_states():\n",
    "            for action in mdp.get_actions():\n",
    "                Q[state, action] = mdp.reward_function(state, action)\n",
    "                for new_state, trans_prob in enumerate(mdp.state_transition_func(state, action)):\n",
    "                    Q[state, action] += trans_prob * gamma * V[new_state]\n",
    "            V[state] = np.max(Q[state,:])\n",
    "\n",
    "        if np.array_equal(V_old, V):\n",
    "            break\n",
    "        \n",
    "    pi = np.argmax(Q, axis=1)\n",
    "    \n",
    "    return V, pi\n"
   ]
  },
  {
   "cell_type": "markdown",
   "metadata": {
    "deletable": false,
    "editable": false,
    "nbgrader": {
     "checksum": "41ca129edbe5353b31ec35933bf28cdb",
     "grade": false,
     "grade_id": "cell-99c149095318adac",
     "locked": true,
     "schema_version": 1,
     "solution": false
    }
   },
   "source": [
    "Run your implementation for the deterministic version of our MDP. As a sanity check, compare your analytical solutions with the output from your implementation."
   ]
  },
  {
   "cell_type": "code",
   "execution_count": 15,
   "metadata": {
    "deletable": false,
    "editable": false,
    "nbgrader": {
     "checksum": "8a8722a6c33a96991f1091e2418def51",
     "grade": false,
     "grade_id": "cell-bd495acfe33d405f",
     "locked": true,
     "schema_version": 1,
     "solution": false
    }
   },
   "outputs": [
    {
     "name": "stdout",
     "output_type": "stream",
     "text": [
      "Values for non-terminal states: \n",
      " [[ 0.6561    0.729     0.81      0.9       1.      ]\n",
      " [ 0.59049   0.        0.        0.81     -1.      ]\n",
      " [ 0.531441  0.59049   0.6561    0.729     0.6561  ]]\n",
      "Value for terminal state: 0.0 \n",
      "\n",
      "Policy for non-terminal states: \n",
      "---------------------\n",
      "| E | E | E | E | N | \n",
      "---------------------\n",
      "| N | N | N | N | N | \n",
      "---------------------\n",
      "| N | E | E | N | W | \n",
      "---------------------\n",
      "                            ---\n",
      "Policy for terminal state: | N |\n",
      "                            ---\n"
     ]
    }
   ],
   "source": [
    "mdp = GridWorldMDP(trans_prob=1.)\n",
    "v, pi = value_iteration(.9, mdp)\n",
    "print_value_table(v)\n",
    "print_policy(pi)"
   ]
  },
  {
   "cell_type": "markdown",
   "metadata": {
    "collapsed": true,
    "deletable": false,
    "editable": false,
    "nbgrader": {
     "checksum": "172eb8e58e4dbdcca83bb2bb8589032d",
     "grade": false,
     "grade_id": "cell-5a24214a0645d4b4",
     "locked": true,
     "schema_version": 1,
     "solution": false
    }
   },
   "source": [
    "Once your implementation passed the sanity check, run it for the stochastic case, where the probability of an action succeding is 0.8, and 0.2 of moving the agent in an orthogonal direction to the intended. Use $\\gamma = .99$."
   ]
  },
  {
   "cell_type": "code",
   "execution_count": 16,
   "metadata": {
    "deletable": false,
    "editable": false,
    "nbgrader": {
     "checksum": "60e210ba654df60fcc54a7d6eda59aae",
     "grade": false,
     "grade_id": "cell-c6d0282ee295bb85",
     "locked": true,
     "schema_version": 1,
     "solution": false
    }
   },
   "outputs": [
    {
     "name": "stdout",
     "output_type": "stream",
     "text": [
      "Values for non-terminal states: \n",
      " [[ 0.93861973  0.95193393  0.9639533   0.97612443  1.        ]\n",
      " [ 0.92691625  0.          0.          0.88371826 -1.        ]\n",
      " [ 0.91395196  0.90255605  0.89130223  0.88057656  0.79978972]]\n",
      "Value for terminal state: 0.0 \n",
      "\n",
      "Policy for non-terminal states: \n",
      "---------------------\n",
      "| E | E | E | E | N | \n",
      "---------------------\n",
      "| N | N | N | W | N | \n",
      "---------------------\n",
      "| N | W | W | W | S | \n",
      "---------------------\n",
      "                            ---\n",
      "Policy for terminal state: | N |\n",
      "                            ---\n"
     ]
    }
   ],
   "source": [
    "# Run for stochastic MDP, gamma = .99\n",
    "mdp = GridWorldMDP()\n",
    "v, pi = value_iteration(.99, mdp)\n",
    "print_value_table(v)\n",
    "print_policy(pi)"
   ]
  },
  {
   "cell_type": "markdown",
   "metadata": {
    "deletable": false,
    "editable": false,
    "nbgrader": {
     "checksum": "6d055e91280e2309b99724e4b6d6b1c6",
     "grade": false,
     "grade_id": "cell-b80f5f5b9d1398a6",
     "locked": true,
     "schema_version": 1,
     "solution": false
    }
   },
   "source": [
    "Does the policy that the algorithm found looks reasonable? For instance, what's the policy for state $S_8$? Is that a good idea? Why?"
   ]
  },
  {
   "cell_type": "markdown",
   "metadata": {
    "deletable": false,
    "nbgrader": {
     "checksum": "c078f48627ee20611cff693693deb293",
     "grade": true,
     "grade_id": "cell-daff5655fe78f131",
     "locked": false,
     "points": 0,
     "schema_version": 1,
     "solution": true
    }
   },
   "source": [
    "**Your answer:** \n",
    "\n",
    "Yes it looks reasonable! The policy of going west in $S_8$ is good since it prevents entering $S_9$ (same for going south in $S_{14}$). This policy will never get stuck in a live lock and never enter the \"bad\" state $S_9$."
   ]
  },
  {
   "cell_type": "markdown",
   "metadata": {
    "deletable": false,
    "editable": false,
    "nbgrader": {
     "checksum": "5c94489bd5a5a7608e4fa04705176796",
     "grade": false,
     "grade_id": "cell-d4840da19cbbb63a",
     "locked": true,
     "schema_version": 1,
     "solution": false
    }
   },
   "source": [
    "Test your implementation using this function."
   ]
  },
  {
   "cell_type": "code",
   "execution_count": 17,
   "metadata": {
    "deletable": false,
    "editable": false,
    "nbgrader": {
     "checksum": "e5071817f08d1145df1c5095dab2e7dc",
     "grade": false,
     "grade_id": "cell-f89a5e7709d41efc",
     "locked": true,
     "schema_version": 1,
     "solution": false
    }
   },
   "outputs": [
    {
     "name": "stdout",
     "output_type": "stream",
     "text": [
      "Passed: state-value test, for gamma=.99\n",
      "Passed: policy test, for gamma=.99\n"
     ]
    }
   ],
   "source": [
    "test_value_iteration(v, pi)"
   ]
  },
  {
   "cell_type": "markdown",
   "metadata": {
    "deletable": false,
    "editable": false,
    "nbgrader": {
     "checksum": "7a2a2376284478e5ff87e8fc45681df1",
     "grade": false,
     "grade_id": "cell-32b52b966ea12de5",
     "locked": true,
     "schema_version": 1,
     "solution": false
    }
   },
   "source": [
    "Run value iteration for the same scenario as above, but now with $\\gamma=.9$"
   ]
  },
  {
   "cell_type": "code",
   "execution_count": 18,
   "metadata": {
    "deletable": false,
    "editable": false,
    "nbgrader": {
     "checksum": "45da583d4680e326a85cde59f0373b3e",
     "grade": false,
     "grade_id": "cell-3f797c0f704c2394",
     "locked": true,
     "schema_version": 1,
     "solution": false
    }
   },
   "outputs": [
    {
     "name": "stdout",
     "output_type": "stream",
     "text": [
      "Values for non-terminal states: \n",
      " [[ 0.56631445  0.65360208  0.74438015  0.84776628  1.        ]\n",
      " [ 0.49725171  0.          0.          0.57185903 -1.        ]\n",
      " [ 0.43084446  0.37830245  0.41624465  0.47405641  0.2761765 ]]\n",
      "Value for terminal state: 0.0 \n",
      "\n",
      "Policy for non-terminal states: \n",
      "---------------------\n",
      "| E | E | E | E | N | \n",
      "---------------------\n",
      "| N | N | N | N | N | \n",
      "---------------------\n",
      "| N | W | E | N | W | \n",
      "---------------------\n",
      "                            ---\n",
      "Policy for terminal state: | N |\n",
      "                            ---\n"
     ]
    }
   ],
   "source": [
    "# Run for stochastic MDP, gamma = .9\n",
    "mdp = GridWorldMDP()\n",
    "v, pi = value_iteration(.9, mdp)\n",
    "print_value_table(v)\n",
    "print_policy(pi)"
   ]
  },
  {
   "cell_type": "markdown",
   "metadata": {
    "deletable": false,
    "editable": false,
    "nbgrader": {
     "checksum": "90e75aaf90f849962cc2170695e557c0",
     "grade": false,
     "grade_id": "cell-9192d61af754d47b",
     "locked": true,
     "schema_version": 1,
     "solution": false
    }
   },
   "source": [
    "Do you notice any difference between the greedy policy for the two different discount factors. If so, what's the difference, and why do you think this happened?"
   ]
  },
  {
   "cell_type": "markdown",
   "metadata": {
    "deletable": false,
    "nbgrader": {
     "checksum": "5bd2832c73ff6f59dd2dfe977ff3fd50",
     "grade": true,
     "grade_id": "cell-1a675e7574dce1d5",
     "locked": false,
     "points": 0,
     "schema_version": 1,
     "solution": true
    }
   },
   "source": [
    "**Your answer:** \n",
    "\n",
    "This policy is a little dare devil since it favors short paths over safe paths. When acting greedily on a state action function ($Q$) with lower gamma the policy is more short sighted and values future rewards that are closer in time more than distant rewards. "
   ]
  },
  {
   "cell_type": "markdown",
   "metadata": {
    "deletable": false,
    "editable": false,
    "nbgrader": {
     "checksum": "79f657022c51018529b8d26b0ddd63c8",
     "grade": false,
     "grade_id": "cell-01feb7e04644407c",
     "locked": true,
     "schema_version": 1,
     "solution": false
    }
   },
   "source": [
    "## Task 2: Q-learning\n",
    "\n",
    "In the previous task, you solved for $V^*(s)$ and the greedy policy $\\pi^*(s)$, with the entire model of the MDP being available to you. This is however not very practical since for most problems we are trying to solve, the model is not known, and estimating the model is quite often a very tedious process which often also requires a lot of simplifications. \n",
    "\n",
    "#### Q-learning algorithm\n",
    "$\n",
    "\\text{Initialize}~Q(s,a), ~ \\forall~ s \\in {\\cal S},~ a~\\in {\\cal A} \\\\\n",
    "\\textbf{Repeat}~\\text{(for each episode):}\\\\\n",
    "\\quad \\text{Initialize}~s\\\\\n",
    "\\qquad \\textbf{Repeat}~\\text{(for each step in episode):}\\\\\n",
    "\\qquad\\quad \\text{Chose $a$ from $s$ using poliy derived from $Q$ (e.g., $\\epsilon$-greedy)}\\\\\n",
    "\\qquad\\quad \\text{Take action a, observe r, s'}\\\\\n",
    "\\qquad\\quad Q(s,a) \\leftarrow Q(s,a) + \\alpha \\left(r + \\gamma~\\underset{a}{\\text{max}}~Q(s',a) - Q(s,a) \\right) \\\\\n",
    "\\qquad\\quad s \\leftarrow s' \\\\\n",
    "\\qquad \\text{Until s is terminal}\n",
    "$"
   ]
  },
  {
   "cell_type": "markdown",
   "metadata": {
    "deletable": false,
    "editable": false,
    "nbgrader": {
     "checksum": "f704f54a37111f555333212087572ac6",
     "grade": false,
     "grade_id": "cell-c974d24244fe78ca",
     "locked": true,
     "schema_version": 1,
     "solution": false
    }
   },
   "source": [
    "### Task 2.1 Model-free control\n",
    "Why is it that Q-learning does not require a model of the MDP to solve for it?  "
   ]
  },
  {
   "cell_type": "markdown",
   "metadata": {
    "deletable": false,
    "nbgrader": {
     "checksum": "b369cc3d0a009ff83d971bc83c58fe69",
     "grade": true,
     "grade_id": "cell-448842959cfe9780",
     "locked": false,
     "points": 0,
     "schema_version": 1,
     "solution": true
    }
   },
   "source": [
    "**Your answer:**\n",
    "\n",
    "Q-learning does only rely on episodes that gathers informations about our environment. We do not specifically know the reward functions. "
   ]
  },
  {
   "cell_type": "markdown",
   "metadata": {
    "deletable": false,
    "editable": false,
    "nbgrader": {
     "checksum": "9570fd8489dd5eec632778ab56e56c8b",
     "grade": false,
     "grade_id": "cell-bbe7f99d1cc4e6af",
     "locked": true,
     "schema_version": 1,
     "solution": false
    }
   },
   "source": [
    "### Task 2.2  Implement an $\\epsilon$-greedy policy\n",
    "The goal of the Q-learning algorithm is to find the optimal policy $\\pi^*$, by estimating the state action value function under the optimal policy, i.e. $Q^*(s, a)$. From $Q^*(s,a)$, the agent can follow $\\pi^*$, by choosing the action with that yields the largest expected value for each state, i.e. $\\underset{a}{\\text{argmax}}~Q^*(s, a)$.\n",
    "\n",
    "However, when training a Q-learning model, the agent typically follows another policy to explore the environment. In reinforcement learning this is known as off-policy learning. \n",
    "\n",
    "Your task is to implement a widely popular exploration policy, known as  the $\\epsilon$-greedy policy, in the cell below.\n",
    "\n",
    "An $\\epsilon$-Greedy policy should:\n",
    "* with probability $\\epsilon$ take an uniformly-random action.\n",
    "* otherwise choose the best action according to the estimated state action values."
   ]
  },
  {
   "cell_type": "code",
   "execution_count": 21,
   "metadata": {
    "deletable": false,
    "nbgrader": {
     "checksum": "ec694eb01517a447e2d27c05d3e69b9a",
     "grade": true,
     "grade_id": "cell-48c826a87791fb56",
     "locked": false,
     "points": 0,
     "schema_version": 1,
     "solution": true
    }
   },
   "outputs": [],
   "source": [
    "def eps_greedy_policy(q_values, eps):\n",
    "    '''\n",
    "    Creates an epsilon-greedy policy\n",
    "    :param q_values: set of Q-values of shape (num actions,)\n",
    "    :param eps: probability of taking a uniform random action \n",
    "    :return: policy of shape (num actions,)\n",
    "    '''\n",
    "    # YOUR CODE HERE\n",
    "    q_max = np.max(q_values)\n",
    "    all_best_moves = q_values == q_max\n",
    "    policy = np.zeros(q_values.size)\n",
    "    \n",
    "    # set the best moves to correct probability\n",
    "    policy[all_best_moves] = (1-eps)/np.sum(all_best_moves)\n",
    "    policy += eps/q_values.size\n",
    "    \n",
    "    return policy\n",
    "    "
   ]
  },
  {
   "cell_type": "markdown",
   "metadata": {
    "deletable": false,
    "editable": false,
    "nbgrader": {
     "checksum": "583492c65cb090c181c66b42c2a51eff",
     "grade": false,
     "grade_id": "cell-6d33489b428b1179",
     "locked": true,
     "schema_version": 1,
     "solution": false
    }
   },
   "source": [
    "Run the cell below to test your implementation"
   ]
  },
  {
   "cell_type": "code",
   "execution_count": 22,
   "metadata": {
    "deletable": false,
    "editable": false,
    "nbgrader": {
     "checksum": "8803a2f8fb24390fc517a97579e04242",
     "grade": false,
     "grade_id": "cell-80bd577e278ec0b0",
     "locked": true,
     "schema_version": 1,
     "solution": false
    }
   },
   "outputs": [
    {
     "name": "stdout",
     "output_type": "stream",
     "text": [
      "Test passed, good job!\n"
     ]
    }
   ],
   "source": [
    "mdp = GridWorldMDP()\n",
    "\n",
    "# Test shape of output\n",
    "actions = mdp.get_actions()\n",
    "for eps in (0, 1):\n",
    "    foo = np.zeros([len(actions)])\n",
    "    foo[0] = 1.\n",
    "    eps_greedy = eps_greedy_policy(foo, eps)\n",
    "    assert foo.shape == eps_greedy.shape, \"wrong shape of output\"\n",
    "actions = [i for i in range(10)]\n",
    "for eps in (0, 1):\n",
    "    foo = np.zeros([len(actions)])\n",
    "    foo[0] = 1.\n",
    "    eps_greedy = eps_greedy_policy(foo, eps)\n",
    "    assert foo.shape == eps_greedy.shape, \"wrong shape of output\"\n",
    "\n",
    "# Test for greedy actions\n",
    "for a in actions:\n",
    "    foo = np.zeros([len(actions)])\n",
    "    foo[a] = 1.\n",
    "    eps_greedy = eps_greedy_policy(foo, 0)\n",
    "    assert np.array_equal(foo, eps_greedy), \"policy is not greedy\"\n",
    "\n",
    "# Test for uniform distribution, when eps=1\n",
    "eps_greedy = eps_greedy_policy(foo, 1)\n",
    "assert all(p==eps_greedy[0] for p in eps_greedy) and np.sum(eps_greedy)==1, \\\n",
    "\"policy does not return a uniform distribution for eps=1\"\n",
    "\n",
    "print('Test passed, good job!')"
   ]
  },
  {
   "cell_type": "markdown",
   "metadata": {
    "deletable": false,
    "editable": false,
    "nbgrader": {
     "checksum": "21d88565b3663fe971606656dd045804",
     "grade": false,
     "grade_id": "cell-1dccaeebe5a41325",
     "locked": true,
     "schema_version": 1,
     "solution": false
    }
   },
   "source": [
    "### Task 2.2: Implement the Q-learning algorithm\n",
    "\n",
    "Now it's time to actually implement the Q-learning algorithm. Unlike the Value iteration where there is no direct interactions with the environment, the Q-learning algorithm builds up its estimations by interacting and exploring the environment. \n",
    "\n",
    "To enable the agent to explore the environment a set of helper functions are provided:"
   ]
  },
  {
   "cell_type": "code",
   "execution_count": 23,
   "metadata": {
    "deletable": false,
    "editable": false,
    "nbgrader": {
     "checksum": "02bb92b833a3dc4e535cda13a4a1fae4",
     "grade": false,
     "grade_id": "cell-881edd2be439489e",
     "locked": true,
     "schema_version": 1,
     "solution": false
    }
   },
   "outputs": [
    {
     "name": "stdout",
     "output_type": "stream",
     "text": [
      "Help on function reset in module gridworld_mdp:\n",
      "\n",
      "reset(self)\n",
      "    Resets the environment and the agent is positioned in the initial state in the bottom left corner.\n",
      "    :return: state, reward, terminal\n",
      "\n"
     ]
    }
   ],
   "source": [
    "help(GridWorldMDP.reset)"
   ]
  },
  {
   "cell_type": "code",
   "execution_count": 24,
   "metadata": {
    "deletable": false,
    "editable": false,
    "nbgrader": {
     "checksum": "589834a8662125b7792560c134990d91",
     "grade": false,
     "grade_id": "cell-061e7670ebd7b35c",
     "locked": true,
     "schema_version": 1,
     "solution": false
    }
   },
   "outputs": [
    {
     "name": "stdout",
     "output_type": "stream",
     "text": [
      "Help on function step in module gridworld_mdp:\n",
      "\n",
      "step(self, action)\n",
      "    Takes one step in the environment using the selected action\n",
      "    :param action: action to execute, integer\n",
      "    :return: state, reward, terminal\n",
      "\n"
     ]
    }
   ],
   "source": [
    "help(GridWorldMDP.step)"
   ]
  },
  {
   "cell_type": "markdown",
   "metadata": {
    "deletable": false,
    "editable": false,
    "nbgrader": {
     "checksum": "8b92ae99e0b252016ed7040a0f706cec",
     "grade": false,
     "grade_id": "cell-15fa6bbf763cdc6f",
     "locked": true,
     "schema_version": 1,
     "solution": false
    }
   },
   "source": [
    "Implement your version of Q-learning in the cell below. \n",
    "\n",
    "**Hint:** It might be useful to study the pseudocode provided above. "
   ]
  },
  {
   "cell_type": "code",
   "execution_count": 34,
   "metadata": {
    "deletable": false,
    "nbgrader": {
     "checksum": "465ba05d25e3bc7b0121f8a025b38831",
     "grade": true,
     "grade_id": "cell-3912d729d9527acd",
     "locked": false,
     "points": 0,
     "schema_version": 1,
     "solution": true
    }
   },
   "outputs": [],
   "source": [
    "def q_learning(eps, gamma):\n",
    "    Q = np.zeros([16, 4]) # state action value table\n",
    "    pi = np.zeros([16]) # greedy policy table\n",
    "    alpha = .01\n",
    "\n",
    "    # YOUR CODE HERE\n",
    "    mdp = GridWorldMDP()\n",
    "    for i in range(30000):\n",
    "        state, reward, terminal = mdp.reset()\n",
    "        Q_old = Q.copy()\n",
    "        \n",
    "        while not terminal:\n",
    "            policy_prob = eps_greedy_policy(Q[state,:], eps)\n",
    "            chosen_action = np.random.choice(Q.shape[1], p=policy_prob)\n",
    "\n",
    "            new_state, reward, terminal = mdp.step(chosen_action)\n",
    "\n",
    "            Q[state, chosen_action] += alpha*(reward + gamma*np.max(Q[new_state, :]) - Q[state, chosen_action]) \n",
    "\n",
    "            state = new_state\n",
    "        \n",
    "        if np.allclose(Q, Q_old, atol=0.0001):\n",
    "            print('convergence fulfilled, i=', i)\n",
    "            break\n",
    "        \n",
    "    pi = np.argmax(Q, axis=1)\n",
    "    return pi, Q"
   ]
  },
  {
   "cell_type": "markdown",
   "metadata": {
    "deletable": false,
    "editable": false,
    "nbgrader": {
     "checksum": "2db55b6a6838a75f15ef87f979ead425",
     "grade": false,
     "grade_id": "cell-b48032d234ecb11d",
     "locked": true,
     "schema_version": 1,
     "solution": false
    }
   },
   "source": [
    "Run Q-learning with  $\\epsilon = 1$ for the MDP with $\\gamma=0.99$"
   ]
  },
  {
   "cell_type": "code",
   "execution_count": 31,
   "metadata": {
    "deletable": false,
    "editable": false,
    "nbgrader": {
     "checksum": "bebc79f9656b76b9e936221eb633cc4b",
     "grade": false,
     "grade_id": "cell-0464324eb2e2bf9c",
     "locked": true,
     "schema_version": 1,
     "solution": false
    }
   },
   "outputs": [
    {
     "name": "stdout",
     "output_type": "stream",
     "text": [
      "convergence fulfilled, i= 8350\n",
      "Policy for non-terminal states: \n",
      "---------------------\n",
      "| E | E | E | E | E | \n",
      "---------------------\n",
      "| N | N | N | W | E | \n",
      "---------------------\n",
      "| N | W | W | W | S | \n",
      "---------------------\n",
      "                            ---\n",
      "Policy for terminal state: | N |\n",
      "                            ---\n"
     ]
    }
   ],
   "source": [
    "pi, Q = q_learning(1, .99)\n",
    "print_policy(pi)"
   ]
  },
  {
   "cell_type": "markdown",
   "metadata": {
    "deletable": false,
    "editable": false,
    "nbgrader": {
     "checksum": "9bc5026e570acf5162847f04d4b2daf3",
     "grade": false,
     "grade_id": "cell-a424df8abe557f2e",
     "locked": true,
     "schema_version": 1,
     "solution": false
    }
   },
   "source": [
    "Test your implementation by running the cell below"
   ]
  },
  {
   "cell_type": "code",
   "execution_count": 32,
   "metadata": {
    "deletable": false,
    "editable": false,
    "nbgrader": {
     "checksum": "fe0420c08764bdf6ddec81e380ccf729",
     "grade": false,
     "grade_id": "cell-e2832d3538099d67",
     "locked": true,
     "schema_version": 1,
     "solution": false
    }
   },
   "outputs": [
    {
     "name": "stdout",
     "output_type": "stream",
     "text": [
      "Passed: policy test, for gamma=.99\n"
     ]
    }
   ],
   "source": [
    "test_q_learning(Q)"
   ]
  },
  {
   "cell_type": "markdown",
   "metadata": {
    "deletable": false,
    "editable": false,
    "nbgrader": {
     "checksum": "49f7e5d4884836a1c3c968b767d51f40",
     "grade": false,
     "grade_id": "cell-d3623c3f5c170bd4",
     "locked": true,
     "schema_version": 1,
     "solution": false
    }
   },
   "source": [
    "Run Q-learning with $\\epsilon=0$"
   ]
  },
  {
   "cell_type": "code",
   "execution_count": 35,
   "metadata": {
    "deletable": false,
    "editable": false,
    "nbgrader": {
     "checksum": "8913eaf75e0f0d1c388d682d5767e0e6",
     "grade": false,
     "grade_id": "cell-1c095409c30320d7",
     "locked": true,
     "schema_version": 1,
     "solution": false
    }
   },
   "outputs": [
    {
     "name": "stdout",
     "output_type": "stream",
     "text": [
      "convergence fulfilled, i= 8139\n",
      "Policy for non-terminal states: \n",
      "---------------------\n",
      "| N | E | E | E | E | \n",
      "---------------------\n",
      "| S | N | N | W | N | \n",
      "---------------------\n",
      "| E | E | E | N | S | \n",
      "---------------------\n",
      "                            ---\n",
      "Policy for terminal state: | N |\n",
      "                            ---\n"
     ]
    }
   ],
   "source": [
    "pi, Q = q_learning(0, .99)\n",
    "print_policy(pi)"
   ]
  },
  {
   "cell_type": "markdown",
   "metadata": {
    "deletable": false,
    "editable": false,
    "nbgrader": {
     "checksum": "f8211c5750767a6a9ad1290cffb73aa7",
     "grade": false,
     "grade_id": "cell-d3383d13bae73e68",
     "locked": true,
     "schema_version": 1,
     "solution": false
    }
   },
   "source": [
    "You ran your implementation with $\\epsilon$ set to both 0 and 1. What are the results, and your conclusions?"
   ]
  },
  {
   "cell_type": "markdown",
   "metadata": {
    "deletable": false,
    "nbgrader": {
     "checksum": "f4556e9c53e5bfbac90a17601f48d1c1",
     "grade": true,
     "grade_id": "cell-54eb158e84c99275",
     "locked": false,
     "points": 0,
     "schema_version": 1,
     "solution": true
    }
   },
   "source": [
    "**Your answer:** We will not explore the statespace with $\\epsilon = 0$ and therefore not find the optimal policy as we do when $\\epsilon = 1$. Since we are using Q-learning we can learn from a random walk policy ($\\epsilon=1$), so it is really important to explore all states. If we do not visit every state sufficiently many times the policy we converge to won't be the optimal. If we explore the statespace with a $\\epsilon$-greedy ($\\epsilon > 0$) we will visit all states sufficiently many times and therfore obtain the optimal policy."
   ]
  },
  {
   "cell_type": "markdown",
   "metadata": {
    "deletable": false,
    "editable": false,
    "nbgrader": {
     "checksum": "f272655e0a5e12f3fcfe70c514467e1f",
     "grade": false,
     "grade_id": "cell-ae2a001335118014",
     "locked": true,
     "schema_version": 1,
     "solution": false
    }
   },
   "source": [
    "# Task 3: Deep Double Q-learning (DDQN)\n",
    "For this task, you will implement a DDQN (double deep Q-learning network) to solve one of the problems of the OpenAI gym. Before we get into details about these type of networks, let's first review the simpler, DQN (deep Q-learning network) version. \n",
    "\n",
    "#### Deep Q Networks\n",
    "As we saw in the video lectures, using a neural network as a state action value approximator is a great idea. However, if one tries to use this approach with Q-learning, it's very likely that the optimization will be very unstable. To remediate this, two main ideas are used. First, we use experience replay, in order to decorrelate the experience samples we obtain when exploring the environment. Second, we use two networks instead of one, in order to fix the optimization targets. That is, for a given minibatch sampled from the replay buffer, we'll optimize the weights of only one of the networks (commonly denoted as the \"online\" network), using the gradients w.r.t a loss function. This loss function is computed as the mean squared error between the current action values, computed according to the **online** network, and the temporal difference (TD) targets, computed using the other, **fixed network** (which we'll refer to as the \"target\" network).\n",
    "\n",
    "That is, the loss function is \n",
    "\n",
    "$$ L(\\theta) = \\frac{1}{N}\\sum_{i=1}^N \\left(Q(s_i,a_i; \\theta\\right) - Y_i)^2~,$$\n",
    "\n",
    "where $N$ is the number of samples in your minibatch, $Q(s,a;\\theta)$ is the state action value estimate, according to the online network (with parameters $\\theta$), and $Y_t$ is the TD target, computed as\n",
    "\n",
    "$$ Y_i = r_i +  \\gamma ~\\underset{a}{\\text{max}}~Q(s_i', a; \\theta^-)~, $$\n",
    "\n",
    "where $Q(s', a;\\theta')$ is the action value estimate, according to the fixed network (with parameters $\\theta^-$).\n",
    "\n",
    "Finally, so that the offline parameters are also updated, we periodically change the roles of the networks, fixing the online one, and training the other.\n",
    "\n",
    "#### Double Deep Q Networks\n",
    "\n",
    "The idea explained above works well in practice, but later it was discovered that this approach is very prone to overestimating the state action values. The main reason for this is that the max operator, used to select the greedy action when computing the TD target, uses the same values both to select and to evaluate an action (this tends to prefer overestimated actions). In order to prevent this, we can decouple the selection from the evaluation, which is the idea that created DDQN. More concretely, the TD target for a DDQN is now \n",
    "\n",
    "$$ Y_i = r_i + \\gamma Q(s_i', \\underset{a}{\\text{argmax}}Q(s_i',a;\\theta); \\theta^-)~. $$\n",
    "\n",
    "Hence, we're using the **online** network to select which action is best, but we use the **fixed** network to evaluate the state action value for that chosen action in the next state. This is what makes DDQN not overestimate (as much) the state action values, which in turn helps us to train faster and obtain better policies.\n",
    "\n",
    "\n"
   ]
  },
  {
   "cell_type": "markdown",
   "metadata": {
    "deletable": false,
    "editable": false,
    "nbgrader": {
     "checksum": "ffc8f76962e410ad44919896b9d0de31",
     "grade": false,
     "grade_id": "cell-b37fc5ebe369b45a",
     "locked": true,
     "schema_version": 1,
     "solution": false
    }
   },
   "source": [
    "#### Environment\n",
    "\n",
    "The problem you will solve for this task is the inverted pendulum problem. \n",
    "On [Open AIs environment documentation](https://gym.openai.com/envs/CartPole-v0) , the following description is provided:\n",
    "\n",
    "*A pole is attached by an un-actuated joint to a cart, which moves along a frictionless track. The system is controlled by applying a force of +1 or -1 to the cart. The pendulum starts upright, and the goal is to prevent it from falling over. A reward of +1 is provided for every time step that the pole remains upright. The episode ends when the pole is more than 15 degrees from vertical, or the cart moves more than 2.4 units from the center.*\n",
    "\n",
    "![title](./cartpole.jpg) \n",
    "\n",
    "#### Implementation\n",
    "We'll solve this task using a DDQN. Most of the code is provided for you, in the file **ddqn_model.py**. This file contains the implementation of a neural network, which is described in the table below (feel free to experiment with different architectures).\n",
    "\n",
    "|Layer 1: units, activation | Layer 2: units, activation | Layer 3: units, activation | Cost function |\n",
    "|---------------------------|----------------------------|----------------------------|---------------|\n",
    "| 100, ReLu                 | 60, ReLu                   | number of actions, linear | MSE           |\n",
    "\n",
    "The only missing part of the code is the function that computes the TD targets for each minibatch of samples."
   ]
  },
  {
   "cell_type": "markdown",
   "metadata": {
    "deletable": false,
    "editable": false,
    "nbgrader": {
     "checksum": "55a5b74265fad2a849d7bcf7b7d09d45",
     "grade": false,
     "grade_id": "cell-ae647de789982b2e",
     "locked": true,
     "schema_version": 1,
     "solution": false
    }
   },
   "source": [
    "## Task 3.1:  Calculate TD-target\n",
    "\n",
    "For this task, you will calculate the temporal difference target used for the loss in the double Q-learning algorithm. Your implementation should follow precisely the equation defined above for the TD target of DDQNs, with one exception: when s' is terminal, the TD target for it should simply be $ Y_i = r_i$. Why is this necessary?"
   ]
  },
  {
   "cell_type": "markdown",
   "metadata": {
    "deletable": false,
    "nbgrader": {
     "checksum": "40e03a98c7372496040da5499e1fc29a",
     "grade": true,
     "grade_id": "cell-d28bf13d3d581368",
     "locked": false,
     "points": 0,
     "schema_version": 1,
     "solution": true
    }
   },
   "source": [
    "**Your answer:** Since we are in the terminal state, it makes no sense to take into account for future states and rewards, therefore we omit that term."
   ]
  },
  {
   "cell_type": "markdown",
   "metadata": {
    "deletable": false,
    "editable": false,
    "nbgrader": {
     "checksum": "f6a429aaede47e041414f7fac4093390",
     "grade": false,
     "grade_id": "cell-26a12456d7c70776",
     "locked": true,
     "schema_version": 1,
     "solution": false
    }
   },
   "source": [
    "Implement your function in the following cell."
   ]
  },
  {
   "cell_type": "code",
   "execution_count": 37,
   "metadata": {
    "deletable": false,
    "nbgrader": {
     "checksum": "5b73cff549519ebc4c082c01928539b0",
     "grade": true,
     "grade_id": "cell-e73bca0bd9d5574a",
     "locked": false,
     "points": 0,
     "schema_version": 1,
     "solution": true
    }
   },
   "outputs": [],
   "source": [
    "def calculate_td_targets(q1_batch, q2_batch, r_batch, t_batch, gamma=.99):\n",
    "    '''\n",
    "    Calculates the TD-target used for the loss\n",
    "    : param q1_batch: Batch of Q(s', a) from online network, shape (N, num actions)\n",
    "    : param q2_batch: Batch of Q(s', a) from target network, shape (N, num actions)\n",
    "    : param r_batch: Batch of rewards, shape (N, 1)\n",
    "    : param t_batch: Batch of booleans indicating if state, s' is terminal, shape (N, 1)\n",
    "    : return: TD-target, shape (N, 1)\n",
    "    '''\n",
    "\n",
    "    # YOUR CODE HERE\n",
    "    actions = np.argmax(q1_batch, axis=1)\n",
    "    \n",
    "    Y = r_batch + gamma * q2_batch[np.arange(actions.size), actions].reshape((-1,1))\n",
    "    t_batch_logical = (t_batch.reshape(-1))==1\n",
    "    Y[t_batch_logical] = r_batch[t_batch_logical]\n",
    "    return Y"
   ]
  },
  {
   "cell_type": "markdown",
   "metadata": {
    "deletable": false,
    "editable": false,
    "nbgrader": {
     "checksum": "b22afaa707ff45fb62badaadf2d632e7",
     "grade": false,
     "grade_id": "cell-401656fa71e3f227",
     "locked": true,
     "schema_version": 1,
     "solution": false
    }
   },
   "source": [
    "Test your implementation by trying to solve the reinforcement learning problem for the Cartpole environment. The following cell defines the `train_loop_ddqn` function, which will be called ahead.\n",
    "\n",
    "**Note:** If you have issues with the env.render() command below on your system, you may simply comment it out. However, you would be missing out on a visualization of the training episodes."
   ]
  },
  {
   "cell_type": "code",
   "execution_count": 38,
   "metadata": {},
   "outputs": [
    {
     "name": "stderr",
     "output_type": "stream",
     "text": [
      "Using TensorFlow backend.\n",
      "/anaconda3/envs/dml/lib/python3.6/importlib/_bootstrap.py:219: RuntimeWarning: compiletime version 3.5 of module 'tensorflow.python.framework.fast_tensor_util' does not match runtime version 3.6\n",
      "  return f(*args, **kwds)\n"
     ]
    }
   ],
   "source": [
    "# Import dependencies\n",
    "import numpy as np\n",
    "import gym\n",
    "from keras.utils.np_utils import to_categorical as one_hot\n",
    "from collections import namedtuple\n",
    "from dqn_model import DoubleQLearningModel, ExperienceReplay\n",
    "\n",
    "def train_loop_ddqn(model, env, num_episodes, batch_size=64, gamma=.94):        \n",
    "    Transition = namedtuple(\"Transition\", [\"s\", \"a\", \"r\", \"next_s\", \"t\"])\n",
    "    eps = 1.\n",
    "    eps_end = .1 \n",
    "    eps_decay = .001\n",
    "    R_buffer = []\n",
    "    R_avg = []\n",
    "    for i in range(num_episodes):\n",
    "        state = env.reset() #reset to initial state\n",
    "        state = np.expand_dims(state, axis=0)/2\n",
    "        terminal = False # reset terminal flag\n",
    "        ep_reward = 0\n",
    "        q_buffer = []\n",
    "        steps = 0\n",
    "        while not terminal:\n",
    "            env.render() # comment this line out if you don't want to / cannot render the environment on your system\n",
    "            steps += 1\n",
    "            q_values = model.get_q_values(state)\n",
    "            q_buffer.append(q_values)\n",
    "            policy = eps_greedy_policy(q_values.squeeze(), eps) \n",
    "            action = np.random.choice(num_actions, p=policy) # sample action from epsilon-greedy policy\n",
    "            new_state, reward, terminal, _ = env.step(action) # take one step in the evironment\n",
    "            new_state = np.expand_dims(new_state, axis=0)/2\n",
    "            \n",
    "            # only use the terminal flag for ending the episode and not for training\n",
    "            # if the flag is set due to that the maximum amount of steps is reached \n",
    "            t_to_buffer = terminal if not steps == 200 else False\n",
    "            \n",
    "            # store data to replay buffer\n",
    "            replay_buffer.add(Transition(s=state, a=action, r=reward, next_s=new_state, t=t_to_buffer))\n",
    "            state = new_state\n",
    "            ep_reward += reward\n",
    "            \n",
    "            # if buffer contains more than 1000 samples, perform one training step\n",
    "            if replay_buffer.buffer_length > 1000:\n",
    "                s, a, r, s_, t = replay_buffer.sample_minibatch(batch_size) # sample a minibatch of transitions\n",
    "                q_1, q_2 = model.get_q_values_for_both_models(np.squeeze(s_))\n",
    "                td_target = calculate_td_targets(q_1, q_2, r, t, gamma)\n",
    "                model.update(s, td_target, a)    \n",
    "                \n",
    "        eps = max(eps - eps_decay, eps_end) # decrease epsilon        \n",
    "        R_buffer.append(ep_reward)\n",
    "        \n",
    "        # running average of episodic rewards\n",
    "        R_avg.append(.05 * R_buffer[i] + .95 * R_avg[i-1]) if i > 0 else R_avg.append(R_buffer[i])\n",
    "        print('Episode: ', i, 'Reward:', ep_reward, 'Epsilon', eps, 'mean q', np.mean(np.array(q_buffer)))\n",
    "        \n",
    "        # if running average > 195, the task is considerd solved\n",
    "        if R_avg[-1] > 195:\n",
    "            return R_buffer, R_avg\n",
    "    return R_buffer, R_avg"
   ]
  },
  {
   "cell_type": "markdown",
   "metadata": {
    "deletable": false,
    "editable": false,
    "nbgrader": {
     "checksum": "51f90902daf95d61d17b1d2c32877abf",
     "grade": false,
     "grade_id": "cell-75c84628ce999711",
     "locked": true,
     "schema_version": 1,
     "solution": false
    }
   },
   "source": [
    "and the next cell performs the actual training. \n",
    "\n",
    "A Working implementation should start to improve after 500 episodes. An episodic reward of around 200 is likely to be achieved after 800 episodes for a batchsize of 128, and 1000 episodes for a batchsize of 64. "
   ]
  },
  {
   "cell_type": "code",
   "execution_count": 39,
   "metadata": {},
   "outputs": [
    {
     "name": "stdout",
     "output_type": "stream",
     "text": [
      "\u001b[33mWARN: gym.spaces.Box autodetected dtype as <class 'numpy.float32'>. Please provide explicit dtype.\u001b[0m\n",
      "Episode:  0 Reward: 34.0 Epsilon 0.999 mean q 6.9966475e-08\n",
      "Episode:  1 Reward: 14.0 Epsilon 0.998 mean q 1.0418709e-07\n",
      "Episode:  2 Reward: 46.0 Epsilon 0.997 mean q 6.165911e-08\n",
      "Episode:  3 Reward: 18.0 Epsilon 0.996 mean q 9.001084e-08\n",
      "Episode:  4 Reward: 15.0 Epsilon 0.995 mean q 1.059296e-07\n",
      "Episode:  5 Reward: 25.0 Epsilon 0.994 mean q 2.3852314e-07\n",
      "Episode:  6 Reward: 15.0 Epsilon 0.993 mean q 9.6253935e-08\n",
      "Episode:  7 Reward: 17.0 Epsilon 0.992 mean q 1.5750473e-07\n",
      "Episode:  8 Reward: 37.0 Epsilon 0.991 mean q 8.380177e-08\n",
      "Episode:  9 Reward: 82.0 Epsilon 0.99 mean q 8.471932e-08\n",
      "Episode:  10 Reward: 28.0 Epsilon 0.989 mean q 8.526047e-08\n",
      "Episode:  11 Reward: 24.0 Epsilon 0.988 mean q 7.164758e-08\n",
      "Episode:  12 Reward: 17.0 Epsilon 0.987 mean q 2.2143962e-07\n",
      "Episode:  13 Reward: 20.0 Epsilon 0.986 mean q 1.2400983e-07\n",
      "Episode:  14 Reward: 27.0 Epsilon 0.985 mean q 1.04996374e-07\n",
      "Episode:  15 Reward: 16.0 Epsilon 0.984 mean q 1.6245352e-07\n",
      "Episode:  16 Reward: 27.0 Epsilon 0.983 mean q 7.860171e-08\n",
      "Episode:  17 Reward: 42.0 Epsilon 0.982 mean q 6.896771e-08\n",
      "Episode:  18 Reward: 11.0 Epsilon 0.981 mean q 3.2185673e-07\n",
      "Episode:  19 Reward: 21.0 Epsilon 0.98 mean q 8.5577575e-08\n",
      "Episode:  20 Reward: 19.0 Epsilon 0.979 mean q 1.206732e-07\n",
      "Episode:  21 Reward: 84.0 Epsilon 0.978 mean q 2.9496883e-08\n",
      "Episode:  22 Reward: 12.0 Epsilon 0.977 mean q 8.738641e-08\n",
      "Episode:  23 Reward: 15.0 Epsilon 0.976 mean q 1.1076124e-07\n",
      "Episode:  24 Reward: 38.0 Epsilon 0.975 mean q 2.393124e-08\n",
      "Episode:  25 Reward: 12.0 Epsilon 0.974 mean q 1.1733615e-07\n",
      "Episode:  26 Reward: 14.0 Epsilon 0.973 mean q 9.316567e-08\n",
      "Episode:  27 Reward: 15.0 Epsilon 0.972 mean q 1.5245314e-07\n",
      "Episode:  28 Reward: 26.0 Epsilon 0.971 mean q 1.46742e-07\n",
      "Episode:  29 Reward: 24.0 Epsilon 0.97 mean q 1.4855227e-07\n",
      "Episode:  30 Reward: 39.0 Epsilon 0.969 mean q 8.9248594e-08\n",
      "Episode:  31 Reward: 15.0 Epsilon 0.968 mean q 1.7216742e-07\n",
      "Episode:  32 Reward: 13.0 Epsilon 0.967 mean q 1.058647e-07\n",
      "Episode:  33 Reward: 15.0 Epsilon 0.966 mean q 1.0184515e-07\n",
      "Episode:  34 Reward: 20.0 Epsilon 0.965 mean q 7.518081e-08\n",
      "Episode:  35 Reward: 19.0 Epsilon 0.964 mean q 9.66499e-08\n",
      "Episode:  36 Reward: 19.0 Epsilon 0.963 mean q 6.8976e-08\n",
      "Episode:  37 Reward: 13.0 Epsilon 0.962 mean q 1.1752684e-07\n",
      "Episode:  38 Reward: 13.0 Epsilon 0.961 mean q 8.208865e-08\n",
      "Episode:  39 Reward: 20.0 Epsilon 0.96 mean q 5.3951908e-08\n",
      "Episode:  40 Reward: 23.0 Epsilon 0.959 mean q 0.00021703189\n",
      "Episode:  41 Reward: 46.0 Epsilon 0.958 mean q 0.009974947\n",
      "Episode:  42 Reward: 19.0 Epsilon 0.957 mean q 0.021684581\n",
      "Episode:  43 Reward: 24.0 Epsilon 0.956 mean q 0.025521165\n",
      "Episode:  44 Reward: 18.0 Epsilon 0.955 mean q 0.043248918\n",
      "Episode:  45 Reward: 15.0 Epsilon 0.954 mean q 0.061948523\n",
      "Episode:  46 Reward: 10.0 Epsilon 0.953 mean q 0.08736316\n",
      "Episode:  47 Reward: 35.0 Epsilon 0.952 mean q 0.08283583\n",
      "Episode:  48 Reward: 43.0 Epsilon 0.951 mean q 0.08408479\n",
      "Episode:  49 Reward: 19.0 Epsilon 0.95 mean q 0.10981402\n",
      "Episode:  50 Reward: 15.0 Epsilon 0.949 mean q 0.17732564\n",
      "Episode:  51 Reward: 18.0 Epsilon 0.948 mean q 0.1860673\n",
      "Episode:  52 Reward: 20.0 Epsilon 0.947 mean q 0.21184555\n",
      "Episode:  53 Reward: 17.0 Epsilon 0.946 mean q 0.18393743\n",
      "Episode:  54 Reward: 11.0 Epsilon 0.945 mean q 0.37463105\n",
      "Episode:  55 Reward: 11.0 Epsilon 0.944 mean q 0.30415717\n",
      "Episode:  56 Reward: 59.0 Epsilon 0.943 mean q 0.27746588\n",
      "Episode:  57 Reward: 25.0 Epsilon 0.942 mean q 0.34295163\n",
      "Episode:  58 Reward: 15.0 Epsilon 0.941 mean q 0.46827242\n",
      "Episode:  59 Reward: 12.0 Epsilon 0.94 mean q 0.59835094\n",
      "Episode:  60 Reward: 22.0 Epsilon 0.939 mean q 0.3912911\n",
      "Episode:  61 Reward: 15.0 Epsilon 0.938 mean q 0.51966244\n",
      "Episode:  62 Reward: 21.0 Epsilon 0.9369999999999999 mean q 0.45810482\n",
      "Episode:  63 Reward: 8.0 Epsilon 0.9359999999999999 mean q 0.84452116\n",
      "Episode:  64 Reward: 11.0 Epsilon 0.9349999999999999 mean q 0.77416843\n",
      "Episode:  65 Reward: 17.0 Epsilon 0.9339999999999999 mean q 0.71697277\n",
      "Episode:  66 Reward: 15.0 Epsilon 0.9329999999999999 mean q 0.64375997\n",
      "Episode:  67 Reward: 24.0 Epsilon 0.9319999999999999 mean q 0.72670907\n",
      "Episode:  68 Reward: 22.0 Epsilon 0.9309999999999999 mean q 0.67126304\n",
      "Episode:  69 Reward: 15.0 Epsilon 0.9299999999999999 mean q 0.87917686\n",
      "Episode:  70 Reward: 17.0 Epsilon 0.9289999999999999 mean q 0.7565464\n",
      "Episode:  71 Reward: 9.0 Epsilon 0.9279999999999999 mean q 1.2162709\n",
      "Episode:  72 Reward: 29.0 Epsilon 0.9269999999999999 mean q 0.8884877\n",
      "Episode:  73 Reward: 42.0 Epsilon 0.9259999999999999 mean q 0.7479089\n",
      "Episode:  74 Reward: 13.0 Epsilon 0.9249999999999999 mean q 1.5958391\n",
      "Episode:  75 Reward: 14.0 Epsilon 0.9239999999999999 mean q 1.1911601\n",
      "Episode:  76 Reward: 17.0 Epsilon 0.9229999999999999 mean q 1.1116409\n",
      "Episode:  77 Reward: 15.0 Epsilon 0.9219999999999999 mean q 1.4132053\n",
      "Episode:  78 Reward: 13.0 Epsilon 0.9209999999999999 mean q 1.7033843\n",
      "Episode:  79 Reward: 15.0 Epsilon 0.9199999999999999 mean q 1.3774835\n",
      "Episode:  80 Reward: 12.0 Epsilon 0.9189999999999999 mean q 2.0754423\n",
      "Episode:  81 Reward: 10.0 Epsilon 0.9179999999999999 mean q 2.422151\n",
      "Episode:  82 Reward: 13.0 Epsilon 0.9169999999999999 mean q 1.5355719\n",
      "Episode:  83 Reward: 18.0 Epsilon 0.9159999999999999 mean q 1.8647829\n",
      "Episode:  84 Reward: 33.0 Epsilon 0.9149999999999999 mean q 1.3649791\n",
      "Episode:  85 Reward: 18.0 Epsilon 0.9139999999999999 mean q 1.478873\n",
      "Episode:  86 Reward: 20.0 Epsilon 0.9129999999999999 mean q 1.5089815\n",
      "Episode:  87 Reward: 27.0 Epsilon 0.9119999999999999 mean q 2.1742005\n",
      "Episode:  88 Reward: 13.0 Epsilon 0.9109999999999999 mean q 2.0756278\n",
      "Episode:  89 Reward: 13.0 Epsilon 0.9099999999999999 mean q 2.5261464\n",
      "Episode:  90 Reward: 28.0 Epsilon 0.9089999999999999 mean q 1.8187605\n",
      "Episode:  91 Reward: 26.0 Epsilon 0.9079999999999999 mean q 1.9270002\n",
      "Episode:  92 Reward: 15.0 Epsilon 0.9069999999999999 mean q 2.6249661\n",
      "Episode:  93 Reward: 23.0 Epsilon 0.9059999999999999 mean q 2.4077735\n",
      "Episode:  94 Reward: 15.0 Epsilon 0.9049999999999999 mean q 2.9833565\n",
      "Episode:  95 Reward: 15.0 Epsilon 0.9039999999999999 mean q 2.7511106\n",
      "Episode:  96 Reward: 16.0 Epsilon 0.9029999999999999 mean q 2.678958\n",
      "Episode:  97 Reward: 16.0 Epsilon 0.9019999999999999 mean q 2.4576263\n",
      "Episode:  98 Reward: 16.0 Epsilon 0.9009999999999999 mean q 2.7664657\n",
      "Episode:  99 Reward: 13.0 Epsilon 0.8999999999999999 mean q 3.2209215\n",
      "Episode:  100 Reward: 22.0 Epsilon 0.8989999999999999 mean q 2.1967454\n",
      "Episode:  101 Reward: 18.0 Epsilon 0.8979999999999999 mean q 2.7308018\n",
      "Episode:  102 Reward: 14.0 Epsilon 0.8969999999999999 mean q 3.414068\n",
      "Episode:  103 Reward: 28.0 Epsilon 0.8959999999999999 mean q 2.6664467\n",
      "Episode:  104 Reward: 17.0 Epsilon 0.8949999999999999 mean q 3.582226\n",
      "Episode:  105 Reward: 32.0 Epsilon 0.8939999999999999 mean q 2.793168\n",
      "Episode:  106 Reward: 14.0 Epsilon 0.8929999999999999 mean q 3.9798243\n",
      "Episode:  107 Reward: 14.0 Epsilon 0.8919999999999999 mean q 4.1173897\n",
      "Episode:  108 Reward: 17.0 Epsilon 0.8909999999999999 mean q 4.0662804\n",
      "Episode:  109 Reward: 24.0 Epsilon 0.8899999999999999 mean q 3.0064888\n",
      "Episode:  110 Reward: 10.0 Epsilon 0.8889999999999999 mean q 4.8932314\n",
      "Episode:  111 Reward: 26.0 Epsilon 0.8879999999999999 mean q 4.579898\n",
      "Episode:  112 Reward: 15.0 Epsilon 0.8869999999999999 mean q 4.0352826\n",
      "Episode:  113 Reward: 14.0 Epsilon 0.8859999999999999 mean q 4.3351026\n",
      "Episode:  114 Reward: 23.0 Epsilon 0.8849999999999999 mean q 3.8819053\n",
      "Episode:  115 Reward: 16.0 Epsilon 0.8839999999999999 mean q 4.7975163\n",
      "Episode:  116 Reward: 31.0 Epsilon 0.8829999999999999 mean q 4.3920197\n",
      "Episode:  117 Reward: 14.0 Epsilon 0.8819999999999999 mean q 5.452459\n",
      "Episode:  118 Reward: 13.0 Epsilon 0.8809999999999999 mean q 5.496628\n",
      "Episode:  119 Reward: 34.0 Epsilon 0.8799999999999999 mean q 3.5308263\n",
      "Episode:  120 Reward: 14.0 Epsilon 0.8789999999999999 mean q 4.8852167\n",
      "Episode:  121 Reward: 22.0 Epsilon 0.8779999999999999 mean q 6.0426617\n",
      "Episode:  122 Reward: 26.0 Epsilon 0.8769999999999999 mean q 4.1314006\n",
      "Episode:  123 Reward: 10.0 Epsilon 0.8759999999999999 mean q 6.1650023\n",
      "Episode:  124 Reward: 23.0 Epsilon 0.8749999999999999 mean q 4.203118\n"
     ]
    },
    {
     "name": "stdout",
     "output_type": "stream",
     "text": [
      "Episode:  125 Reward: 14.0 Epsilon 0.8739999999999999 mean q 6.2035522\n",
      "Episode:  126 Reward: 10.0 Epsilon 0.8729999999999999 mean q 6.5699983\n",
      "Episode:  127 Reward: 19.0 Epsilon 0.8719999999999999 mean q 5.6266594\n",
      "Episode:  128 Reward: 10.0 Epsilon 0.8709999999999999 mean q 8.326486\n",
      "Episode:  129 Reward: 11.0 Epsilon 0.8699999999999999 mean q 6.2539563\n",
      "Episode:  130 Reward: 11.0 Epsilon 0.8689999999999999 mean q 6.6664624\n",
      "Episode:  131 Reward: 11.0 Epsilon 0.8679999999999999 mean q 7.2649736\n",
      "Episode:  132 Reward: 17.0 Epsilon 0.8669999999999999 mean q 5.7689323\n",
      "Episode:  133 Reward: 15.0 Epsilon 0.8659999999999999 mean q 5.121706\n",
      "Episode:  134 Reward: 24.0 Epsilon 0.8649999999999999 mean q 5.3369956\n",
      "Episode:  135 Reward: 38.0 Epsilon 0.8639999999999999 mean q 5.6285844\n",
      "Episode:  136 Reward: 9.0 Epsilon 0.8629999999999999 mean q 6.994253\n",
      "Episode:  137 Reward: 13.0 Epsilon 0.8619999999999999 mean q 5.6981936\n",
      "Episode:  138 Reward: 11.0 Epsilon 0.8609999999999999 mean q 7.222566\n",
      "Episode:  139 Reward: 19.0 Epsilon 0.8599999999999999 mean q 5.3040457\n",
      "Episode:  140 Reward: 18.0 Epsilon 0.8589999999999999 mean q 4.6336827\n",
      "Episode:  141 Reward: 29.0 Epsilon 0.8579999999999999 mean q 5.1172786\n",
      "Episode:  142 Reward: 10.0 Epsilon 0.8569999999999999 mean q 7.7846627\n",
      "Episode:  143 Reward: 20.0 Epsilon 0.8559999999999999 mean q 6.6245623\n",
      "Episode:  144 Reward: 28.0 Epsilon 0.8549999999999999 mean q 4.8360343\n",
      "Episode:  145 Reward: 13.0 Epsilon 0.8539999999999999 mean q 7.1644793\n",
      "Episode:  146 Reward: 15.0 Epsilon 0.8529999999999999 mean q 7.4137645\n",
      "Episode:  147 Reward: 9.0 Epsilon 0.8519999999999999 mean q 8.072177\n",
      "Episode:  148 Reward: 13.0 Epsilon 0.8509999999999999 mean q 8.211902\n",
      "Episode:  149 Reward: 11.0 Epsilon 0.8499999999999999 mean q 8.016235\n",
      "Episode:  150 Reward: 13.0 Epsilon 0.8489999999999999 mean q 6.6066813\n",
      "Episode:  151 Reward: 20.0 Epsilon 0.8479999999999999 mean q 5.682147\n",
      "Episode:  152 Reward: 18.0 Epsilon 0.8469999999999999 mean q 6.3713846\n",
      "Episode:  153 Reward: 12.0 Epsilon 0.8459999999999999 mean q 8.06817\n",
      "Episode:  154 Reward: 19.0 Epsilon 0.8449999999999999 mean q 6.611206\n",
      "Episode:  155 Reward: 13.0 Epsilon 0.8439999999999999 mean q 6.1621976\n",
      "Episode:  156 Reward: 21.0 Epsilon 0.8429999999999999 mean q 6.96957\n",
      "Episode:  157 Reward: 20.0 Epsilon 0.8419999999999999 mean q 6.9479737\n",
      "Episode:  158 Reward: 28.0 Epsilon 0.8409999999999999 mean q 6.7923675\n",
      "Episode:  159 Reward: 27.0 Epsilon 0.8399999999999999 mean q 6.180618\n",
      "Episode:  160 Reward: 12.0 Epsilon 0.8389999999999999 mean q 9.440848\n",
      "Episode:  161 Reward: 17.0 Epsilon 0.8379999999999999 mean q 7.919865\n",
      "Episode:  162 Reward: 27.0 Epsilon 0.8369999999999999 mean q 6.2053323\n",
      "Episode:  163 Reward: 9.0 Epsilon 0.8359999999999999 mean q 8.493188\n",
      "Episode:  164 Reward: 26.0 Epsilon 0.8349999999999999 mean q 6.841677\n",
      "Episode:  165 Reward: 23.0 Epsilon 0.8339999999999999 mean q 6.699506\n",
      "Episode:  166 Reward: 20.0 Epsilon 0.8329999999999999 mean q 6.902921\n",
      "Episode:  167 Reward: 14.0 Epsilon 0.8319999999999999 mean q 8.801741\n",
      "Episode:  168 Reward: 13.0 Epsilon 0.8309999999999998 mean q 7.766561\n",
      "Episode:  169 Reward: 41.0 Epsilon 0.8299999999999998 mean q 6.4661016\n",
      "Episode:  170 Reward: 15.0 Epsilon 0.8289999999999998 mean q 7.9806275\n",
      "Episode:  171 Reward: 9.0 Epsilon 0.8279999999999998 mean q 9.554588\n",
      "Episode:  172 Reward: 13.0 Epsilon 0.8269999999999998 mean q 8.451512\n",
      "Episode:  173 Reward: 11.0 Epsilon 0.8259999999999998 mean q 8.999947\n",
      "Episode:  174 Reward: 14.0 Epsilon 0.8249999999999998 mean q 9.789546\n",
      "Episode:  175 Reward: 31.0 Epsilon 0.8239999999999998 mean q 6.8081374\n",
      "Episode:  176 Reward: 61.0 Epsilon 0.8229999999999998 mean q 7.9743953\n",
      "Episode:  177 Reward: 17.0 Epsilon 0.8219999999999998 mean q 8.668466\n",
      "Episode:  178 Reward: 14.0 Epsilon 0.8209999999999998 mean q 9.098837\n",
      "Episode:  179 Reward: 21.0 Epsilon 0.8199999999999998 mean q 8.973156\n",
      "Episode:  180 Reward: 36.0 Epsilon 0.8189999999999998 mean q 8.246374\n",
      "Episode:  181 Reward: 20.0 Epsilon 0.8179999999999998 mean q 9.186231\n",
      "Episode:  182 Reward: 14.0 Epsilon 0.8169999999999998 mean q 9.378417\n",
      "Episode:  183 Reward: 32.0 Epsilon 0.8159999999999998 mean q 8.484269\n",
      "Episode:  184 Reward: 23.0 Epsilon 0.8149999999999998 mean q 8.032718\n",
      "Episode:  185 Reward: 14.0 Epsilon 0.8139999999999998 mean q 10.328684\n",
      "Episode:  186 Reward: 23.0 Epsilon 0.8129999999999998 mean q 10.447249\n",
      "Episode:  187 Reward: 12.0 Epsilon 0.8119999999999998 mean q 11.043492\n",
      "Episode:  188 Reward: 11.0 Epsilon 0.8109999999999998 mean q 12.15384\n",
      "Episode:  189 Reward: 17.0 Epsilon 0.8099999999999998 mean q 9.849774\n",
      "Episode:  190 Reward: 13.0 Epsilon 0.8089999999999998 mean q 8.581467\n",
      "Episode:  191 Reward: 14.0 Epsilon 0.8079999999999998 mean q 10.940237\n",
      "Episode:  192 Reward: 18.0 Epsilon 0.8069999999999998 mean q 8.759754\n",
      "Episode:  193 Reward: 18.0 Epsilon 0.8059999999999998 mean q 9.450689\n",
      "Episode:  194 Reward: 12.0 Epsilon 0.8049999999999998 mean q 12.199101\n",
      "Episode:  195 Reward: 18.0 Epsilon 0.8039999999999998 mean q 8.737982\n",
      "Episode:  196 Reward: 19.0 Epsilon 0.8029999999999998 mean q 9.31393\n",
      "Episode:  197 Reward: 25.0 Epsilon 0.8019999999999998 mean q 8.605555\n",
      "Episode:  198 Reward: 19.0 Epsilon 0.8009999999999998 mean q 9.873102\n",
      "Episode:  199 Reward: 18.0 Epsilon 0.7999999999999998 mean q 9.842797\n",
      "Episode:  200 Reward: 23.0 Epsilon 0.7989999999999998 mean q 8.946555\n",
      "Episode:  201 Reward: 11.0 Epsilon 0.7979999999999998 mean q 11.817353\n",
      "Episode:  202 Reward: 22.0 Epsilon 0.7969999999999998 mean q 10.015322\n",
      "Episode:  203 Reward: 23.0 Epsilon 0.7959999999999998 mean q 9.984264\n",
      "Episode:  204 Reward: 16.0 Epsilon 0.7949999999999998 mean q 10.390104\n",
      "Episode:  205 Reward: 16.0 Epsilon 0.7939999999999998 mean q 10.96405\n",
      "Episode:  206 Reward: 25.0 Epsilon 0.7929999999999998 mean q 11.471399\n",
      "Episode:  207 Reward: 23.0 Epsilon 0.7919999999999998 mean q 10.771312\n",
      "Episode:  208 Reward: 14.0 Epsilon 0.7909999999999998 mean q 10.76504\n",
      "Episode:  209 Reward: 20.0 Epsilon 0.7899999999999998 mean q 10.609456\n",
      "Episode:  210 Reward: 11.0 Epsilon 0.7889999999999998 mean q 10.362737\n",
      "Episode:  211 Reward: 32.0 Epsilon 0.7879999999999998 mean q 10.344393\n",
      "Episode:  212 Reward: 19.0 Epsilon 0.7869999999999998 mean q 11.691938\n",
      "Episode:  213 Reward: 16.0 Epsilon 0.7859999999999998 mean q 12.862349\n",
      "Episode:  214 Reward: 20.0 Epsilon 0.7849999999999998 mean q 12.176592\n",
      "Episode:  215 Reward: 15.0 Epsilon 0.7839999999999998 mean q 10.864712\n",
      "Episode:  216 Reward: 16.0 Epsilon 0.7829999999999998 mean q 11.646625\n",
      "Episode:  217 Reward: 14.0 Epsilon 0.7819999999999998 mean q 12.146257\n",
      "Episode:  218 Reward: 11.0 Epsilon 0.7809999999999998 mean q 11.960041\n",
      "Episode:  219 Reward: 11.0 Epsilon 0.7799999999999998 mean q 13.655872\n",
      "Episode:  220 Reward: 19.0 Epsilon 0.7789999999999998 mean q 11.085548\n",
      "Episode:  221 Reward: 18.0 Epsilon 0.7779999999999998 mean q 12.083578\n",
      "Episode:  222 Reward: 29.0 Epsilon 0.7769999999999998 mean q 10.767405\n",
      "Episode:  223 Reward: 26.0 Epsilon 0.7759999999999998 mean q 11.309603\n",
      "Episode:  224 Reward: 19.0 Epsilon 0.7749999999999998 mean q 12.382204\n",
      "Episode:  225 Reward: 19.0 Epsilon 0.7739999999999998 mean q 11.569721\n",
      "Episode:  226 Reward: 15.0 Epsilon 0.7729999999999998 mean q 12.285926\n",
      "Episode:  227 Reward: 22.0 Epsilon 0.7719999999999998 mean q 11.028329\n",
      "Episode:  228 Reward: 13.0 Epsilon 0.7709999999999998 mean q 11.733577\n",
      "Episode:  229 Reward: 19.0 Epsilon 0.7699999999999998 mean q 12.937991\n",
      "Episode:  230 Reward: 35.0 Epsilon 0.7689999999999998 mean q 11.159649\n",
      "Episode:  231 Reward: 25.0 Epsilon 0.7679999999999998 mean q 12.049748\n",
      "Episode:  232 Reward: 18.0 Epsilon 0.7669999999999998 mean q 12.413021\n",
      "Episode:  233 Reward: 13.0 Epsilon 0.7659999999999998 mean q 12.768467\n",
      "Episode:  234 Reward: 11.0 Epsilon 0.7649999999999998 mean q 14.975823\n",
      "Episode:  235 Reward: 13.0 Epsilon 0.7639999999999998 mean q 12.638941\n",
      "Episode:  236 Reward: 17.0 Epsilon 0.7629999999999998 mean q 13.682803\n",
      "Episode:  237 Reward: 13.0 Epsilon 0.7619999999999998 mean q 13.120828\n",
      "Episode:  238 Reward: 14.0 Epsilon 0.7609999999999998 mean q 11.911233\n",
      "Episode:  239 Reward: 16.0 Epsilon 0.7599999999999998 mean q 13.343542\n",
      "Episode:  240 Reward: 10.0 Epsilon 0.7589999999999998 mean q 14.180922\n",
      "Episode:  241 Reward: 35.0 Epsilon 0.7579999999999998 mean q 12.505389\n"
     ]
    },
    {
     "name": "stdout",
     "output_type": "stream",
     "text": [
      "Episode:  242 Reward: 18.0 Epsilon 0.7569999999999998 mean q 12.781249\n",
      "Episode:  243 Reward: 14.0 Epsilon 0.7559999999999998 mean q 11.387634\n",
      "Episode:  244 Reward: 10.0 Epsilon 0.7549999999999998 mean q 13.5889225\n",
      "Episode:  245 Reward: 25.0 Epsilon 0.7539999999999998 mean q 11.795255\n",
      "Episode:  246 Reward: 12.0 Epsilon 0.7529999999999998 mean q 13.53342\n",
      "Episode:  247 Reward: 17.0 Epsilon 0.7519999999999998 mean q 13.89145\n",
      "Episode:  248 Reward: 15.0 Epsilon 0.7509999999999998 mean q 12.470001\n",
      "Episode:  249 Reward: 12.0 Epsilon 0.7499999999999998 mean q 13.046558\n",
      "Episode:  250 Reward: 14.0 Epsilon 0.7489999999999998 mean q 12.520964\n",
      "Episode:  251 Reward: 21.0 Epsilon 0.7479999999999998 mean q 12.600875\n",
      "Episode:  252 Reward: 31.0 Epsilon 0.7469999999999998 mean q 12.463634\n",
      "Episode:  253 Reward: 32.0 Epsilon 0.7459999999999998 mean q 12.061861\n",
      "Episode:  254 Reward: 11.0 Epsilon 0.7449999999999998 mean q 13.884147\n",
      "Episode:  255 Reward: 15.0 Epsilon 0.7439999999999998 mean q 12.570247\n",
      "Episode:  256 Reward: 22.0 Epsilon 0.7429999999999998 mean q 11.743117\n",
      "Episode:  257 Reward: 10.0 Epsilon 0.7419999999999998 mean q 14.513911\n",
      "Episode:  258 Reward: 22.0 Epsilon 0.7409999999999998 mean q 12.215448\n",
      "Episode:  259 Reward: 11.0 Epsilon 0.7399999999999998 mean q 14.411819\n",
      "Episode:  260 Reward: 32.0 Epsilon 0.7389999999999998 mean q 12.740513\n",
      "Episode:  261 Reward: 12.0 Epsilon 0.7379999999999998 mean q 13.945567\n",
      "Episode:  262 Reward: 21.0 Epsilon 0.7369999999999998 mean q 12.665026\n",
      "Episode:  263 Reward: 9.0 Epsilon 0.7359999999999998 mean q 14.187358\n",
      "Episode:  264 Reward: 12.0 Epsilon 0.7349999999999998 mean q 13.875905\n",
      "Episode:  265 Reward: 11.0 Epsilon 0.7339999999999998 mean q 12.503854\n",
      "Episode:  266 Reward: 12.0 Epsilon 0.7329999999999998 mean q 13.153393\n",
      "Episode:  267 Reward: 11.0 Epsilon 0.7319999999999998 mean q 13.404084\n",
      "Episode:  268 Reward: 9.0 Epsilon 0.7309999999999998 mean q 13.274609\n",
      "Episode:  269 Reward: 12.0 Epsilon 0.7299999999999998 mean q 13.646548\n",
      "Episode:  270 Reward: 12.0 Epsilon 0.7289999999999998 mean q 14.423177\n",
      "Episode:  271 Reward: 10.0 Epsilon 0.7279999999999998 mean q 13.327148\n",
      "Episode:  272 Reward: 13.0 Epsilon 0.7269999999999998 mean q 13.327177\n",
      "Episode:  273 Reward: 20.0 Epsilon 0.7259999999999998 mean q 12.412053\n",
      "Episode:  274 Reward: 12.0 Epsilon 0.7249999999999998 mean q 13.25155\n",
      "Episode:  275 Reward: 22.0 Epsilon 0.7239999999999998 mean q 12.155473\n",
      "Episode:  276 Reward: 16.0 Epsilon 0.7229999999999998 mean q 12.738138\n",
      "Episode:  277 Reward: 21.0 Epsilon 0.7219999999999998 mean q 12.021657\n",
      "Episode:  278 Reward: 19.0 Epsilon 0.7209999999999998 mean q 12.257433\n",
      "Episode:  279 Reward: 18.0 Epsilon 0.7199999999999998 mean q 11.89614\n",
      "Episode:  280 Reward: 13.0 Epsilon 0.7189999999999998 mean q 13.384496\n",
      "Episode:  281 Reward: 13.0 Epsilon 0.7179999999999997 mean q 12.327124\n",
      "Episode:  282 Reward: 24.0 Epsilon 0.7169999999999997 mean q 11.466248\n",
      "Episode:  283 Reward: 15.0 Epsilon 0.7159999999999997 mean q 12.539279\n",
      "Episode:  284 Reward: 15.0 Epsilon 0.7149999999999997 mean q 12.120807\n",
      "Episode:  285 Reward: 15.0 Epsilon 0.7139999999999997 mean q 12.242169\n",
      "Episode:  286 Reward: 14.0 Epsilon 0.7129999999999997 mean q 12.481897\n",
      "Episode:  287 Reward: 11.0 Epsilon 0.7119999999999997 mean q 12.409189\n",
      "Episode:  288 Reward: 14.0 Epsilon 0.7109999999999997 mean q 12.117877\n",
      "Episode:  289 Reward: 21.0 Epsilon 0.7099999999999997 mean q 12.311069\n",
      "Episode:  290 Reward: 20.0 Epsilon 0.7089999999999997 mean q 11.3802395\n",
      "Episode:  291 Reward: 12.0 Epsilon 0.7079999999999997 mean q 12.47424\n",
      "Episode:  292 Reward: 10.0 Epsilon 0.7069999999999997 mean q 12.668958\n",
      "Episode:  293 Reward: 13.0 Epsilon 0.7059999999999997 mean q 12.328657\n",
      "Episode:  294 Reward: 11.0 Epsilon 0.7049999999999997 mean q 12.658157\n",
      "Episode:  295 Reward: 11.0 Epsilon 0.7039999999999997 mean q 12.897598\n",
      "Episode:  296 Reward: 11.0 Epsilon 0.7029999999999997 mean q 12.738679\n",
      "Episode:  297 Reward: 15.0 Epsilon 0.7019999999999997 mean q 12.5913\n",
      "Episode:  298 Reward: 9.0 Epsilon 0.7009999999999997 mean q 12.638001\n",
      "Episode:  299 Reward: 18.0 Epsilon 0.6999999999999997 mean q 11.811683\n",
      "Episode:  300 Reward: 9.0 Epsilon 0.6989999999999997 mean q 13.299593\n",
      "Episode:  301 Reward: 10.0 Epsilon 0.6979999999999997 mean q 12.534884\n",
      "Episode:  302 Reward: 14.0 Epsilon 0.6969999999999997 mean q 12.801484\n",
      "Episode:  303 Reward: 17.0 Epsilon 0.6959999999999997 mean q 11.480459\n",
      "Episode:  304 Reward: 9.0 Epsilon 0.6949999999999997 mean q 12.747093\n",
      "Episode:  305 Reward: 26.0 Epsilon 0.6939999999999997 mean q 10.916218\n",
      "Episode:  306 Reward: 11.0 Epsilon 0.6929999999999997 mean q 12.329537\n",
      "Episode:  307 Reward: 13.0 Epsilon 0.6919999999999997 mean q 13.178809\n",
      "Episode:  308 Reward: 13.0 Epsilon 0.6909999999999997 mean q 12.113789\n",
      "Episode:  309 Reward: 14.0 Epsilon 0.6899999999999997 mean q 12.587034\n",
      "Episode:  310 Reward: 11.0 Epsilon 0.6889999999999997 mean q 12.033278\n",
      "Episode:  311 Reward: 17.0 Epsilon 0.6879999999999997 mean q 11.921457\n",
      "Episode:  312 Reward: 17.0 Epsilon 0.6869999999999997 mean q 10.953453\n",
      "Episode:  313 Reward: 10.0 Epsilon 0.6859999999999997 mean q 13.296251\n",
      "Episode:  314 Reward: 13.0 Epsilon 0.6849999999999997 mean q 12.811051\n",
      "Episode:  315 Reward: 22.0 Epsilon 0.6839999999999997 mean q 11.5995245\n",
      "Episode:  316 Reward: 15.0 Epsilon 0.6829999999999997 mean q 12.230175\n",
      "Episode:  317 Reward: 13.0 Epsilon 0.6819999999999997 mean q 10.61532\n",
      "Episode:  318 Reward: 13.0 Epsilon 0.6809999999999997 mean q 12.308549\n",
      "Episode:  319 Reward: 11.0 Epsilon 0.6799999999999997 mean q 12.65263\n",
      "Episode:  320 Reward: 11.0 Epsilon 0.6789999999999997 mean q 12.275672\n",
      "Episode:  321 Reward: 17.0 Epsilon 0.6779999999999997 mean q 11.93166\n",
      "Episode:  322 Reward: 11.0 Epsilon 0.6769999999999997 mean q 12.41131\n",
      "Episode:  323 Reward: 11.0 Epsilon 0.6759999999999997 mean q 11.259177\n",
      "Episode:  324 Reward: 8.0 Epsilon 0.6749999999999997 mean q 10.955425\n",
      "Episode:  325 Reward: 11.0 Epsilon 0.6739999999999997 mean q 12.641772\n",
      "Episode:  326 Reward: 12.0 Epsilon 0.6729999999999997 mean q 12.377877\n",
      "Episode:  327 Reward: 17.0 Epsilon 0.6719999999999997 mean q 11.661018\n",
      "Episode:  328 Reward: 11.0 Epsilon 0.6709999999999997 mean q 12.469865\n",
      "Episode:  329 Reward: 12.0 Epsilon 0.6699999999999997 mean q 12.429443\n",
      "Episode:  330 Reward: 11.0 Epsilon 0.6689999999999997 mean q 12.613535\n",
      "Episode:  331 Reward: 11.0 Epsilon 0.6679999999999997 mean q 12.560515\n",
      "Episode:  332 Reward: 11.0 Epsilon 0.6669999999999997 mean q 12.557586\n",
      "Episode:  333 Reward: 16.0 Epsilon 0.6659999999999997 mean q 10.873272\n",
      "Episode:  334 Reward: 25.0 Epsilon 0.6649999999999997 mean q 10.401529\n",
      "Episode:  335 Reward: 21.0 Epsilon 0.6639999999999997 mean q 11.660257\n",
      "Episode:  336 Reward: 16.0 Epsilon 0.6629999999999997 mean q 11.654454\n",
      "Episode:  337 Reward: 11.0 Epsilon 0.6619999999999997 mean q 12.389563\n",
      "Episode:  338 Reward: 15.0 Epsilon 0.6609999999999997 mean q 12.590239\n",
      "Episode:  339 Reward: 24.0 Epsilon 0.6599999999999997 mean q 11.523992\n",
      "Episode:  340 Reward: 13.0 Epsilon 0.6589999999999997 mean q 11.9366665\n",
      "Episode:  341 Reward: 10.0 Epsilon 0.6579999999999997 mean q 12.536009\n",
      "Episode:  342 Reward: 13.0 Epsilon 0.6569999999999997 mean q 12.166571\n",
      "Episode:  343 Reward: 19.0 Epsilon 0.6559999999999997 mean q 11.968025\n",
      "Episode:  344 Reward: 11.0 Epsilon 0.6549999999999997 mean q 12.082746\n",
      "Episode:  345 Reward: 10.0 Epsilon 0.6539999999999997 mean q 12.314044\n",
      "Episode:  346 Reward: 13.0 Epsilon 0.6529999999999997 mean q 12.651367\n",
      "Episode:  347 Reward: 9.0 Epsilon 0.6519999999999997 mean q 12.824994\n",
      "Episode:  348 Reward: 12.0 Epsilon 0.6509999999999997 mean q 12.722679\n",
      "Episode:  349 Reward: 12.0 Epsilon 0.6499999999999997 mean q 12.1137085\n",
      "Episode:  350 Reward: 28.0 Epsilon 0.6489999999999997 mean q 11.565138\n",
      "Episode:  351 Reward: 13.0 Epsilon 0.6479999999999997 mean q 10.317332\n",
      "Episode:  352 Reward: 21.0 Epsilon 0.6469999999999997 mean q 9.991377\n",
      "Episode:  353 Reward: 10.0 Epsilon 0.6459999999999997 mean q 13.239514\n",
      "Episode:  354 Reward: 14.0 Epsilon 0.6449999999999997 mean q 12.135089\n",
      "Episode:  355 Reward: 11.0 Epsilon 0.6439999999999997 mean q 13.057839\n",
      "Episode:  356 Reward: 13.0 Epsilon 0.6429999999999997 mean q 12.149344\n",
      "Episode:  357 Reward: 31.0 Epsilon 0.6419999999999997 mean q 11.596966\n"
     ]
    },
    {
     "name": "stdout",
     "output_type": "stream",
     "text": [
      "Episode:  358 Reward: 14.0 Epsilon 0.6409999999999997 mean q 12.198008\n",
      "Episode:  359 Reward: 11.0 Epsilon 0.6399999999999997 mean q 12.311187\n",
      "Episode:  360 Reward: 12.0 Epsilon 0.6389999999999997 mean q 12.312481\n",
      "Episode:  361 Reward: 17.0 Epsilon 0.6379999999999997 mean q 12.40013\n",
      "Episode:  362 Reward: 26.0 Epsilon 0.6369999999999997 mean q 11.85897\n",
      "Episode:  363 Reward: 11.0 Epsilon 0.6359999999999997 mean q 12.752486\n",
      "Episode:  364 Reward: 14.0 Epsilon 0.6349999999999997 mean q 12.655854\n",
      "Episode:  365 Reward: 14.0 Epsilon 0.6339999999999997 mean q 12.949807\n",
      "Episode:  366 Reward: 23.0 Epsilon 0.6329999999999997 mean q 10.590137\n",
      "Episode:  367 Reward: 18.0 Epsilon 0.6319999999999997 mean q 12.49567\n",
      "Episode:  368 Reward: 10.0 Epsilon 0.6309999999999997 mean q 13.069226\n",
      "Episode:  369 Reward: 19.0 Epsilon 0.6299999999999997 mean q 12.655654\n",
      "Episode:  370 Reward: 15.0 Epsilon 0.6289999999999997 mean q 13.058975\n",
      "Episode:  371 Reward: 13.0 Epsilon 0.6279999999999997 mean q 13.154678\n",
      "Episode:  372 Reward: 15.0 Epsilon 0.6269999999999997 mean q 12.805737\n",
      "Episode:  373 Reward: 13.0 Epsilon 0.6259999999999997 mean q 12.982606\n",
      "Episode:  374 Reward: 35.0 Epsilon 0.6249999999999997 mean q 10.738421\n",
      "Episode:  375 Reward: 9.0 Epsilon 0.6239999999999997 mean q 13.762358\n",
      "Episode:  376 Reward: 10.0 Epsilon 0.6229999999999997 mean q 13.341057\n",
      "Episode:  377 Reward: 24.0 Epsilon 0.6219999999999997 mean q 10.839271\n",
      "Episode:  378 Reward: 9.0 Epsilon 0.6209999999999997 mean q 13.436429\n",
      "Episode:  379 Reward: 27.0 Epsilon 0.6199999999999997 mean q 10.6688175\n",
      "Episode:  380 Reward: 9.0 Epsilon 0.6189999999999997 mean q 13.084011\n",
      "Episode:  381 Reward: 21.0 Epsilon 0.6179999999999997 mean q 12.4162035\n",
      "Episode:  382 Reward: 35.0 Epsilon 0.6169999999999997 mean q 12.163833\n",
      "Episode:  383 Reward: 10.0 Epsilon 0.6159999999999997 mean q 13.478325\n",
      "Episode:  384 Reward: 21.0 Epsilon 0.6149999999999997 mean q 12.352137\n",
      "Episode:  385 Reward: 12.0 Epsilon 0.6139999999999997 mean q 12.843781\n",
      "Episode:  386 Reward: 9.0 Epsilon 0.6129999999999997 mean q 13.002731\n",
      "Episode:  387 Reward: 11.0 Epsilon 0.6119999999999997 mean q 13.445332\n",
      "Episode:  388 Reward: 17.0 Epsilon 0.6109999999999997 mean q 12.833454\n",
      "Episode:  389 Reward: 20.0 Epsilon 0.6099999999999997 mean q 12.522365\n",
      "Episode:  390 Reward: 11.0 Epsilon 0.6089999999999997 mean q 12.982369\n",
      "Episode:  391 Reward: 25.0 Epsilon 0.6079999999999997 mean q 12.398777\n",
      "Episode:  392 Reward: 11.0 Epsilon 0.6069999999999997 mean q 9.977637\n",
      "Episode:  393 Reward: 12.0 Epsilon 0.6059999999999997 mean q 12.89339\n",
      "Episode:  394 Reward: 12.0 Epsilon 0.6049999999999996 mean q 12.9627905\n",
      "Episode:  395 Reward: 12.0 Epsilon 0.6039999999999996 mean q 12.724152\n",
      "Episode:  396 Reward: 12.0 Epsilon 0.6029999999999996 mean q 12.974095\n",
      "Episode:  397 Reward: 21.0 Epsilon 0.6019999999999996 mean q 10.680234\n",
      "Episode:  398 Reward: 33.0 Epsilon 0.6009999999999996 mean q 11.945672\n",
      "Episode:  399 Reward: 19.0 Epsilon 0.5999999999999996 mean q 12.598014\n",
      "Episode:  400 Reward: 17.0 Epsilon 0.5989999999999996 mean q 12.447355\n",
      "Episode:  401 Reward: 12.0 Epsilon 0.5979999999999996 mean q 12.915965\n",
      "Episode:  402 Reward: 17.0 Epsilon 0.5969999999999996 mean q 12.359512\n",
      "Episode:  403 Reward: 15.0 Epsilon 0.5959999999999996 mean q 12.465258\n",
      "Episode:  404 Reward: 12.0 Epsilon 0.5949999999999996 mean q 12.452403\n",
      "Episode:  405 Reward: 16.0 Epsilon 0.5939999999999996 mean q 12.428589\n",
      "Episode:  406 Reward: 18.0 Epsilon 0.5929999999999996 mean q 12.191987\n",
      "Episode:  407 Reward: 13.0 Epsilon 0.5919999999999996 mean q 12.269148\n",
      "Episode:  408 Reward: 11.0 Epsilon 0.5909999999999996 mean q 9.879196\n",
      "Episode:  409 Reward: 12.0 Epsilon 0.5899999999999996 mean q 12.317777\n",
      "Episode:  410 Reward: 12.0 Epsilon 0.5889999999999996 mean q 12.426202\n",
      "Episode:  411 Reward: 15.0 Epsilon 0.5879999999999996 mean q 10.49653\n",
      "Episode:  412 Reward: 21.0 Epsilon 0.5869999999999996 mean q 12.378013\n",
      "Episode:  413 Reward: 10.0 Epsilon 0.5859999999999996 mean q 12.609407\n",
      "Episode:  414 Reward: 11.0 Epsilon 0.5849999999999996 mean q 12.408652\n",
      "Episode:  415 Reward: 15.0 Epsilon 0.5839999999999996 mean q 12.236395\n",
      "Episode:  416 Reward: 16.0 Epsilon 0.5829999999999996 mean q 12.014832\n",
      "Episode:  417 Reward: 11.0 Epsilon 0.5819999999999996 mean q 12.432794\n",
      "Episode:  418 Reward: 9.0 Epsilon 0.5809999999999996 mean q 12.420147\n",
      "Episode:  419 Reward: 14.0 Epsilon 0.5799999999999996 mean q 12.138626\n",
      "Episode:  420 Reward: 13.0 Epsilon 0.5789999999999996 mean q 12.293654\n",
      "Episode:  421 Reward: 12.0 Epsilon 0.5779999999999996 mean q 12.287056\n",
      "Episode:  422 Reward: 15.0 Epsilon 0.5769999999999996 mean q 11.990612\n",
      "Episode:  423 Reward: 21.0 Epsilon 0.5759999999999996 mean q 10.492495\n",
      "Episode:  424 Reward: 13.0 Epsilon 0.5749999999999996 mean q 11.94247\n",
      "Episode:  425 Reward: 23.0 Epsilon 0.5739999999999996 mean q 10.41273\n",
      "Episode:  426 Reward: 16.0 Epsilon 0.5729999999999996 mean q 11.706743\n",
      "Episode:  427 Reward: 18.0 Epsilon 0.5719999999999996 mean q 11.833141\n",
      "Episode:  428 Reward: 16.0 Epsilon 0.5709999999999996 mean q 11.989303\n",
      "Episode:  429 Reward: 21.0 Epsilon 0.5699999999999996 mean q 11.76921\n",
      "Episode:  430 Reward: 11.0 Epsilon 0.5689999999999996 mean q 11.822299\n",
      "Episode:  431 Reward: 15.0 Epsilon 0.5679999999999996 mean q 11.602888\n",
      "Episode:  432 Reward: 11.0 Epsilon 0.5669999999999996 mean q 11.699955\n",
      "Episode:  433 Reward: 12.0 Epsilon 0.5659999999999996 mean q 11.498618\n",
      "Episode:  434 Reward: 11.0 Epsilon 0.5649999999999996 mean q 11.474743\n",
      "Episode:  435 Reward: 13.0 Epsilon 0.5639999999999996 mean q 11.2515545\n",
      "Episode:  436 Reward: 10.0 Epsilon 0.5629999999999996 mean q 11.154007\n",
      "Episode:  437 Reward: 10.0 Epsilon 0.5619999999999996 mean q 11.247251\n",
      "Episode:  438 Reward: 12.0 Epsilon 0.5609999999999996 mean q 11.435033\n",
      "Episode:  439 Reward: 12.0 Epsilon 0.5599999999999996 mean q 11.0796175\n",
      "Episode:  440 Reward: 11.0 Epsilon 0.5589999999999996 mean q 11.432124\n",
      "Episode:  441 Reward: 14.0 Epsilon 0.5579999999999996 mean q 11.03559\n",
      "Episode:  442 Reward: 12.0 Epsilon 0.5569999999999996 mean q 10.887296\n",
      "Episode:  443 Reward: 18.0 Epsilon 0.5559999999999996 mean q 11.107204\n",
      "Episode:  444 Reward: 19.0 Epsilon 0.5549999999999996 mean q 11.140097\n",
      "Episode:  445 Reward: 33.0 Epsilon 0.5539999999999996 mean q 11.159077\n",
      "Episode:  446 Reward: 19.0 Epsilon 0.5529999999999996 mean q 10.475886\n",
      "Episode:  447 Reward: 13.0 Epsilon 0.5519999999999996 mean q 10.637905\n",
      "Episode:  448 Reward: 14.0 Epsilon 0.5509999999999996 mean q 10.44283\n",
      "Episode:  449 Reward: 16.0 Epsilon 0.5499999999999996 mean q 10.331472\n",
      "Episode:  450 Reward: 13.0 Epsilon 0.5489999999999996 mean q 10.223931\n",
      "Episode:  451 Reward: 15.0 Epsilon 0.5479999999999996 mean q 10.269523\n",
      "Episode:  452 Reward: 10.0 Epsilon 0.5469999999999996 mean q 10.475302\n",
      "Episode:  453 Reward: 21.0 Epsilon 0.5459999999999996 mean q 10.43749\n",
      "Episode:  454 Reward: 13.0 Epsilon 0.5449999999999996 mean q 9.974653\n",
      "Episode:  455 Reward: 14.0 Epsilon 0.5439999999999996 mean q 9.997054\n",
      "Episode:  456 Reward: 11.0 Epsilon 0.5429999999999996 mean q 9.726184\n",
      "Episode:  457 Reward: 10.0 Epsilon 0.5419999999999996 mean q 10.040964\n",
      "Episode:  458 Reward: 28.0 Epsilon 0.5409999999999996 mean q 9.395523\n",
      "Episode:  459 Reward: 10.0 Epsilon 0.5399999999999996 mean q 9.373205\n",
      "Episode:  460 Reward: 16.0 Epsilon 0.5389999999999996 mean q 9.707946\n",
      "Episode:  461 Reward: 15.0 Epsilon 0.5379999999999996 mean q 9.957963\n",
      "Episode:  462 Reward: 16.0 Epsilon 0.5369999999999996 mean q 9.880556\n",
      "Episode:  463 Reward: 11.0 Epsilon 0.5359999999999996 mean q 9.303384\n",
      "Episode:  464 Reward: 12.0 Epsilon 0.5349999999999996 mean q 9.181993\n",
      "Episode:  465 Reward: 19.0 Epsilon 0.5339999999999996 mean q 9.71471\n",
      "Episode:  466 Reward: 15.0 Epsilon 0.5329999999999996 mean q 9.167214\n",
      "Episode:  467 Reward: 23.0 Epsilon 0.5319999999999996 mean q 9.241864\n",
      "Episode:  468 Reward: 13.0 Epsilon 0.5309999999999996 mean q 9.218809\n",
      "Episode:  469 Reward: 11.0 Epsilon 0.5299999999999996 mean q 9.065858\n",
      "Episode:  470 Reward: 20.0 Epsilon 0.5289999999999996 mean q 9.0626545\n",
      "Episode:  471 Reward: 20.0 Epsilon 0.5279999999999996 mean q 9.711746\n",
      "Episode:  472 Reward: 12.0 Epsilon 0.5269999999999996 mean q 8.505033\n",
      "Episode:  473 Reward: 34.0 Epsilon 0.5259999999999996 mean q 9.515236\n",
      "Episode:  474 Reward: 11.0 Epsilon 0.5249999999999996 mean q 8.257778\n",
      "Episode:  475 Reward: 18.0 Epsilon 0.5239999999999996 mean q 8.731485\n"
     ]
    },
    {
     "name": "stdout",
     "output_type": "stream",
     "text": [
      "Episode:  476 Reward: 13.0 Epsilon 0.5229999999999996 mean q 8.524903\n",
      "Episode:  477 Reward: 52.0 Epsilon 0.5219999999999996 mean q 9.22769\n",
      "Episode:  478 Reward: 24.0 Epsilon 0.5209999999999996 mean q 8.686143\n",
      "Episode:  479 Reward: 15.0 Epsilon 0.5199999999999996 mean q 8.485432\n",
      "Episode:  480 Reward: 22.0 Epsilon 0.5189999999999996 mean q 8.789921\n",
      "Episode:  481 Reward: 27.0 Epsilon 0.5179999999999996 mean q 9.569844\n",
      "Episode:  482 Reward: 16.0 Epsilon 0.5169999999999996 mean q 8.539827\n",
      "Episode:  483 Reward: 23.0 Epsilon 0.5159999999999996 mean q 9.810532\n",
      "Episode:  484 Reward: 21.0 Epsilon 0.5149999999999996 mean q 8.6741705\n",
      "Episode:  485 Reward: 50.0 Epsilon 0.5139999999999996 mean q 8.697056\n",
      "Episode:  486 Reward: 33.0 Epsilon 0.5129999999999996 mean q 8.861561\n",
      "Episode:  487 Reward: 45.0 Epsilon 0.5119999999999996 mean q 9.088171\n",
      "Episode:  488 Reward: 79.0 Epsilon 0.5109999999999996 mean q 9.780856\n",
      "Episode:  489 Reward: 32.0 Epsilon 0.5099999999999996 mean q 9.526555\n",
      "Episode:  490 Reward: 42.0 Epsilon 0.5089999999999996 mean q 9.372737\n",
      "Episode:  491 Reward: 71.0 Epsilon 0.5079999999999996 mean q 9.417816\n",
      "Episode:  492 Reward: 35.0 Epsilon 0.5069999999999996 mean q 9.24708\n",
      "Episode:  493 Reward: 20.0 Epsilon 0.5059999999999996 mean q 9.118616\n",
      "Episode:  494 Reward: 39.0 Epsilon 0.5049999999999996 mean q 9.970119\n",
      "Episode:  495 Reward: 113.0 Epsilon 0.5039999999999996 mean q 11.6293125\n",
      "Episode:  496 Reward: 39.0 Epsilon 0.5029999999999996 mean q 10.20601\n",
      "Episode:  497 Reward: 100.0 Epsilon 0.5019999999999996 mean q 11.439275\n",
      "Episode:  498 Reward: 74.0 Epsilon 0.5009999999999996 mean q 12.899585\n",
      "Episode:  499 Reward: 65.0 Epsilon 0.49999999999999956 mean q 12.437169\n",
      "Episode:  500 Reward: 27.0 Epsilon 0.49899999999999956 mean q 10.178961\n",
      "Episode:  501 Reward: 26.0 Epsilon 0.49799999999999955 mean q 10.325901\n",
      "Episode:  502 Reward: 71.0 Epsilon 0.49699999999999955 mean q 11.169031\n",
      "Episode:  503 Reward: 41.0 Epsilon 0.49599999999999955 mean q 10.869632\n",
      "Episode:  504 Reward: 33.0 Epsilon 0.49499999999999955 mean q 10.936358\n",
      "Episode:  505 Reward: 50.0 Epsilon 0.49399999999999955 mean q 12.789635\n",
      "Episode:  506 Reward: 51.0 Epsilon 0.49299999999999955 mean q 11.071637\n",
      "Episode:  507 Reward: 34.0 Epsilon 0.49199999999999955 mean q 10.96637\n",
      "Episode:  508 Reward: 122.0 Epsilon 0.49099999999999955 mean q 11.326221\n",
      "Episode:  509 Reward: 31.0 Epsilon 0.48999999999999955 mean q 11.408965\n",
      "Episode:  510 Reward: 66.0 Epsilon 0.48899999999999955 mean q 11.802041\n",
      "Episode:  511 Reward: 30.0 Epsilon 0.48799999999999955 mean q 12.352232\n",
      "Episode:  512 Reward: 119.0 Epsilon 0.48699999999999954 mean q 13.65515\n",
      "Episode:  513 Reward: 20.0 Epsilon 0.48599999999999954 mean q 12.955533\n",
      "Episode:  514 Reward: 42.0 Epsilon 0.48499999999999954 mean q 11.68636\n",
      "Episode:  515 Reward: 35.0 Epsilon 0.48399999999999954 mean q 12.043511\n",
      "Episode:  516 Reward: 13.0 Epsilon 0.48299999999999954 mean q 11.353902\n",
      "Episode:  517 Reward: 39.0 Epsilon 0.48199999999999954 mean q 11.957177\n",
      "Episode:  518 Reward: 40.0 Epsilon 0.48099999999999954 mean q 12.284131\n",
      "Episode:  519 Reward: 66.0 Epsilon 0.47999999999999954 mean q 13.289134\n",
      "Episode:  520 Reward: 27.0 Epsilon 0.47899999999999954 mean q 13.651154\n",
      "Episode:  521 Reward: 56.0 Epsilon 0.47799999999999954 mean q 12.843124\n",
      "Episode:  522 Reward: 52.0 Epsilon 0.47699999999999954 mean q 12.143182\n",
      "Episode:  523 Reward: 27.0 Epsilon 0.47599999999999953 mean q 12.082005\n",
      "Episode:  524 Reward: 36.0 Epsilon 0.47499999999999953 mean q 12.375037\n",
      "Episode:  525 Reward: 62.0 Epsilon 0.47399999999999953 mean q 12.847187\n",
      "Episode:  526 Reward: 59.0 Epsilon 0.47299999999999953 mean q 12.090499\n",
      "Episode:  527 Reward: 67.0 Epsilon 0.47199999999999953 mean q 13.044727\n",
      "Episode:  528 Reward: 85.0 Epsilon 0.47099999999999953 mean q 13.141774\n",
      "Episode:  529 Reward: 41.0 Epsilon 0.46999999999999953 mean q 13.205954\n",
      "Episode:  530 Reward: 54.0 Epsilon 0.46899999999999953 mean q 13.512538\n",
      "Episode:  531 Reward: 54.0 Epsilon 0.4679999999999995 mean q 16.042074\n",
      "Episode:  532 Reward: 34.0 Epsilon 0.4669999999999995 mean q 15.750399\n",
      "Episode:  533 Reward: 79.0 Epsilon 0.4659999999999995 mean q 15.816433\n",
      "Episode:  534 Reward: 36.0 Epsilon 0.4649999999999995 mean q 13.6400175\n",
      "Episode:  535 Reward: 79.0 Epsilon 0.4639999999999995 mean q 14.8502245\n",
      "Episode:  536 Reward: 45.0 Epsilon 0.4629999999999995 mean q 13.5385895\n",
      "Episode:  537 Reward: 49.0 Epsilon 0.4619999999999995 mean q 16.15879\n",
      "Episode:  538 Reward: 78.0 Epsilon 0.4609999999999995 mean q 13.70403\n",
      "Episode:  539 Reward: 32.0 Epsilon 0.4599999999999995 mean q 12.989114\n",
      "Episode:  540 Reward: 57.0 Epsilon 0.4589999999999995 mean q 13.55226\n",
      "Episode:  541 Reward: 57.0 Epsilon 0.4579999999999995 mean q 16.20542\n",
      "Episode:  542 Reward: 62.0 Epsilon 0.4569999999999995 mean q 16.489582\n",
      "Episode:  543 Reward: 63.0 Epsilon 0.4559999999999995 mean q 16.45958\n",
      "Episode:  544 Reward: 53.0 Epsilon 0.4549999999999995 mean q 14.505241\n",
      "Episode:  545 Reward: 75.0 Epsilon 0.4539999999999995 mean q 14.666373\n",
      "Episode:  546 Reward: 38.0 Epsilon 0.4529999999999995 mean q 14.01875\n",
      "Episode:  547 Reward: 83.0 Epsilon 0.4519999999999995 mean q 15.479006\n",
      "Episode:  548 Reward: 65.0 Epsilon 0.4509999999999995 mean q 15.594133\n",
      "Episode:  549 Reward: 22.0 Epsilon 0.4499999999999995 mean q 13.578165\n",
      "Episode:  550 Reward: 55.0 Epsilon 0.4489999999999995 mean q 14.355413\n",
      "Episode:  551 Reward: 90.0 Epsilon 0.4479999999999995 mean q 15.024905\n",
      "Episode:  552 Reward: 57.0 Epsilon 0.4469999999999995 mean q 14.729466\n",
      "Episode:  553 Reward: 29.0 Epsilon 0.4459999999999995 mean q 13.735926\n",
      "Episode:  554 Reward: 39.0 Epsilon 0.4449999999999995 mean q 14.445291\n",
      "Episode:  555 Reward: 56.0 Epsilon 0.4439999999999995 mean q 13.879219\n",
      "Episode:  556 Reward: 75.0 Epsilon 0.4429999999999995 mean q 14.023596\n",
      "Episode:  557 Reward: 33.0 Epsilon 0.4419999999999995 mean q 14.205614\n",
      "Episode:  558 Reward: 45.0 Epsilon 0.4409999999999995 mean q 13.829663\n",
      "Episode:  559 Reward: 40.0 Epsilon 0.4399999999999995 mean q 14.96302\n",
      "Episode:  560 Reward: 63.0 Epsilon 0.4389999999999995 mean q 14.104669\n",
      "Episode:  561 Reward: 78.0 Epsilon 0.4379999999999995 mean q 16.422613\n",
      "Episode:  562 Reward: 47.0 Epsilon 0.4369999999999995 mean q 14.314808\n",
      "Episode:  563 Reward: 54.0 Epsilon 0.4359999999999995 mean q 14.666227\n",
      "Episode:  564 Reward: 129.0 Epsilon 0.4349999999999995 mean q 14.37018\n",
      "Episode:  565 Reward: 40.0 Epsilon 0.4339999999999995 mean q 15.362866\n",
      "Episode:  566 Reward: 46.0 Epsilon 0.4329999999999995 mean q 14.267121\n",
      "Episode:  567 Reward: 100.0 Epsilon 0.4319999999999995 mean q 16.46996\n",
      "Episode:  568 Reward: 127.0 Epsilon 0.4309999999999995 mean q 14.994349\n",
      "Episode:  569 Reward: 31.0 Epsilon 0.4299999999999995 mean q 16.038631\n",
      "Episode:  570 Reward: 85.0 Epsilon 0.4289999999999995 mean q 17.290134\n",
      "Episode:  571 Reward: 65.0 Epsilon 0.4279999999999995 mean q 14.17949\n",
      "Episode:  572 Reward: 139.0 Epsilon 0.4269999999999995 mean q 16.52776\n",
      "Episode:  573 Reward: 91.0 Epsilon 0.4259999999999995 mean q 14.394553\n",
      "Episode:  574 Reward: 83.0 Epsilon 0.4249999999999995 mean q 14.679658\n",
      "Episode:  575 Reward: 78.0 Epsilon 0.4239999999999995 mean q 16.331287\n",
      "Episode:  576 Reward: 51.0 Epsilon 0.4229999999999995 mean q 16.59144\n",
      "Episode:  577 Reward: 49.0 Epsilon 0.4219999999999995 mean q 14.38853\n",
      "Episode:  578 Reward: 64.0 Epsilon 0.4209999999999995 mean q 17.533504\n",
      "Episode:  579 Reward: 94.0 Epsilon 0.4199999999999995 mean q 15.588849\n",
      "Episode:  580 Reward: 33.0 Epsilon 0.4189999999999995 mean q 15.561287\n",
      "Episode:  581 Reward: 113.0 Epsilon 0.4179999999999995 mean q 17.088522\n",
      "Episode:  582 Reward: 59.0 Epsilon 0.4169999999999995 mean q 14.727442\n",
      "Episode:  583 Reward: 84.0 Epsilon 0.4159999999999995 mean q 14.370546\n",
      "Episode:  584 Reward: 29.0 Epsilon 0.4149999999999995 mean q 14.413061\n",
      "Episode:  585 Reward: 46.0 Epsilon 0.4139999999999995 mean q 17.474966\n",
      "Episode:  586 Reward: 46.0 Epsilon 0.4129999999999995 mean q 16.19217\n",
      "Episode:  587 Reward: 97.0 Epsilon 0.4119999999999995 mean q 16.91263\n",
      "Episode:  588 Reward: 72.0 Epsilon 0.4109999999999995 mean q 14.236674\n",
      "Episode:  589 Reward: 65.0 Epsilon 0.4099999999999995 mean q 16.56991\n",
      "Episode:  590 Reward: 35.0 Epsilon 0.4089999999999995 mean q 16.475916\n",
      "Episode:  591 Reward: 91.0 Epsilon 0.4079999999999995 mean q 15.093463\n"
     ]
    },
    {
     "name": "stdout",
     "output_type": "stream",
     "text": [
      "Episode:  592 Reward: 99.0 Epsilon 0.4069999999999995 mean q 14.935643\n",
      "Episode:  593 Reward: 81.0 Epsilon 0.4059999999999995 mean q 14.329725\n",
      "Episode:  594 Reward: 63.0 Epsilon 0.40499999999999947 mean q 14.100493\n",
      "Episode:  595 Reward: 82.0 Epsilon 0.40399999999999947 mean q 14.888538\n",
      "Episode:  596 Reward: 69.0 Epsilon 0.40299999999999947 mean q 14.281432\n",
      "Episode:  597 Reward: 160.0 Epsilon 0.40199999999999947 mean q 15.409525\n",
      "Episode:  598 Reward: 85.0 Epsilon 0.40099999999999947 mean q 17.229914\n",
      "Episode:  599 Reward: 70.0 Epsilon 0.39999999999999947 mean q 14.53516\n",
      "Episode:  600 Reward: 64.0 Epsilon 0.39899999999999947 mean q 16.802387\n",
      "Episode:  601 Reward: 81.0 Epsilon 0.39799999999999947 mean q 15.372725\n",
      "Episode:  602 Reward: 56.0 Epsilon 0.39699999999999946 mean q 16.926527\n",
      "Episode:  603 Reward: 69.0 Epsilon 0.39599999999999946 mean q 17.623894\n",
      "Episode:  604 Reward: 36.0 Epsilon 0.39499999999999946 mean q 14.193651\n",
      "Episode:  605 Reward: 31.0 Epsilon 0.39399999999999946 mean q 16.109442\n",
      "Episode:  606 Reward: 137.0 Epsilon 0.39299999999999946 mean q 15.2799635\n",
      "Episode:  607 Reward: 63.0 Epsilon 0.39199999999999946 mean q 15.312271\n",
      "Episode:  608 Reward: 63.0 Epsilon 0.39099999999999946 mean q 16.775614\n",
      "Episode:  609 Reward: 71.0 Epsilon 0.38999999999999946 mean q 17.03895\n",
      "Episode:  610 Reward: 77.0 Epsilon 0.38899999999999946 mean q 15.555954\n",
      "Episode:  611 Reward: 69.0 Epsilon 0.38799999999999946 mean q 16.235195\n",
      "Episode:  612 Reward: 45.0 Epsilon 0.38699999999999946 mean q 16.618793\n",
      "Episode:  613 Reward: 34.0 Epsilon 0.38599999999999945 mean q 15.730019\n",
      "Episode:  614 Reward: 59.0 Epsilon 0.38499999999999945 mean q 15.664686\n",
      "Episode:  615 Reward: 70.0 Epsilon 0.38399999999999945 mean q 17.279436\n",
      "Episode:  616 Reward: 52.0 Epsilon 0.38299999999999945 mean q 15.865805\n",
      "Episode:  617 Reward: 80.0 Epsilon 0.38199999999999945 mean q 14.745664\n",
      "Episode:  618 Reward: 86.0 Epsilon 0.38099999999999945 mean q 13.687162\n",
      "Episode:  619 Reward: 37.0 Epsilon 0.37999999999999945 mean q 14.130457\n",
      "Episode:  620 Reward: 76.0 Epsilon 0.37899999999999945 mean q 14.755918\n",
      "Episode:  621 Reward: 63.0 Epsilon 0.37799999999999945 mean q 16.85911\n",
      "Episode:  622 Reward: 90.0 Epsilon 0.37699999999999945 mean q 15.465514\n",
      "Episode:  623 Reward: 61.0 Epsilon 0.37599999999999945 mean q 15.041847\n",
      "Episode:  624 Reward: 79.0 Epsilon 0.37499999999999944 mean q 15.067437\n",
      "Episode:  625 Reward: 79.0 Epsilon 0.37399999999999944 mean q 16.378433\n",
      "Episode:  626 Reward: 100.0 Epsilon 0.37299999999999944 mean q 14.606738\n",
      "Episode:  627 Reward: 79.0 Epsilon 0.37199999999999944 mean q 14.705031\n",
      "Episode:  628 Reward: 52.0 Epsilon 0.37099999999999944 mean q 13.394679\n",
      "Episode:  629 Reward: 116.0 Epsilon 0.36999999999999944 mean q 16.533134\n",
      "Episode:  630 Reward: 79.0 Epsilon 0.36899999999999944 mean q 15.32303\n",
      "Episode:  631 Reward: 72.0 Epsilon 0.36799999999999944 mean q 16.657564\n",
      "Episode:  632 Reward: 81.0 Epsilon 0.36699999999999944 mean q 16.927322\n",
      "Episode:  633 Reward: 45.0 Epsilon 0.36599999999999944 mean q 16.927551\n",
      "Episode:  634 Reward: 109.0 Epsilon 0.36499999999999944 mean q 15.632365\n",
      "Episode:  635 Reward: 68.0 Epsilon 0.36399999999999944 mean q 14.905074\n",
      "Episode:  636 Reward: 53.0 Epsilon 0.36299999999999943 mean q 15.041625\n",
      "Episode:  637 Reward: 147.0 Epsilon 0.36199999999999943 mean q 16.399328\n",
      "Episode:  638 Reward: 82.0 Epsilon 0.36099999999999943 mean q 14.548494\n",
      "Episode:  639 Reward: 91.0 Epsilon 0.35999999999999943 mean q 15.217879\n",
      "Episode:  640 Reward: 139.0 Epsilon 0.35899999999999943 mean q 16.18344\n",
      "Episode:  641 Reward: 105.0 Epsilon 0.35799999999999943 mean q 15.5930195\n",
      "Episode:  642 Reward: 58.0 Epsilon 0.35699999999999943 mean q 14.55058\n",
      "Episode:  643 Reward: 68.0 Epsilon 0.35599999999999943 mean q 14.851103\n",
      "Episode:  644 Reward: 119.0 Epsilon 0.3549999999999994 mean q 14.97676\n",
      "Episode:  645 Reward: 140.0 Epsilon 0.3539999999999994 mean q 15.84287\n",
      "Episode:  646 Reward: 103.0 Epsilon 0.3529999999999994 mean q 15.657632\n",
      "Episode:  647 Reward: 200.0 Epsilon 0.3519999999999994 mean q 16.277897\n",
      "Episode:  648 Reward: 77.0 Epsilon 0.3509999999999994 mean q 15.219977\n",
      "Episode:  649 Reward: 88.0 Epsilon 0.3499999999999994 mean q 17.01982\n",
      "Episode:  650 Reward: 60.0 Epsilon 0.3489999999999994 mean q 17.0828\n",
      "Episode:  651 Reward: 122.0 Epsilon 0.3479999999999994 mean q 17.195042\n",
      "Episode:  652 Reward: 63.0 Epsilon 0.3469999999999994 mean q 16.699638\n",
      "Episode:  653 Reward: 104.0 Epsilon 0.3459999999999994 mean q 17.168755\n",
      "Episode:  654 Reward: 53.0 Epsilon 0.3449999999999994 mean q 16.977575\n",
      "Episode:  655 Reward: 189.0 Epsilon 0.3439999999999994 mean q 15.747962\n",
      "Episode:  656 Reward: 172.0 Epsilon 0.3429999999999994 mean q 15.503162\n",
      "Episode:  657 Reward: 113.0 Epsilon 0.3419999999999994 mean q 16.97498\n",
      "Episode:  658 Reward: 70.0 Epsilon 0.3409999999999994 mean q 14.363563\n",
      "Episode:  659 Reward: 124.0 Epsilon 0.3399999999999994 mean q 15.3539505\n",
      "Episode:  660 Reward: 63.0 Epsilon 0.3389999999999994 mean q 14.014708\n",
      "Episode:  661 Reward: 43.0 Epsilon 0.3379999999999994 mean q 14.675709\n",
      "Episode:  662 Reward: 99.0 Epsilon 0.3369999999999994 mean q 15.468679\n",
      "Episode:  663 Reward: 124.0 Epsilon 0.3359999999999994 mean q 16.152655\n",
      "Episode:  664 Reward: 125.0 Epsilon 0.3349999999999994 mean q 14.894924\n",
      "Episode:  665 Reward: 57.0 Epsilon 0.3339999999999994 mean q 16.884842\n",
      "Episode:  666 Reward: 200.0 Epsilon 0.3329999999999994 mean q 16.78698\n",
      "Episode:  667 Reward: 63.0 Epsilon 0.3319999999999994 mean q 17.090101\n",
      "Episode:  668 Reward: 70.0 Epsilon 0.3309999999999994 mean q 13.812758\n",
      "Episode:  669 Reward: 56.0 Epsilon 0.3299999999999994 mean q 16.934843\n",
      "Episode:  670 Reward: 185.0 Epsilon 0.3289999999999994 mean q 17.014498\n",
      "Episode:  671 Reward: 61.0 Epsilon 0.3279999999999994 mean q 13.885172\n",
      "Episode:  672 Reward: 63.0 Epsilon 0.3269999999999994 mean q 14.281131\n",
      "Episode:  673 Reward: 200.0 Epsilon 0.3259999999999994 mean q 16.209219\n",
      "Episode:  674 Reward: 106.0 Epsilon 0.3249999999999994 mean q 14.82617\n",
      "Episode:  675 Reward: 157.0 Epsilon 0.3239999999999994 mean q 14.5393505\n",
      "Episode:  676 Reward: 113.0 Epsilon 0.3229999999999994 mean q 13.108714\n",
      "Episode:  677 Reward: 145.0 Epsilon 0.3219999999999994 mean q 13.985934\n",
      "Episode:  678 Reward: 67.0 Epsilon 0.3209999999999994 mean q 15.424036\n",
      "Episode:  679 Reward: 200.0 Epsilon 0.3199999999999994 mean q 14.356848\n",
      "Episode:  680 Reward: 90.0 Epsilon 0.3189999999999994 mean q 16.811672\n",
      "Episode:  681 Reward: 104.0 Epsilon 0.3179999999999994 mean q 16.890331\n",
      "Episode:  682 Reward: 172.0 Epsilon 0.3169999999999994 mean q 16.853895\n",
      "Episode:  683 Reward: 200.0 Epsilon 0.3159999999999994 mean q 16.644258\n",
      "Episode:  684 Reward: 200.0 Epsilon 0.3149999999999994 mean q 16.072193\n",
      "Episode:  685 Reward: 174.0 Epsilon 0.3139999999999994 mean q 16.595541\n",
      "Episode:  686 Reward: 161.0 Epsilon 0.3129999999999994 mean q 15.855111\n",
      "Episode:  687 Reward: 142.0 Epsilon 0.3119999999999994 mean q 14.309876\n",
      "Episode:  688 Reward: 160.0 Epsilon 0.3109999999999994 mean q 14.762189\n",
      "Episode:  689 Reward: 170.0 Epsilon 0.3099999999999994 mean q 16.091688\n",
      "Episode:  690 Reward: 46.0 Epsilon 0.3089999999999994 mean q 15.7459135\n",
      "Episode:  691 Reward: 200.0 Epsilon 0.3079999999999994 mean q 16.998177\n",
      "Episode:  692 Reward: 200.0 Epsilon 0.3069999999999994 mean q 16.697193\n",
      "Episode:  693 Reward: 187.0 Epsilon 0.3059999999999994 mean q 15.5172205\n",
      "Episode:  694 Reward: 200.0 Epsilon 0.3049999999999994 mean q 16.713005\n",
      "Episode:  695 Reward: 129.0 Epsilon 0.3039999999999994 mean q 15.589268\n",
      "Episode:  696 Reward: 200.0 Epsilon 0.3029999999999994 mean q 15.614754\n",
      "Episode:  697 Reward: 139.0 Epsilon 0.3019999999999994 mean q 14.913163\n",
      "Episode:  698 Reward: 200.0 Epsilon 0.3009999999999994 mean q 16.501743\n",
      "Episode:  699 Reward: 200.0 Epsilon 0.2999999999999994 mean q 16.557205\n",
      "Episode:  700 Reward: 163.0 Epsilon 0.2989999999999994 mean q 15.36705\n",
      "Episode:  701 Reward: 136.0 Epsilon 0.2979999999999994 mean q 14.955762\n",
      "Episode:  702 Reward: 157.0 Epsilon 0.2969999999999994 mean q 15.636949\n",
      "Episode:  703 Reward: 200.0 Epsilon 0.2959999999999994 mean q 16.863857\n",
      "Episode:  704 Reward: 44.0 Epsilon 0.2949999999999994 mean q 16.601463\n",
      "Episode:  705 Reward: 200.0 Epsilon 0.2939999999999994 mean q 16.620129\n",
      "Episode:  706 Reward: 87.0 Epsilon 0.29299999999999937 mean q 17.667286\n"
     ]
    },
    {
     "name": "stdout",
     "output_type": "stream",
     "text": [
      "Episode:  707 Reward: 200.0 Epsilon 0.29199999999999937 mean q 14.758634\n",
      "Episode:  708 Reward: 200.0 Epsilon 0.29099999999999937 mean q 17.187603\n",
      "Episode:  709 Reward: 172.0 Epsilon 0.28999999999999937 mean q 16.852985\n",
      "Episode:  710 Reward: 200.0 Epsilon 0.28899999999999937 mean q 17.7599\n",
      "Episode:  711 Reward: 149.0 Epsilon 0.28799999999999937 mean q 15.491103\n",
      "Episode:  712 Reward: 200.0 Epsilon 0.28699999999999937 mean q 17.061077\n",
      "Episode:  713 Reward: 200.0 Epsilon 0.28599999999999937 mean q 18.167192\n",
      "Episode:  714 Reward: 200.0 Epsilon 0.28499999999999936 mean q 17.991827\n",
      "Episode:  715 Reward: 200.0 Epsilon 0.28399999999999936 mean q 17.12273\n",
      "Episode:  716 Reward: 159.0 Epsilon 0.28299999999999936 mean q 15.060056\n",
      "Episode:  717 Reward: 200.0 Epsilon 0.28199999999999936 mean q 17.663101\n",
      "Episode:  718 Reward: 200.0 Epsilon 0.28099999999999936 mean q 17.862846\n",
      "Episode:  719 Reward: 200.0 Epsilon 0.27999999999999936 mean q 16.955078\n",
      "Episode:  720 Reward: 200.0 Epsilon 0.27899999999999936 mean q 16.879309\n",
      "Episode:  721 Reward: 200.0 Epsilon 0.27799999999999936 mean q 17.279213\n",
      "Episode:  722 Reward: 200.0 Epsilon 0.27699999999999936 mean q 16.635181\n",
      "Episode:  723 Reward: 200.0 Epsilon 0.27599999999999936 mean q 17.212427\n",
      "Episode:  724 Reward: 200.0 Epsilon 0.27499999999999936 mean q 18.306828\n",
      "Episode:  725 Reward: 200.0 Epsilon 0.27399999999999936 mean q 18.71353\n",
      "Episode:  726 Reward: 200.0 Epsilon 0.27299999999999935 mean q 16.933382\n",
      "Episode:  727 Reward: 200.0 Epsilon 0.27199999999999935 mean q 18.111845\n",
      "Episode:  728 Reward: 200.0 Epsilon 0.27099999999999935 mean q 16.77609\n",
      "Episode:  729 Reward: 200.0 Epsilon 0.26999999999999935 mean q 16.782944\n",
      "Episode:  730 Reward: 200.0 Epsilon 0.26899999999999935 mean q 17.63322\n",
      "Episode:  731 Reward: 200.0 Epsilon 0.26799999999999935 mean q 17.991205\n",
      "Episode:  732 Reward: 200.0 Epsilon 0.26699999999999935 mean q 18.336733\n",
      "Episode:  733 Reward: 200.0 Epsilon 0.26599999999999935 mean q 17.063013\n",
      "Episode:  734 Reward: 200.0 Epsilon 0.26499999999999935 mean q 18.622025\n",
      "Episode:  735 Reward: 200.0 Epsilon 0.26399999999999935 mean q 19.109812\n",
      "Episode:  736 Reward: 200.0 Epsilon 0.26299999999999935 mean q 18.323082\n",
      "Episode:  737 Reward: 200.0 Epsilon 0.26199999999999934 mean q 18.89671\n",
      "Episode:  738 Reward: 200.0 Epsilon 0.26099999999999934 mean q 18.03499\n",
      "Episode:  739 Reward: 200.0 Epsilon 0.25999999999999934 mean q 19.057585\n",
      "Episode:  740 Reward: 200.0 Epsilon 0.25899999999999934 mean q 18.23542\n",
      "Episode:  741 Reward: 156.0 Epsilon 0.25799999999999934 mean q 18.276909\n",
      "Episode:  742 Reward: 200.0 Epsilon 0.25699999999999934 mean q 18.742285\n",
      "Episode:  743 Reward: 200.0 Epsilon 0.25599999999999934 mean q 17.197704\n",
      "Episode:  744 Reward: 200.0 Epsilon 0.25499999999999934 mean q 19.132954\n",
      "Episode:  745 Reward: 200.0 Epsilon 0.25399999999999934 mean q 19.313854\n",
      "Episode:  746 Reward: 200.0 Epsilon 0.25299999999999934 mean q 18.08799\n",
      "Episode:  747 Reward: 200.0 Epsilon 0.25199999999999934 mean q 19.000475\n",
      "Episode:  748 Reward: 200.0 Epsilon 0.25099999999999933 mean q 19.019375\n",
      "Episode:  749 Reward: 200.0 Epsilon 0.24999999999999933 mean q 18.310875\n",
      "Episode:  750 Reward: 200.0 Epsilon 0.24899999999999933 mean q 19.466017\n",
      "Episode:  751 Reward: 200.0 Epsilon 0.24799999999999933 mean q 18.715506\n",
      "Episode:  752 Reward: 200.0 Epsilon 0.24699999999999933 mean q 19.190659\n",
      "Episode:  753 Reward: 200.0 Epsilon 0.24599999999999933 mean q 19.15285\n",
      "Episode:  754 Reward: 200.0 Epsilon 0.24499999999999933 mean q 19.207268\n",
      "Episode:  755 Reward: 200.0 Epsilon 0.24399999999999933 mean q 19.182135\n",
      "Episode:  756 Reward: 200.0 Epsilon 0.24299999999999933 mean q 18.8499\n",
      "Episode:  757 Reward: 200.0 Epsilon 0.24199999999999933 mean q 19.219694\n",
      "Episode:  758 Reward: 200.0 Epsilon 0.24099999999999933 mean q 19.463066\n",
      "Episode:  759 Reward: 200.0 Epsilon 0.23999999999999932 mean q 19.49619\n",
      "Episode:  760 Reward: 200.0 Epsilon 0.23899999999999932 mean q 19.43888\n"
     ]
    }
   ],
   "source": [
    "# Create the environment\n",
    "env = gym.make(\"CartPole-v0\")\n",
    "\n",
    "# Initializations\n",
    "num_actions = env.action_space.n\n",
    "obs_dim = env.observation_space.shape[0]\n",
    "\n",
    "# Our Neural Netork model used to estimate the Q-values\n",
    "model = DoubleQLearningModel(state_dim=obs_dim, action_dim=num_actions, learning_rate=1e-4)\n",
    "\n",
    "# Create replay buffer, where experience in form of tuples <s,a,r,s',t>, gathered from the environment is stored \n",
    "# for training\n",
    "replay_buffer = ExperienceReplay(state_size=obs_dim)\n",
    "\n",
    "# Train\n",
    "num_episodes = 1200 \n",
    "batch_size = 128 \n",
    "R, R_avg = train_loop_ddqn(model, env, num_episodes, batch_size) "
   ]
  },
  {
   "cell_type": "code",
   "execution_count": 40,
   "metadata": {
    "deletable": false,
    "editable": false,
    "nbgrader": {
     "checksum": "ccfca43f389c569bcbffc990f47b4193",
     "grade": false,
     "grade_id": "cell-4757be1a3ec18b56",
     "locked": true,
     "schema_version": 1,
     "solution": false
    }
   },
   "outputs": [],
   "source": [
    "# close window (if you used env.render())\n",
    "env.close()"
   ]
  },
  {
   "cell_type": "markdown",
   "metadata": {
    "deletable": false,
    "editable": false,
    "nbgrader": {
     "checksum": "6c25e0e7133fd3583dcac959c1daede9",
     "grade": false,
     "grade_id": "cell-8f1ad36de733ed92",
     "locked": true,
     "schema_version": 1,
     "solution": false
    }
   },
   "source": [
    "According to the code above, and the code in the provided .py file, answer the following questions:\n",
    "    \n",
    "What is the state for this problem?"
   ]
  },
  {
   "cell_type": "markdown",
   "metadata": {
    "deletable": false,
    "nbgrader": {
     "checksum": "2f28740b9ccf7bf2fa7f166c9fbde003",
     "grade": true,
     "grade_id": "cell-0a780f1afdcd6b1a",
     "locked": false,
     "points": 0,
     "schema_version": 1,
     "solution": true
    }
   },
   "source": [
    "**Your answer:** The state space in our problem is a vector of 4 quantities: position, velocity, angle and angular velocity."
   ]
  },
  {
   "cell_type": "markdown",
   "metadata": {
    "deletable": false,
    "editable": false,
    "nbgrader": {
     "checksum": "d24bef4443fea27ffd50ac2afa03e864",
     "grade": false,
     "grade_id": "cell-50a080269bf6f296",
     "locked": true,
     "schema_version": 1,
     "solution": false
    }
   },
   "source": [
    "When do we switch the networks (i.e. when does the online network become the fixed one, and vice-versa)?"
   ]
  },
  {
   "cell_type": "markdown",
   "metadata": {
    "deletable": false,
    "nbgrader": {
     "checksum": "ec6fb2c4cdc4df93cd1669b0e4696410",
     "grade": true,
     "grade_id": "cell-099530ded38d7038",
     "locked": false,
     "points": 0,
     "schema_version": 1,
     "solution": true
    }
   },
   "source": [
    "**Your answer:** After one training step when we reach a replay buffer larger than 1000 samples, there is a 50% probability to switch networks."
   ]
  },
  {
   "cell_type": "markdown",
   "metadata": {
    "deletable": false,
    "editable": false,
    "nbgrader": {
     "checksum": "f182ff445a4e8d3848403742faa6a1cd",
     "grade": false,
     "grade_id": "cell-0836fc1b783d1158",
     "locked": true,
     "schema_version": 1,
     "solution": false
    }
   },
   "source": [
    "Run the cell below to visualize your final policy in an episode from this environment.\n",
    "\n",
    "**Note:** In order to visualize, the env.render() command needs to work out on your system (see comment a few cells above)."
   ]
  },
  {
   "cell_type": "code",
   "execution_count": 46,
   "metadata": {
    "deletable": false,
    "editable": false,
    "nbgrader": {
     "checksum": "4ff19e83fbc6ba870e1b638fc7801f37",
     "grade": false,
     "grade_id": "cell-1e8a9b49909882ac",
     "locked": true,
     "schema_version": 1,
     "solution": false
    }
   },
   "outputs": [
    {
     "name": "stdout",
     "output_type": "stream",
     "text": [
      "\u001b[33mWARN: gym.spaces.Box autodetected dtype as <class 'numpy.float32'>. Please provide explicit dtype.\u001b[0m\n"
     ]
    }
   ],
   "source": [
    "import time\n",
    "num_episodes = 1\n",
    "env = gym.make(\"CartPole-v0\")\n",
    "\n",
    "for i in range(num_episodes):\n",
    "        state = env.reset() #reset to initial state\n",
    "        state = np.expand_dims(state, axis=0)/2\n",
    "        terminal = False # reset terminal flag\n",
    "        while not terminal:\n",
    "            env.render()\n",
    "            time.sleep(.05)\n",
    "            q_values = model.get_q_values(state)\n",
    "            policy = eps_greedy_policy(q_values.squeeze(), .1) # greedy policy\n",
    "            action = np.random.choice(num_actions, p=policy)\n",
    "            state, reward, terminal, _ = env.step(action) # take one step in the evironment\n",
    "            state = np.expand_dims(state, axis=0)/2\n",
    "# close window\n",
    "env.close();"
   ]
  },
  {
   "cell_type": "markdown",
   "metadata": {
    "deletable": false,
    "editable": false,
    "nbgrader": {
     "checksum": "91c95cdee8f1715e789b8bdf2a4e2ff8",
     "grade": false,
     "grade_id": "cell-0bb5d237ca6839d6",
     "locked": true,
     "schema_version": 1,
     "solution": false
    }
   },
   "source": [
    "Plot the episodic rewards obtained throughout the optimization, together with a moving average of it (since the episodic reward is usually very noisy)."
   ]
  },
  {
   "cell_type": "code",
   "execution_count": 48,
   "metadata": {
    "deletable": false,
    "editable": false,
    "nbgrader": {
     "checksum": "a49cda53e12c1b8a976338c0f8bff7b9",
     "grade": false,
     "grade_id": "cell-a3c72b1dbffd2db4",
     "locked": true,
     "schema_version": 1,
     "solution": false
    }
   },
   "outputs": [
    {
     "data": {
      "image/png": "[encoded data removed]",
      "text/plain": [
       "<Figure size 432x288 with 1 Axes>"
      ]
     },
     "metadata": {},
     "output_type": "display_data"
    }
   ],
   "source": [
    "%matplotlib inline\n",
    "import matplotlib.pyplot as plt\n",
    "\n",
    "rewards = plt.plot(R, alpha=.4, label='R')\n",
    "avg_rewards = plt.plot(R_avg,label='avg R')\n",
    "plt.legend(bbox_to_anchor=(1.01, 1), loc=2, borderaxespad=0.)\n",
    "plt.xlabel('Episode')\n",
    "plt.ylim(0, 210)\n",
    "plt.show()"
   ]
  },
  {
   "cell_type": "markdown",
   "metadata": {
    "deletable": false,
    "editable": false,
    "nbgrader": {
     "checksum": "99ff38a2a4ff5f958140c9ee6019db87",
     "grade": false,
     "grade_id": "cell-293ec5dfa636ff48",
     "locked": true,
     "schema_version": 1,
     "solution": false
    }
   },
   "source": [
    "Congratulations, you have now successfully implemented the DDQN algorithm. You are encouraged to explore different problems. There are a lot of different environments ready for you to implement your algorithms in. A few of these resources are:\n",
    "* [OpenAI gym](https://github.com/openai/gym)\n",
    "* [OpenAI Universe](https://github.com/openai/universe)\n",
    "* [DeepMind Lab](https://deepmind.com/blog/open-sourcing-deepmind-lab/)\n",
    "\n",
    "The model you implemented in this lab can be extended to solve harder problems. A good starting-point is to try to solve the Acrobot-problem, by loading the environment as \n",
    "\n",
    "**gym.make(\"Acrobot-v1\")**.\n",
    "\n",
    "The problem might require some modifications to how you decay $\\epsilon$, but otherwise, the code you have written within this lab should be sufficient. "
   ]
  },
  {
   "cell_type": "markdown",
   "metadata": {
    "deletable": false,
    "editable": false,
    "nbgrader": {
     "checksum": "6be3464a29fcec53d4c2434c8af73acd",
     "grade": false,
     "grade_id": "cell-671cfb5a590863e9",
     "locked": true,
     "schema_version": 1,
     "solution": false
    }
   },
   "source": [
    "### Task 3.2 Atari games\n",
    "\n",
    "A common benchmark for reinforcement learning algorithms is the old Atari games. For the Atari games, each observation consists of one screenshot of the current state of the game. Other than adding convolutional layers to your neural network, there is one more issue regarding the new input that needs to be solved. Name at least two solutions to the problem, and why it won't work without these changes. \n",
    "\n",
    "Hint:\n",
    "- Imagine the game of pong. What is important for the algorithm to predict? What is the input to the algorithm? Is it possible to predict what we want from the input given?"
   ]
  },
  {
   "cell_type": "markdown",
   "metadata": {
    "deletable": false,
    "nbgrader": {
     "checksum": "8c57f74e2e49c6ee244370df1b46e5a2",
     "grade": true,
     "grade_id": "cell-55e109dd6169612b",
     "locked": false,
     "points": 0,
     "schema_version": 1,
     "solution": true
    }
   },
   "source": [
    "**Your answer:** It is important to be able to predict trajectories and speed of the moving objects (ball, opponent paddle, own paddle). Since we only have a screenshot, we only get positions. To be able to reconstruct velocities we need multiple screenshots from previous time instances and possibly use these screenshots as channels (just like a RGB input but now we have t, t-1 and t-2). The number of previous screenshots to use is a hyperparameter to tune. \n",
    "\n",
    "By comparing screenshots from different time instances it should be possible to deduct movements but this is not the only option. One could also use a recurrent structure to be able to \"remember\" previous features. For example first a CNN calculating a feature space and on the top of this network place a RNN to use the features from the current input and the recent hidden states to make better predictions."
   ]
  }
 ],
 "metadata": {
  "kernelspec": {
   "display_name": "Python 3",
   "language": "python",
   "name": "python3"
  },
  "language_info": {
   "codemirror_mode": {
    "name": "ipython",
    "version": 3
   },
   "file_extension": ".py",
   "mimetype": "text/x-python",
   "name": "python",
   "nbconvert_exporter": "python",
   "pygments_lexer": "ipython3",
   "version": "3.6.6"
  }
 },
 "nbformat": 4,
 "nbformat_minor": 1
}
