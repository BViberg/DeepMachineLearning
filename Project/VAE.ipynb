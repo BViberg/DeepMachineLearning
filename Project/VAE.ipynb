{
 "cells": [
  {
   "cell_type": "code",
   "execution_count": 1,
   "metadata": {},
   "outputs": [],
   "source": [
    "import numpy as np"
   ]
  },
  {
   "cell_type": "markdown",
   "metadata": {},
   "source": [
    "## Import data"
   ]
  },
  {
   "cell_type": "code",
   "execution_count": 2,
   "metadata": {},
   "outputs": [
    {
     "name": "stdout",
     "output_type": "stream",
     "text": [
      "(60000, 117, 4)\n"
     ]
    }
   ],
   "source": [
    "# Import data\n",
    "train = np.load('train_data_abs_coord.npy').astype(float)\n",
    "val = np.load('test_data_abs_coord.npy').astype(float)\n",
    "print((train.shape))"
   ]
  },
  {
   "cell_type": "markdown",
   "metadata": {},
   "source": [
    "## Define VAE"
   ]
  },
  {
   "cell_type": "code",
   "execution_count": 3,
   "metadata": {},
   "outputs": [
    {
     "name": "stderr",
     "output_type": "stream",
     "text": [
      "Using TensorFlow backend.\n"
     ]
    }
   ],
   "source": [
    "import keras\n",
    "from keras import backend as K\n",
    "from keras.models import Sequential, Model\n",
    "from keras.layers import Input, LSTM, CuDNNLSTM, RepeatVector\n",
    "from keras.layers.core import Flatten, Dense, Dropout, Lambda\n",
    "from keras.optimizers import SGD, RMSprop, Adam\n",
    "from keras import objectives\n",
    "\n",
    "\n",
    "def create_lstm_vae(input_dim, \n",
    "    timesteps, \n",
    "    batch_size, \n",
    "    intermediate_dim, \n",
    "    latent_dim,\n",
    "    epsilon_std=1.):\n",
    "\n",
    "    \"\"\"\n",
    "    Creates an LSTM Variational Autoencoder (VAE). Returns VAE, Encoder, Generator. \n",
    "    # Arguments\n",
    "        input_dim: int.\n",
    "        timesteps: int, input timestep dimension.\n",
    "        batch_size: int.\n",
    "        intermediate_dim: int, output shape of LSTM. \n",
    "        latent_dim: int, latent z-layer shape. \n",
    "        epsilon_std: float, z-layer sigma.\n",
    "    # References\n",
    "        - [Building Autoencoders in Keras](https://blog.keras.io/building-autoencoders-in-keras.html)\n",
    "        - [Generating sentences from a continuous space](https://arxiv.org/abs/1511.06349)\n",
    "    \"\"\"\n",
    "    x = Input(shape=(timesteps, input_dim,))\n",
    "\n",
    "    # LSTM encoding\n",
    "    h = CuDNNLSTM(intermediate_dim)(x)\n",
    "\n",
    "    # VAE Z layer\n",
    "    z_mean = Dense(latent_dim)(h)\n",
    "    z_log_sigma = Dense(latent_dim)(h)\n",
    "    \n",
    "    def sampling(args):\n",
    "        z_mean, z_log_sigma = args\n",
    "        epsilon = K.random_normal(shape=(batch_size, latent_dim),\n",
    "                                  mean=0., stddev=epsilon_std)\n",
    "        return z_mean + K.exp(z_log_sigma) * epsilon\n",
    "\n",
    "    # note that \"output_shape\" isn't necessary with the TensorFlow backend\n",
    "    # so you could write `Lambda(sampling)([z_mean, z_log_sigma])`\n",
    "    z = Lambda(sampling, output_shape=(latent_dim,))([z_mean, z_log_sigma])\n",
    "    \n",
    "    # decoded LSTM layer\n",
    "    decoder_h = CuDNNLSTM(intermediate_dim, return_sequences=True)\n",
    "    decoder_mean = LSTM(input_dim, return_sequences=True,activation='linear')\n",
    "\n",
    "    h_decoded = RepeatVector(timesteps)(z)\n",
    "    h_decoded = decoder_h(h_decoded)\n",
    "\n",
    "    # decoded layer\n",
    "    x_decoded_mean = decoder_mean(h_decoded)\n",
    "    \n",
    "    # end-to-end autoencoder\n",
    "    vae = Model(x, x_decoded_mean)\n",
    "\n",
    "    # encoder, from inputs to latent space\n",
    "    encoder = Model(x, z_mean)\n",
    "\n",
    "    # generator, from latent space to reconstructed inputs\n",
    "    decoder_input = Input(shape=(latent_dim,))\n",
    "\n",
    "    _h_decoded = RepeatVector(timesteps)(decoder_input)\n",
    "    _h_decoded = decoder_h(_h_decoded)\n",
    "\n",
    "    _x_decoded_mean = decoder_mean(_h_decoded)\n",
    "    generator = Model(decoder_input, _x_decoded_mean)\n",
    "    \n",
    "    def vae_loss(x, x_decoded_mean):\n",
    "        xent_loss = objectives.mse(x, x_decoded_mean)\n",
    "        kl_loss = - 0.5 * K.mean(1 + z_log_sigma - K.square(z_mean) - K.exp(z_log_sigma))\n",
    "        loss = xent_loss + kl_loss\n",
    "        return loss\n",
    "    opt=Adam(lr=0.0001)\n",
    "    vae.compile(optimizer=opt, loss=vae_loss)\n",
    "    \n",
    "    return vae, encoder, generator"
   ]
  },
  {
   "cell_type": "code",
   "execution_count": 12,
   "metadata": {
    "scrolled": false
   },
   "outputs": [
    {
     "name": "stdout",
     "output_type": "stream",
     "text": [
      "Train on 60000 samples, validate on 10000 samples\n",
      "Epoch 1/23\n",
      "60000/60000 [==============================] - 58s 961us/step - loss: 3.9897 - val_loss: 4.1704\n",
      "Epoch 2/23\n",
      "60000/60000 [==============================] - 55s 911us/step - loss: 4.0747 - val_loss: 3.8765\n",
      "Epoch 3/23\n",
      "60000/60000 [==============================] - 55s 909us/step - loss: 3.8618 - val_loss: 3.7402\n",
      "Epoch 4/23\n",
      "60000/60000 [==============================] - 55s 911us/step - loss: 3.7359 - val_loss: 3.6132\n",
      "Epoch 5/23\n",
      "60000/60000 [==============================] - 55s 915us/step - loss: 3.5639 - val_loss: 3.4019\n",
      "Epoch 6/23\n",
      "60000/60000 [==============================] - 55s 915us/step - loss: 3.4578 - val_loss: 3.3830\n",
      "Epoch 7/23\n",
      "60000/60000 [==============================] - 55s 917us/step - loss: 3.4707 - val_loss: 3.4195\n",
      "Epoch 8/23\n",
      "60000/60000 [==============================] - 55s 916us/step - loss: 3.4565 - val_loss: 3.3812\n",
      "Epoch 9/23\n",
      "60000/60000 [==============================] - 55s 915us/step - loss: 3.4724 - val_loss: 3.4241\n",
      "Epoch 10/23\n",
      "60000/60000 [==============================] - 55s 914us/step - loss: 3.4623 - val_loss: 3.3851\n",
      "Epoch 11/23\n",
      "60000/60000 [==============================] - 55s 913us/step - loss: 3.4742 - val_loss: 3.3935\n",
      "Epoch 12/23\n",
      "60000/60000 [==============================] - 55s 916us/step - loss: 3.4725 - val_loss: 3.3959\n",
      "Epoch 13/23\n",
      "60000/60000 [==============================] - 55s 917us/step - loss: 3.4614 - val_loss: 3.4175\n",
      "Epoch 14/23\n",
      "60000/60000 [==============================] - 55s 916us/step - loss: 3.4596 - val_loss: 3.3988\n",
      "Epoch 15/23\n",
      "60000/60000 [==============================] - 55s 916us/step - loss: 3.4668 - val_loss: 3.4053\n",
      "Epoch 16/23\n",
      "60000/60000 [==============================] - 55s 915us/step - loss: 3.4668 - val_loss: 3.4008\n",
      "Epoch 17/23\n",
      "60000/60000 [==============================] - 55s 914us/step - loss: 3.4635 - val_loss: 3.4101\n",
      "Epoch 18/23\n",
      "60000/60000 [==============================] - 55s 915us/step - loss: 3.4607 - val_loss: 3.3809\n",
      "Epoch 19/23\n",
      "60000/60000 [==============================] - 55s 910us/step - loss: 3.4547 - val_loss: 3.4132\n",
      "Epoch 20/23\n",
      "60000/60000 [==============================] - 55s 911us/step - loss: 3.4585 - val_loss: 3.4042\n",
      "Epoch 21/23\n",
      "60000/60000 [==============================] - 55s 913us/step - loss: 3.4573 - val_loss: 3.3957\n",
      "Epoch 22/23\n",
      "60000/60000 [==============================] - 55s 914us/step - loss: 3.5016 - val_loss: 3.4387\n",
      "Epoch 23/23\n",
      "60000/60000 [==============================] - 55s 913us/step - loss: 3.5273 - val_loss: 3.4609\n"
     ]
    },
    {
     "data": {
      "text/plain": [
       "<keras.callbacks.History at 0x1b5eabdf358>"
      ]
     },
     "execution_count": 12,
     "metadata": {},
     "output_type": "execute_result"
    }
   ],
   "source": [
    "from keras.callbacks import TensorBoard,ModelCheckpoint    \n",
    "from time import time\n",
    "\n",
    "\n",
    "_,timesteps,input_dim=train.shape\n",
    "# Hyper paramters for network\n",
    "intermediate_dim = 512\n",
    "latent_dim = 128\n",
    "batch_size = 500\n",
    "vae, encoder, generator = create_lstm_vae(  input_dim, \n",
    "                                            timesteps, \n",
    "                                            batch_size, \n",
    "                                            intermediate_dim, \n",
    "                                            latent_dim,\n",
    "                                            epsilon_std=1.)\n",
    "# Hyper parmaeters for training\n",
    "batch_size = batch_size\n",
    "epochs = 23\n",
    "time=time()\n",
    "Name=\"tewst\"#f\"lat:{latent_dim}-inter:{intermediate_dim}-time{time}.\"\n",
    "os.getcwd()\n",
    "tensorboard = TensorBoard(log_dir=\"logs/\"+Name)\n",
    "modelcheckpoint = ModelCheckpoint(\"model/\"+Name+\"epo:{epoch:02d}-val_loss{val_loss:.2f}.hdf5\",monitor='val_loss', verbose=0, save_best_only=False, save_weights_only=False, mode='auto', period=1)\n",
    "callbacks =[tensorboard,modelcheckpoint]\n",
    "\n",
    "\n",
    "# Training with abs coord (intermediate_dim = 512) fairly succesfull up to 23 epochs\n",
    "                        #(latent_dim = 128)\n",
    "                        #(batch_size = 500)\n",
    "\n",
    "vae.fit( x = train, y = train, batch_size = batch_size , epochs = epochs, validation_data=(val, val),callbacks=callbacks)"
   ]
  },
  {
   "cell_type": "code",
   "execution_count": null,
   "metadata": {},
   "outputs": [],
   "source": [
    "vae.fit( x = train, y = train, batch_size = batch_size , epochs = epochs, validation_data=(val, val))"
   ]
  },
  {
   "cell_type": "code",
   "execution_count": 13,
   "metadata": {},
   "outputs": [],
   "source": [
    "from keras.models import load_model\n",
    "import keras.losses\n",
    "# VAE Z layer\n",
    "z_mean = Dense(latent_dim)\n",
    "z_log_sigma = Dense(latent_dim)\n",
    "def vae_loss(x, x_decoded_mean):\n",
    "    xent_loss = objectives.mse(x, x_decoded_mean)\n",
    "    kl_loss = - 0.5 * K.mean(1 + z_log_sigma - K.square(z_mean) - K.exp(z_log_sigma))\n",
    "    loss = xent_loss + kl_loss\n",
    "    return loss\n",
    "keras.losses.vae_loss = vae_loss\n",
    "#vae=load_model('model/latent_dim128-intermediate_dim512-time1540355769.8443556.weights-23-3.41.hdf5', custom_objects={'vae_loss': vae_loss})\n",
    "predicted=vae.predict(train[0:batch_size],batch_size=batch_size)\n"
   ]
  },
  {
   "cell_type": "code",
   "execution_count": 21,
   "metadata": {},
   "outputs": [
    {
     "data": {
      "image/png": "[encoded data removed]",
      "text/plain": [
       "<Figure size 432x288 with 1 Axes>"
      ]
     },
     "metadata": {
      "needs_background": "light"
     },
     "output_type": "display_data"
    },
    {
     "data": {
      "image/png": "[encoded data removed]",
      "text/plain": [
       "<Figure size 432x288 with 1 Axes>"
      ]
     },
     "metadata": {
      "needs_background": "light"
     },
     "output_type": "display_data"
    }
   ],
   "source": [
    "import matplotlib.pyplot as plt\n",
    "from keras.models import load_model\n",
    "b=89\n",
    "plt.close()\n",
    "predicted_abs=np.cumsum(predicted,axis=0)\n",
    "plt.subplot(211)\n",
    "#plt.plot(np.cumsum(predicted[b,:,0]), np.cumsum(predicted[b,:,1]), 'ro')\n",
    "plt.plot(predicted[b,:,0],predicted[b,:,1], 'ro')\n",
    "plt.axis('equal')\n",
    "plt.show()\n",
    "plt.subplot(212)\n",
    "#plt.plot(np.cumsum(train[b,:,0]), np.cumsum(train[b,:,1]), 'ro')\n",
    "plt.plot(train[b,:,0], train[b,:,1], 'ro')\n",
    "\n",
    "plt.axis('equal')\n",
    "plt.show()\n"
   ]
  },
  {
   "cell_type": "code",
   "execution_count": 10,
   "metadata": {},
   "outputs": [
    {
     "data": {
      "text/plain": [
       "'C:\\\\Users\\\\bjorn\\\\Documents\\\\Repositories\\\\DeepMachineLearning\\\\Project'"
      ]
     },
     "execution_count": 10,
     "metadata": {},
     "output_type": "execute_result"
    }
   ],
   "source": [
    "import os\n",
    "os.getcwd()"
   ]
  },
  {
   "cell_type": "code",
   "execution_count": null,
   "metadata": {},
   "outputs": [],
   "source": [
    "from time import time\n",
    "time=time()\n",
    "intermediate_dim = 512\n",
    "latent_dim = 64\n",
    "batch_size = 500\n",
    "Name=f\"latent_dim:{latent_dim}-intermediate_dim:{intermediate_dim}-batch_size:{batch_size}-time:{time}.\"\n",
    "print(Name)"
   ]
  },
  {
   "cell_type": "code",
   "execution_count": null,
   "metadata": {},
   "outputs": [],
   "source": [
    "def vae_loss(x, x_decoded_mean):\n",
    "    xent_loss = objectives.mse(x, x_decoded_mean)\n",
    "    kl_loss = - 0.5 * K.mean(1 + z_log_sigma - K.square(z_mean) - K.exp(z_log_sigma))\n",
    "    loss = xent_loss + kl_loss\n",
    "    return loss\n",
    "#vae=load_model('model/latent_dim128-intermediate_dim512-time1540355769.8443556.weights-23-3.41.hdf5')"
   ]
  },
  {
   "cell_type": "code",
   "execution_count": null,
   "metadata": {},
   "outputs": [],
   "source": []
  },
  {
   "cell_type": "code",
   "execution_count": null,
   "metadata": {},
   "outputs": [],
   "source": []
  }
 ],
 "metadata": {
  "kernelspec": {
   "display_name": "Python 3",
   "language": "python",
   "name": "python3"
  },
  "language_info": {
   "codemirror_mode": {
    "name": "ipython",
    "version": 3
   },
   "file_extension": ".py",
   "mimetype": "text/x-python",
   "name": "python",
   "nbconvert_exporter": "python",
   "pygments_lexer": "ipython3",
   "version": "3.6.6"
  }
 },
 "nbformat": 4,
 "nbformat_minor": 2
}
