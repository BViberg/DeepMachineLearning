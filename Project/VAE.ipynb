{
 "cells": [
  {
   "cell_type": "code",
   "execution_count": 1,
   "metadata": {},
   "outputs": [],
   "source": [
    "import numpy as np"
   ]
  },
  {
   "cell_type": "markdown",
   "metadata": {},
   "source": [
    "## Import data"
   ]
  },
  {
   "cell_type": "code",
   "execution_count": 28,
   "metadata": {},
   "outputs": [
    {
     "name": "stdout",
     "output_type": "stream",
     "text": [
      "(50000, 60, 2)\n",
      "(9000, 60, 2)\n"
     ]
    }
   ],
   "source": [
    "# Import data\n",
    "train = np.load('train_data_abs_coord_60.npy').astype(float)\n",
    "train=train[:50000,:,0:2]\n",
    "val = np.load('test_data_abs_coord_60.npy').astype(float)\n",
    "val=val[:9000,:,0:2]\n",
    "print((train.shape))\n",
    "print((val.shape))"
   ]
  },
  {
   "cell_type": "markdown",
   "metadata": {},
   "source": [
    "## Define VAE"
   ]
  },
  {
   "cell_type": "code",
   "execution_count": 14,
   "metadata": {},
   "outputs": [],
   "source": [
    "import keras\n",
    "from keras import backend as K\n",
    "from keras.models import Sequential, Model\n",
    "from keras.layers import Input, LSTM, CuDNNLSTM, RepeatVector\n",
    "from keras.layers.core import Flatten, Dense, Dropout, Lambda\n",
    "from keras.optimizers import SGD, RMSprop, Adam\n",
    "from keras import objectives\n",
    "\n",
    "\n",
    "def create_lstm_vae(input_dim, \n",
    "    timesteps, \n",
    "    batch_size, \n",
    "    intermediate_dim, \n",
    "    latent_dim,\n",
    "    epsilon_std=1.):\n",
    "\n",
    "    \"\"\"\n",
    "    Creates an LSTM Variational Autoencoder (VAE). Returns VAE, Encoder, Generator. \n",
    "    # Arguments\n",
    "        input_dim: int.\n",
    "        timesteps: int, input timestep dimension.\n",
    "        batch_size: int.\n",
    "        intermediate_dim: int, output shape of LSTM. \n",
    "        latent_dim: int, latent z-layer shape. \n",
    "        epsilon_std: float, z-layer sigma.\n",
    "    # References\n",
    "        - [Building Autoencoders in Keras](https://blog.keras.io/building-autoencoders-in-keras.html)\n",
    "        - [Generating sentences from a continuous space](https://arxiv.org/abs/1511.06349)\n",
    "    \"\"\"\n",
    "    x = Input(shape=(timesteps, input_dim,))\n",
    "\n",
    "    # LSTM encoding\n",
    "    h = CuDNNLSTM(intermediate_dim)(x)\n",
    "\n",
    "    # VAE Z layer\n",
    "    z_mean = Dense(latent_dim)(h)\n",
    "    z_log_sigma = Dense(latent_dim)(h)\n",
    "    \n",
    "    def sampling(args):\n",
    "        z_mean, z_log_sigma = args\n",
    "        epsilon = K.random_normal(shape=(batch_size, latent_dim),\n",
    "                                  mean=0., stddev=epsilon_std)\n",
    "        return z_mean + K.exp(z_log_sigma) * epsilon\n",
    "\n",
    "    # note that \"output_shape\" isn't necessary with the TensorFlow backend\n",
    "    # so you could write `Lambda(sampling)([z_mean, z_log_sigma])`\n",
    "    z = Lambda(sampling, output_shape=(latent_dim,))([z_mean, z_log_sigma])\n",
    "    \n",
    "    # decoded LSTM layer\n",
    "    decoder_h = CuDNNLSTM(intermediate_dim, return_sequences=True)\n",
    "    decoder_mean = LSTM(input_dim, return_sequences=True,activation='linear')\n",
    "\n",
    "    h_decoded = RepeatVector(timesteps)(z)\n",
    "    h_decoded = decoder_h(h_decoded)\n",
    "\n",
    "    # decoded layer\n",
    "    x_decoded_mean = decoder_mean(h_decoded)\n",
    "    \n",
    "    # end-to-end autoencoder\n",
    "    vae = Model(x, x_decoded_mean)\n",
    "\n",
    "    # encoder, from inputs to latent space\n",
    "    encoder = Model(x, z_mean)\n",
    "\n",
    "    # generator, from latent space to reconstructed inputs\n",
    "    decoder_input = Input(shape=(latent_dim,))\n",
    "\n",
    "    _h_decoded = RepeatVector(timesteps)(decoder_input)\n",
    "    _h_decoded = decoder_h(_h_decoded)\n",
    "\n",
    "    _x_decoded_mean = decoder_mean(_h_decoded)\n",
    "    generator = Model(decoder_input, _x_decoded_mean)\n",
    "    \n",
    "    def vae_loss(x, x_decoded_mean):\n",
    "        xent_loss = objectives.mse(x, x_decoded_mean)\n",
    "        kl_loss = - 0.5 * K.mean(1 + z_log_sigma - K.square(z_mean) - K.exp(z_log_sigma))\n",
    "        loss = xent_loss + kl_loss\n",
    "        return loss\n",
    "    opt=Adam(lr=0.0001)\n",
    "    vae.compile(optimizer=opt, loss=vae_loss)\n",
    "    \n",
    "    return vae, encoder, generator"
   ]
  },
  {
   "cell_type": "code",
   "execution_count": 30,
   "metadata": {
    "scrolled": false
   },
   "outputs": [
    {
     "name": "stdout",
     "output_type": "stream",
     "text": [
      "Train on 50000 samples, validate on 9000 samples\n",
      "Epoch 1/20\n",
      "50000/50000 [==============================] - 25s 491us/step - loss: 11.2633 - val_loss: 10.3863\n",
      "Epoch 2/20\n",
      "50000/50000 [==============================] - 23s 468us/step - loss: 9.6523 - val_loss: 8.7572\n",
      "Epoch 3/20\n",
      "50000/50000 [==============================] - 23s 468us/step - loss: 7.5207 - val_loss: 5.8804\n",
      "Epoch 4/20\n",
      "50000/50000 [==============================] - 23s 463us/step - loss: 5.5234 - val_loss: 4.9016\n",
      "Epoch 5/20\n",
      "50000/50000 [==============================] - 23s 465us/step - loss: 4.9693 - val_loss: 4.5332\n",
      "Epoch 6/20\n",
      "50000/50000 [==============================] - 24s 471us/step - loss: 4.6360 - val_loss: 4.3259\n",
      "Epoch 7/20\n",
      "50000/50000 [==============================] - 23s 470us/step - loss: 4.2808 - val_loss: 4.4719\n",
      "Epoch 8/20\n",
      "50000/50000 [==============================] - 24s 476us/step - loss: 4.1775 - val_loss: 4.0336\n",
      "Epoch 9/20\n",
      "50000/50000 [==============================] - 23s 469us/step - loss: 4.7193 - val_loss: 3.9245\n",
      "Epoch 10/20\n",
      "50000/50000 [==============================] - 23s 467us/step - loss: 3.8824 - val_loss: 3.7459\n",
      "Epoch 11/20\n",
      "50000/50000 [==============================] - 24s 484us/step - loss: 3.8614 - val_loss: 3.4359\n",
      "Epoch 12/20\n",
      "50000/50000 [==============================] - 24s 473us/step - loss: 3.4314 - val_loss: 3.2349\n",
      "Epoch 13/20\n",
      "50000/50000 [==============================] - 24s 473us/step - loss: 3.3860 - val_loss: 3.1311\n",
      "Epoch 14/20\n",
      "50000/50000 [==============================] - 24s 475us/step - loss: 3.1432 - val_loss: 2.9886\n",
      "Epoch 15/20\n",
      "50000/50000 [==============================] - 24s 472us/step - loss: 3.0202 - val_loss: 2.8744\n",
      "Epoch 16/20\n",
      "50000/50000 [==============================] - 24s 472us/step - loss: 2.9584 - val_loss: 2.8402\n",
      "Epoch 17/20\n",
      "50000/50000 [==============================] - 24s 475us/step - loss: 2.8493 - val_loss: 2.7271\n",
      "Epoch 18/20\n",
      "50000/50000 [==============================] - 24s 474us/step - loss: 2.8305 - val_loss: 2.6395\n",
      "Epoch 19/20\n",
      "50000/50000 [==============================] - 24s 481us/step - loss: 2.6637 - val_loss: 2.5675\n",
      "Epoch 20/20\n",
      "50000/50000 [==============================] - 25s 490us/step - loss: 2.6071 - val_loss: 2.5143\n"
     ]
    },
    {
     "data": {
      "text/plain": [
       "<keras.callbacks.History at 0x1906f85ea58>"
      ]
     },
     "execution_count": 30,
     "metadata": {},
     "output_type": "execute_result"
    }
   ],
   "source": [
    "from keras.callbacks import TensorBoard,ModelCheckpoint    \n",
    "from time import time\n",
    "\n",
    "\n",
    "_,timesteps,input_dim=train.shape\n",
    "# Hyper paramters for network\n",
    "intermediate_dim = 512\n",
    "latent_dim = 128\n",
    "batch_size = 500\n",
    "vae, encoder, generator = create_lstm_vae(  input_dim, \n",
    "                                            timesteps, \n",
    "                                            batch_size, \n",
    "                                            intermediate_dim, \n",
    "                                            latent_dim,\n",
    "                                            epsilon_std=1.)\n",
    "# Hyper parmaeters for training\n",
    "batch_size = batch_size\n",
    "epochs = 20\n",
    "time=time()\n",
    "Name=\"tewst\"#f\"lat:{latent_dim}-inter:{intermediate_dim}-time{time}.\"\n",
    "tensorboard = TensorBoard(log_dir=\"logs/\"+Name)\n",
    "modelcheckpoint = ModelCheckpoint(\"model/\"+Name+\"epo:{epoch:02d}-val_loss{val_loss:.2f}.hdf5\",monitor='val_loss', verbose=0, save_best_only=False, save_weights_only=False, mode='auto', period=1)\n",
    "callbacks =[tensorboard,modelcheckpoint]\n",
    "\n",
    "\n",
    "# Training with abs coord (intermediate_dim = 512) fairly succesfull up to 23 epochs. After investigation not true!\n",
    "                        #(latent_dim = 128)\n",
    "                        #(batch_size = 500)\n",
    "\n",
    "vae.fit( x = train, y = train, batch_size = batch_size , epochs = epochs, validation_data=(val, val),callbacks=callbacks)"
   ]
  },
  {
   "cell_type": "code",
   "execution_count": 48,
   "metadata": {},
   "outputs": [
    {
     "name": "stdout",
     "output_type": "stream",
     "text": [
      "Train on 50000 samples, validate on 9000 samples\n",
      "Epoch 1/40\n",
      "50000/50000 [==============================] - 23s 466us/step - loss: 1.7482 - val_loss: 1.7158\n",
      "Epoch 2/40\n",
      "50000/50000 [==============================] - 23s 457us/step - loss: 1.7946 - val_loss: 1.7033\n",
      "Epoch 3/40\n",
      "50000/50000 [==============================] - 23s 462us/step - loss: 1.7292 - val_loss: 1.7203\n",
      "Epoch 4/40\n",
      "50000/50000 [==============================] - 23s 460us/step - loss: 1.7229 - val_loss: 1.6896\n",
      "Epoch 5/40\n",
      "50000/50000 [==============================] - 23s 462us/step - loss: 1.7175 - val_loss: 1.7153\n",
      "Epoch 6/40\n",
      "50000/50000 [==============================] - 23s 462us/step - loss: 1.7249 - val_loss: 1.6730\n",
      "Epoch 7/40\n",
      "50000/50000 [==============================] - 23s 463us/step - loss: 1.7115 - val_loss: 1.7164\n",
      "Epoch 8/40\n",
      "50000/50000 [==============================] - 23s 465us/step - loss: 1.7180 - val_loss: 1.6622\n",
      "Epoch 9/40\n",
      "50000/50000 [==============================] - 23s 470us/step - loss: 1.6798 - val_loss: 1.6922\n",
      "Epoch 10/40\n",
      "50000/50000 [==============================] - 23s 465us/step - loss: 1.6795 - val_loss: 1.6507\n",
      "Epoch 11/40\n",
      "50000/50000 [==============================] - 23s 466us/step - loss: 1.7237 - val_loss: 1.7096\n",
      "Epoch 12/40\n",
      "50000/50000 [==============================] - 23s 465us/step - loss: 1.7368 - val_loss: 1.6636\n",
      "Epoch 13/40\n",
      "50000/50000 [==============================] - 23s 465us/step - loss: 1.6599 - val_loss: 1.6400\n",
      "Epoch 14/40\n",
      "50000/50000 [==============================] - 23s 467us/step - loss: 1.6484 - val_loss: 1.6259\n",
      "Epoch 15/40\n",
      "50000/50000 [==============================] - 23s 468us/step - loss: 1.6486 - val_loss: 1.6257\n",
      "Epoch 16/40\n",
      "50000/50000 [==============================] - 23s 464us/step - loss: 1.6402 - val_loss: 1.6084\n",
      "Epoch 17/40\n",
      "50000/50000 [==============================] - 23s 468us/step - loss: 1.6938 - val_loss: 1.6036\n",
      "Epoch 18/40\n",
      "50000/50000 [==============================] - 23s 467us/step - loss: 1.6272 - val_loss: 1.6001\n",
      "Epoch 19/40\n",
      "50000/50000 [==============================] - 23s 466us/step - loss: 1.6181 - val_loss: 1.5974\n",
      "Epoch 20/40\n",
      "50000/50000 [==============================] - 23s 468us/step - loss: 1.7094 - val_loss: 1.6041\n",
      "Epoch 21/40\n",
      "50000/50000 [==============================] - 23s 470us/step - loss: 1.6117 - val_loss: 1.5984\n",
      "Epoch 22/40\n",
      "50000/50000 [==============================] - 23s 468us/step - loss: 1.6073 - val_loss: 1.5868\n",
      "Epoch 23/40\n",
      "50000/50000 [==============================] - 23s 466us/step - loss: 1.5996 - val_loss: 1.5742\n",
      "Epoch 24/40\n",
      "50000/50000 [==============================] - 23s 468us/step - loss: 1.5901 - val_loss: 1.5761\n",
      "Epoch 25/40\n",
      "50000/50000 [==============================] - 23s 466us/step - loss: 1.6768 - val_loss: 1.5680\n",
      "Epoch 26/40\n",
      "50000/50000 [==============================] - 23s 468us/step - loss: 1.5837 - val_loss: 1.6037\n",
      "Epoch 27/40\n",
      "50000/50000 [==============================] - 23s 467us/step - loss: 1.5916 - val_loss: 1.5651\n",
      "Epoch 28/40\n",
      "50000/50000 [==============================] - 23s 467us/step - loss: 1.5690 - val_loss: 1.5493\n",
      "Epoch 29/40\n",
      "50000/50000 [==============================] - 23s 467us/step - loss: 1.5653 - val_loss: 1.5528\n",
      "Epoch 30/40\n",
      "50000/50000 [==============================] - 23s 468us/step - loss: 1.6065 - val_loss: 1.5640\n",
      "Epoch 31/40\n",
      "50000/50000 [==============================] - 23s 468us/step - loss: 1.5596 - val_loss: 1.5434\n",
      "Epoch 32/40\n",
      "50000/50000 [==============================] - 23s 468us/step - loss: 1.7030 - val_loss: 1.5607\n",
      "Epoch 33/40\n",
      "50000/50000 [==============================] - 23s 467us/step - loss: 1.5570 - val_loss: 1.5331\n",
      "Epoch 34/40\n",
      "50000/50000 [==============================] - 23s 468us/step - loss: 1.5445 - val_loss: 1.5295\n",
      "Epoch 35/40\n",
      "50000/50000 [==============================] - 23s 469us/step - loss: 1.5570 - val_loss: 1.5736\n",
      "Epoch 36/40\n",
      "50000/50000 [==============================] - 23s 468us/step - loss: 1.5386 - val_loss: 1.5275\n",
      "Epoch 37/40\n",
      "50000/50000 [==============================] - 23s 468us/step - loss: 1.5710 - val_loss: 1.7064\n",
      "Epoch 38/40\n",
      "50000/50000 [==============================] - 23s 468us/step - loss: 1.5808 - val_loss: 1.5145\n",
      "Epoch 39/40\n",
      "50000/50000 [==============================] - 23s 470us/step - loss: 1.5289 - val_loss: 1.5113\n",
      "Epoch 40/40\n",
      "50000/50000 [==============================] - 24s 471us/step - loss: 1.5263 - val_loss: 1.5084\n"
     ]
    },
    {
     "data": {
      "text/plain": [
       "<keras.callbacks.History at 0x1921d1ea278>"
      ]
     },
     "execution_count": 48,
     "metadata": {},
     "output_type": "execute_result"
    }
   ],
   "source": [
    "vae.fit( x = train, y = train, batch_size = batch_size , epochs = 40, validation_data=(val, val))"
   ]
  },
  {
   "cell_type": "code",
   "execution_count": 49,
   "metadata": {},
   "outputs": [],
   "source": [
    "from keras.models import load_model\n",
    "import keras.losses\n",
    "# VAE Z layer\n",
    "z_mean = Dense(latent_dim)\n",
    "z_log_sigma = Dense(latent_dim)\n",
    "def vae_loss(x, x_decoded_mean):\n",
    "    xent_loss = objectives.mse(x, x_decoded_mean)\n",
    "    kl_loss = - 0.5 * K.mean(1 + z_log_sigma - K.square(z_mean) - K.exp(z_log_sigma))\n",
    "    loss = xent_loss + kl_loss\n",
    "    return loss\n",
    "keras.losses.vae_loss = vae_loss\n",
    "#vae=load_model('model/latent_dim128-intermediate_dim512-time1540355769.8443556.weights-23-3.41.hdf5', custom_objects={'vae_loss': vae_loss})\n",
    "predicted_val=vae.predict(val,batch_size=batch_size)\n",
    "predicted_train=vae.predict(train,batch_size=batch_size)\n"
   ]
  },
  {
   "cell_type": "code",
   "execution_count": 50,
   "metadata": {},
   "outputs": [
    {
     "data": {
      "image/png": "[encoded data removed]",
      "text/plain": [
       "<Figure size 432x288 with 1 Axes>"
      ]
     },
     "metadata": {
      "needs_background": "light"
     },
     "output_type": "display_data"
    },
    {
     "data": {
      "image/png": "[encoded data removed]",
      "text/plain": [
       "<Figure size 432x288 with 1 Axes>"
      ]
     },
     "metadata": {
      "needs_background": "light"
     },
     "output_type": "display_data"
    }
   ],
   "source": [
    "import matplotlib.pyplot as plt\n",
    "from keras.models import load_model\n",
    "b=4\n",
    "plt.close()\n",
    "\n",
    "predicted_abs=np.cumsum(predicted,axis=0)\n",
    "plt.subplot(211)\n",
    "#plt.plot(np.cumsum(predicted[b,:,0]), np.cumsum(predicted[b,:,1]), 'ro')\n",
    "plt.plot(predicted[b,:,0],predicted[b,:,1], 'ro')\n",
    "plt.axis('equal')\n",
    "plt.show()\n",
    "plt.subplot(212)\n",
    "#plt.plot(np.cumsum(train[b,:,0]), np.cumsum(train[b,:,1]), 'ro')\n",
    "plt.plot(val[b,:,0], val[b,:,1], 'ro')\n",
    "\n",
    "plt.axis('equal')\n",
    "plt.show()\n"
   ]
  },
  {
   "cell_type": "code",
   "execution_count": 7,
   "metadata": {},
   "outputs": [
    {
     "data": {
      "text/plain": [
       "'C:\\\\Users\\\\bjorn\\\\Documents\\\\Repositories\\\\DeepMachineLearning\\\\Project'"
      ]
     },
     "execution_count": 7,
     "metadata": {},
     "output_type": "execute_result"
    }
   ],
   "source": [
    "import os\n",
    "os.getcwd()"
   ]
  },
  {
   "cell_type": "code",
   "execution_count": null,
   "metadata": {},
   "outputs": [],
   "source": [
    "from time import time\n",
    "time=time()\n",
    "intermediate_dim = 512\n",
    "latent_dim = 64\n",
    "batch_size = 500\n",
    "Name=f\"latent_dim:{latent_dim}-intermediate_dim:{intermediate_dim}-batch_size:{batch_size}-time:{time}.\"\n",
    "print(Name)"
   ]
  },
  {
   "cell_type": "code",
   "execution_count": null,
   "metadata": {},
   "outputs": [],
   "source": [
    "def vae_loss(x, x_decoded_mean):\n",
    "    xent_loss = objectives.mse(x, x_decoded_mean)\n",
    "    kl_loss = - 0.5 * K.mean(1 + z_log_sigma - K.square(z_mean) - K.exp(z_log_sigma))\n",
    "    loss = xent_loss + kl_loss\n",
    "    return loss\n",
    "#vae=load_model('model/latent_dim128-intermediate_dim512-time1540355769.8443556.weights-23-3.41.hdf5')"
   ]
  },
  {
   "cell_type": "code",
   "execution_count": 9,
   "metadata": {},
   "outputs": [
    {
     "name": "stdout",
     "output_type": "stream",
     "text": [
      "[ 0.  0.  0.  0.  0.  0.  0.  0.  0.  0.  0.  0.  0.  0.  0.  0.  0.  0.\n",
      "  0.  0.  0.  0.  0.  0.  0.  1.  1.  1.  1.  0.  1.  1.  1.  0.  0.  0.\n",
      "  1.  1.  0.  1.  1.  1.  1.  0.  1.  1.  0.  1.  0.  1.  0.  0.  0.  0.\n",
      " -1.  0. -9.  0.  0.  0.]\n"
     ]
    }
   ],
   "source": [
    "print(train[b,:,1])"
   ]
  },
  {
   "cell_type": "code",
   "execution_count": 51,
   "metadata": {},
   "outputs": [],
   "source": [
    "from time import time\n",
    "time=time()\n",
    "epochs =100\n",
    "Name=f\"lat{latent_dim}-inter{intermediate_dim}-epoch{epochs}.npy\"\n",
    "\n",
    "np.save(\"val_pred-abs-\"+Name,predicted_val)\n",
    "np.save(\"train_pred-abs-\"+Name,predicted_train)"
   ]
  },
  {
   "cell_type": "code",
   "execution_count": null,
   "metadata": {},
   "outputs": [],
   "source": []
  }
 ],
 "metadata": {
  "kernelspec": {
   "display_name": "Python 3",
   "language": "python",
   "name": "python3"
  },
  "language_info": {
   "codemirror_mode": {
    "name": "ipython",
    "version": 3
   },
   "file_extension": ".py",
   "mimetype": "text/x-python",
   "name": "python",
   "nbconvert_exporter": "python",
   "pygments_lexer": "ipython3",
   "version": "3.6.6"
  }
 },
 "nbformat": 4,
 "nbformat_minor": 2
}
