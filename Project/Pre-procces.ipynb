{
 "cells": [
  {
   "cell_type": "code",
   "execution_count": 1,
   "metadata": {},
   "outputs": [],
   "source": [
    "# For dealing with files\n",
    "import os\n",
    "import shutil\n",
    "from pathlib import Path\n",
    "# For saving data matrix\n",
    "import numpy as np\n",
    "import random\n",
    "\n",
    "# For normalising data\n",
    "from statistics import pstdev,mean\n",
    "# For using regex expressions\n",
    "import re"
   ]
  },
  {
   "cell_type": "code",
   "execution_count": 4,
   "metadata": {
    "scrolled": true
   },
   "outputs": [
    {
     "name": "stdout",
     "output_type": "stream",
     "text": [
      "0\n"
     ]
    },
    {
     "ename": "ValueError",
     "evalue": "Sample larger than population or is negative",
     "output_type": "error",
     "traceback": [
      "\u001b[1;31m---------------------------------------------------------------------------\u001b[0m",
      "\u001b[1;31mValueError\u001b[0m                                Traceback (most recent call last)",
      "\u001b[1;32m<ipython-input-4-43c20af2bd24>\u001b[0m in \u001b[0;36m<module>\u001b[1;34m\u001b[0m\n\u001b[0;32m     86\u001b[0m \u001b[1;33m\u001b[0m\u001b[0m\n\u001b[0;32m     87\u001b[0m \u001b[1;33m\u001b[0m\u001b[0m\n\u001b[1;32m---> 88\u001b[1;33m \u001b[0mtest_data_abs_coord\u001b[0m\u001b[1;33m,\u001b[0m \u001b[0mtest_hist_data\u001b[0m \u001b[1;33m=\u001b[0m \u001b[0mpreproces_data\u001b[0m\u001b[1;33m(\u001b[0m\u001b[0mall_test_filenames\u001b[0m\u001b[1;33m,\u001b[0m\u001b[0mabsolute_coord\u001b[0m\u001b[1;33m=\u001b[0m\u001b[1;32mTrue\u001b[0m\u001b[1;33m,\u001b[0m\u001b[0mmax_sequence_length\u001b[0m\u001b[1;33m=\u001b[0m\u001b[1;36m60\u001b[0m\u001b[1;33m)\u001b[0m\u001b[1;33m\u001b[0m\u001b[0m\n\u001b[0m\u001b[0;32m     89\u001b[0m \u001b[0mtrain_data_abs_coord\u001b[0m\u001b[1;33m,\u001b[0m \u001b[0mtrain_hist_data\u001b[0m \u001b[1;33m=\u001b[0m \u001b[0mpreproces_data\u001b[0m\u001b[1;33m(\u001b[0m\u001b[0mall_train_filenames\u001b[0m\u001b[1;33m,\u001b[0m\u001b[0mabsolute_coord\u001b[0m\u001b[1;33m=\u001b[0m\u001b[1;32mTrue\u001b[0m\u001b[1;33m,\u001b[0m\u001b[0mmax_sequence_length\u001b[0m\u001b[1;33m=\u001b[0m\u001b[1;36m60\u001b[0m\u001b[1;33m)\u001b[0m\u001b[1;33m\u001b[0m\u001b[0m\n\u001b[0;32m     90\u001b[0m \u001b[0mtest_data_rel_coord\u001b[0m\u001b[1;33m,\u001b[0m \u001b[0mtest_hist_data\u001b[0m \u001b[1;33m=\u001b[0m \u001b[0mpreproces_data\u001b[0m\u001b[1;33m(\u001b[0m\u001b[0mall_test_filenames\u001b[0m\u001b[1;33m,\u001b[0m\u001b[0mabsolute_coord\u001b[0m\u001b[1;33m=\u001b[0m\u001b[1;32mFalse\u001b[0m\u001b[1;33m,\u001b[0m\u001b[0mmax_sequence_length\u001b[0m\u001b[1;33m=\u001b[0m\u001b[1;36m60\u001b[0m\u001b[1;33m)\u001b[0m\u001b[1;33m\u001b[0m\u001b[0m\n",
      "\u001b[1;32m<ipython-input-4-43c20af2bd24>\u001b[0m in \u001b[0;36mpreproces_data\u001b[1;34m(filenames, absolute_coord, max_sequence_length)\u001b[0m\n\u001b[0;32m     60\u001b[0m                     \u001b[1;32mif\u001b[0m \u001b[0mpadding\u001b[0m\u001b[1;33m>\u001b[0m\u001b[0mlength_sequence\u001b[0m\u001b[1;33m:\u001b[0m\u001b[1;33m\u001b[0m\u001b[0m\n\u001b[0;32m     61\u001b[0m                         \u001b[0mrand_ix_tmp\u001b[0m \u001b[1;33m=\u001b[0m \u001b[0mrandom\u001b[0m\u001b[1;33m.\u001b[0m\u001b[0msample\u001b[0m\u001b[1;33m(\u001b[0m\u001b[0msample_range\u001b[0m\u001b[1;33m,\u001b[0m\u001b[0mlength_sequence\u001b[0m\u001b[1;33m-\u001b[0m\u001b[1;36m1\u001b[0m\u001b[1;33m)\u001b[0m\u001b[1;33m\u001b[0m\u001b[0m\n\u001b[1;32m---> 62\u001b[1;33m                         \u001b[0mrandy\u001b[0m \u001b[1;33m=\u001b[0m \u001b[0mrandom\u001b[0m\u001b[1;33m.\u001b[0m\u001b[0msample\u001b[0m\u001b[1;33m(\u001b[0m\u001b[0msample_range\u001b[0m\u001b[1;33m,\u001b[0m\u001b[0mpadding\u001b[0m\u001b[1;33m-\u001b[0m\u001b[0mlength_sequence\u001b[0m\u001b[1;33m)\u001b[0m\u001b[1;33m\u001b[0m\u001b[0m\n\u001b[0m\u001b[0;32m     63\u001b[0m                         \u001b[0mprint\u001b[0m\u001b[1;33m(\u001b[0m\u001b[0mpadding\u001b[0m\u001b[1;33m,\u001b[0m\u001b[0mlen\u001b[0m\u001b[1;33m(\u001b[0m\u001b[0mrand_ix_tmp\u001b[0m\u001b[1;33m)\u001b[0m\u001b[1;33m+\u001b[0m\u001b[0mlen\u001b[0m\u001b[1;33m(\u001b[0m\u001b[0mrandy\u001b[0m\u001b[1;33m)\u001b[0m\u001b[1;33m)\u001b[0m\u001b[1;33m\u001b[0m\u001b[0m\n\u001b[0;32m     64\u001b[0m                         \u001b[1;31m#print(length_sequence,rand_ix)\u001b[0m\u001b[1;33m\u001b[0m\u001b[1;33m\u001b[0m\u001b[0m\n",
      "\u001b[1;32m~\\AppData\\Local\\conda\\conda\\envs\\dml_gpu\\lib\\random.py\u001b[0m in \u001b[0;36msample\u001b[1;34m(self, population, k)\u001b[0m\n\u001b[0;32m    318\u001b[0m         \u001b[0mn\u001b[0m \u001b[1;33m=\u001b[0m \u001b[0mlen\u001b[0m\u001b[1;33m(\u001b[0m\u001b[0mpopulation\u001b[0m\u001b[1;33m)\u001b[0m\u001b[1;33m\u001b[0m\u001b[0m\n\u001b[0;32m    319\u001b[0m         \u001b[1;32mif\u001b[0m \u001b[1;32mnot\u001b[0m \u001b[1;36m0\u001b[0m \u001b[1;33m<=\u001b[0m \u001b[0mk\u001b[0m \u001b[1;33m<=\u001b[0m \u001b[0mn\u001b[0m\u001b[1;33m:\u001b[0m\u001b[1;33m\u001b[0m\u001b[0m\n\u001b[1;32m--> 320\u001b[1;33m             \u001b[1;32mraise\u001b[0m \u001b[0mValueError\u001b[0m\u001b[1;33m(\u001b[0m\u001b[1;34m\"Sample larger than population or is negative\"\u001b[0m\u001b[1;33m)\u001b[0m\u001b[1;33m\u001b[0m\u001b[0m\n\u001b[0m\u001b[0;32m    321\u001b[0m         \u001b[0mresult\u001b[0m \u001b[1;33m=\u001b[0m \u001b[1;33m[\u001b[0m\u001b[1;32mNone\u001b[0m\u001b[1;33m]\u001b[0m \u001b[1;33m*\u001b[0m \u001b[0mk\u001b[0m\u001b[1;33m\u001b[0m\u001b[0m\n\u001b[0;32m    322\u001b[0m         \u001b[0msetsize\u001b[0m \u001b[1;33m=\u001b[0m \u001b[1;36m21\u001b[0m        \u001b[1;31m# size of a small set minus size of an empty list\u001b[0m\u001b[1;33m\u001b[0m\u001b[0m\n",
      "\u001b[1;31mValueError\u001b[0m: Sample larger than population or is negative"
     ]
    }
   ],
   "source": [
    "# save where you currently are (for coming back afterwards)\n",
    "#old_path = path('C:\\Users\\bjorn\\Documents\\Repositories\\deep-machine-learning\\Project')\n",
    "old_path = os.getcwd()\n",
    "# cd to sequencec directory\n",
    "os.chdir('sequences')\n",
    "'''# Get a list of all filenames inside\n",
    "files = os.listdir()\n",
    "print(files[0:10])\n",
    "# Filter list using regex expressions\n",
    "r_testimg_inputdata = re.compile('testimg.*.inputdata.txt')\n",
    "r_trainimg_inputdata = re.compile('trainimg.*.inputdata.txt')\n",
    "print(type(r_testimg_inputdata))\n",
    "#all_train_filenames = list(filter(r_trainimg_inputdata.match, files))\n",
    "#all_test_filenames = list(filter(r_testimg_inputdata.match, files))'''\n",
    "\n",
    "# Fulhax galore pga pallar inte mer\n",
    "prefix_train='trainimg-'\n",
    "prefix_test='testimg-'\n",
    "suffix='-inputdata.txt'\n",
    "all_train_filenames = [prefix_train+str(i)+suffix for i in range(60000)]\n",
    "all_test_filenames = [prefix_test+str(i)+suffix for i in range(10000)]\n",
    "\n",
    "\n",
    "\n",
    "def preproces_data(filenames,absolute_coord=True,max_sequence_length=None):\n",
    "    if max_sequence_length==None:\n",
    "        max_sequence_length=117\n",
    "    # pre-allocate data matrix\n",
    "    nbrSequences=len(filenames)\n",
    "    nbr_features = 4      \n",
    "    data_tmp = np.empty((nbrSequences,max_sequence_length,nbr_features),dtype=np.int8)\n",
    "    hist_data = np.zeros(nbrSequences)\n",
    "    \n",
    "    # Counter to keep track of number of sequences shorter than 61\n",
    "    count_seq=0\n",
    "    \n",
    "    for sequnce_ix, file in enumerate(filenames):\n",
    "        list_of_sequence=open(file, 'r').readlines()\n",
    "        length_sequence = len(list_of_sequence)\n",
    "        if length_sequence<=max_sequence_length:\n",
    "            # How large padding is needed?\n",
    "            padding = max_sequence_length-length_sequence\n",
    "            count_seq+=1\n",
    "            hist_data[sequnce_ix]=length_sequence\n",
    "            if sequnce_ix%1000==0:\n",
    "                print(sequnce_ix)\n",
    "            tmp=np.empty((length_sequence,nbr_features))\n",
    "            for time_ix,row in enumerate(list_of_sequence):\n",
    "                (dx,dy,eos,eod) = [int(i) for i in row.split(' ')]\n",
    "                tmp[time_ix]=[dx,dy,eos,eod]\n",
    "            if absolute_coord:\n",
    "                tmp=np.cumsum(tmp,axis=0) # Transform to absolute coordinates\n",
    "                tmp_mean_x = mean(tmp[:,0])\n",
    "                tmp_mean_y = mean(tmp[:,1])\n",
    "                tmp[:,0] -= tmp_mean_x\n",
    "                tmp[:,1] -= tmp_mean_y\n",
    "                if padding>0:\n",
    "                    #Pick 'padding' number of random integers between 0 (inclusive) and length of sequence (exclusive)\n",
    "                    sample_range=range(length_sequence-1)\n",
    "                    if padding>length_sequence:\n",
    "                        rand_ix_tmp = random.sample(sample_range,length_sequence-1)\n",
    "                        randy = random.sample(sample_range,padding-length_sequence)\n",
    "                        print(padding,len(rand_ix_tmp)+len(randy))\n",
    "                        #print(length_sequence,rand_ix)\n",
    "                    random_ix = np.random.randint(0, high=length_sequence-1, size=padding)\n",
    "                    random_ix=np.sort(random_ix)[::-1]\n",
    "                    #print(random_ix)\n",
    "                    midpoints_to_insert = np.empty((len(random_ix),4))\n",
    "                    for counter_ix,padd_ix in enumerate(random_ix): # Loops in revere order to not interfer with later inserts\n",
    "                        (x1,x2) = tmp[padd_ix:padd_ix+2,0]\n",
    "                        (y1,y2) = tmp[padd_ix:padd_ix+2,1]\n",
    "                        midpoints_to_insert[counter_ix,:] = [(x1 + x2)/2,(y1 + y2)/2,0,0]    \n",
    "                    tmp=np.insert(tmp,random_ix+1,midpoints_to_insert, axis=0)\n",
    "                    \n",
    "                \n",
    "            else:\n",
    "                # Set start to origin for all numbers\n",
    "                tmp[0,0] = 0\n",
    "                tmp[0,1] = 0\n",
    "            data_tmp[sequnce_ix,-max_sequence_length:,:]=tmp.copy()\n",
    "    print(count_seq)\n",
    "    data = data_tmp[:count_seq,:,:]\n",
    "    print('Datan',data)\n",
    "    print('HIST Datan',hist_data)\n",
    "    return data,hist_data\n",
    "\n",
    "\n",
    "test_data_abs_coord, test_hist_data = preproces_data(all_test_filenames,absolute_coord=True,max_sequence_length=60)\n",
    "train_data_abs_coord, train_hist_data = preproces_data(all_train_filenames,absolute_coord=True,max_sequence_length=60)\n",
    "test_data_rel_coord, test_hist_data = preproces_data(all_test_filenames,absolute_coord=False,max_sequence_length=60)\n",
    "train_data_rel_coord, train_hist_data = preproces_data(all_train_filenames,absolute_coord=False,max_sequence_length=60)\n",
    "os.chdir(old_path)"
   ]
  },
  {
   "cell_type": "code",
   "execution_count": null,
   "metadata": {},
   "outputs": [],
   "source": [
    "import matplotlib.pyplot as plt\n",
    "print(test_data_rel_coord.shape)\n",
    "# An \"interface\" to matplotlib.axes.Axes.hist() method\n",
    "plt.subplot(1,2,1)\n",
    "n, bins, patches = plt.hist(x=test_hist_data, bins='auto', color='#0504aa',\n",
    "                            alpha=0.7, rwidth=0.85)\n",
    "plt.grid(axis='y', alpha=0.75)\n",
    "plt.xlabel('Value')\n",
    "plt.ylabel('Frequency')\n",
    "plt.title('test_hist_data')\n",
    "plt.text(23, 45, r'$\\mu=15, b=3$')\n",
    "maxfreq = n.max()\n",
    "# Set a clean upper y-axis limit.\n",
    "plt.ylim(ymax=np.ceil(maxfreq / 10) * 10 if maxfreq % 10 else maxfreq + 10)\n",
    "plt.subplot(1,2,2)\n",
    "n, bins, patches = plt.hist(x=train_hist_data, bins='auto', color='#0504aa',\n",
    "                            alpha=0.7, rwidth=0.85)\n",
    "plt.grid(axis='y', alpha=0.75)\n",
    "plt.xlabel('Value')\n",
    "plt.ylabel('Frequency')\n",
    "plt.title('train_hist_data')\n",
    "plt.text(23, 45, r'$\\mu=15, b=3$')\n",
    "maxfreq = n.max()\n",
    "# Set a clean upper y-axis limit.\n",
    "plt.ylim(ymax=np.ceil(maxfreq / 10) * 10 if maxfreq % 10 else maxfreq + 10)\n",
    "plt.show()"
   ]
  },
  {
   "cell_type": "code",
   "execution_count": null,
   "metadata": {},
   "outputs": [],
   "source": [
    "np.save('test_data_rel_coord_60.npy',test_data_rel_coord)\n",
    "np.save('train_data_rel_coord_60.npy',train_data_rel_coord)\n",
    "#np.save('test_data_abs_coord.npy',test_data_abs_coord)\n",
    "#np.save('train_data_abs_coord.npy',train_data_abs_coord)"
   ]
  },
  {
   "cell_type": "code",
   "execution_count": 3,
   "metadata": {},
   "outputs": [],
   "source": [
    "os.chdir(old_path)"
   ]
  },
  {
   "cell_type": "code",
   "execution_count": null,
   "metadata": {},
   "outputs": [],
   "source": []
  }
 ],
 "metadata": {
  "kernelspec": {
   "display_name": "Python 3",
   "language": "python",
   "name": "python3"
  },
  "language_info": {
   "codemirror_mode": {
    "name": "ipython",
    "version": 3
   },
   "file_extension": ".py",
   "mimetype": "text/x-python",
   "name": "python",
   "nbconvert_exporter": "python",
   "pygments_lexer": "ipython3",
   "version": "3.6.6"
  }
 },
 "nbformat": 4,
 "nbformat_minor": 2
}
